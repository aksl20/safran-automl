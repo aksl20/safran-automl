{
 "cells": [
  {
   "cell_type": "code",
   "execution_count": 61,
   "metadata": {},
   "outputs": [],
   "source": [
    "import torch\n",
    "import torch.nn as nn\n",
    "import torch.nn.functional as F\n",
    "from torch_geometric.data import DataLoader\n",
    "from torch.nn.modules.module import Module\n",
    "from torch_geometric.datasets import Planetoid\n",
    "import torch_geometric.transforms as T\n",
    "from torch_geometric.nn import GCNConv, GAE, VGAE\n",
    "from torch_geometric.utils import train_test_split_edges\n",
    "import torch.optim as optim\n",
    "import networkx as nx\n",
    "from pathlib import Path\n",
    "import sys\n",
    "\n",
    "project_path = Path().cwd().parent.parent\n",
    "model_path = project_path / 'model'\n",
    "data_path = project_path / 'data'"
   ]
  },
  {
   "cell_type": "code",
   "execution_count": 68,
   "metadata": {},
   "outputs": [],
   "source": [
    "kwargs = {'GAE': GAE, 'VGAE': VGAE}\n",
    "\n",
    "class Args():\n",
    "    def __init__(self, model, dataset):\n",
    "        self.model = model\n",
    "        self.dataset = dataset\n",
    "\n",
    "class Encoder(torch.nn.Module):\n",
    "    def __init__(self, in_channels, out_channels):\n",
    "        super(Encoder, self).__init__()\n",
    "        self.conv1 = GCNConv(in_channels, 2 * out_channels, cached=True)\n",
    "        if args.model in ['GAE']:\n",
    "            self.conv2 = GCNConv(2 * out_channels, out_channels, cached=True)\n",
    "        elif args.model in ['VGAE']:\n",
    "            self.conv_mu = GCNConv(2 * out_channels, out_channels, cached=True)\n",
    "            self.conv_logvar = GCNConv(2 * out_channels, out_channels,\n",
    "                                       cached=True)\n",
    "\n",
    "    def forward(self, x, edge_index):\n",
    "        x = F.relu(self.conv1(x, edge_index))\n",
    "        if args.model in ['GAE']:\n",
    "            return self.conv2(x, edge_index)\n",
    "        elif args.model in ['VGAE']:\n",
    "            return self.conv_mu(x, edge_index), self.conv_logvar(x, edge_index)\n",
    "\n",
    "args = Args(model='VGAE', dataset='Cora')\n",
    "dataset = Planetoid(str(data_path), args.dataset, transform=T.NormalizeFeatures())\n",
    "data = dataset[0]"
   ]
  },
  {
   "cell_type": "code",
   "execution_count": 69,
   "metadata": {},
   "outputs": [],
   "source": [
    "channels = 2\n",
    "dev = torch.device('cuda' if torch.cuda.is_available() else 'cpu')\n",
    "model = kwargs[args.model](Encoder(dataset.num_features, channels)).to(dev)\n",
    "data.train_mask = data.val_mask = data.test_mask = data.y = None\n",
    "data = train_test_split_edges(data)\n",
    "x, train_pos_edge_index = data.x.to(dev), data.train_pos_edge_index.to(dev)\n",
    "optimizer = torch.optim.Adam(model.parameters(), lr=0.01)"
   ]
  },
  {
   "cell_type": "code",
   "execution_count": 70,
   "metadata": {},
   "outputs": [
    {
     "output_type": "execute_result",
     "data": {
      "text/plain": "VGAE(\n  (encoder): Encoder(\n    (conv1): GCNConv(1433, 4)\n    (conv_mu): GCNConv(4, 2)\n    (conv_logvar): GCNConv(4, 2)\n  )\n  (decoder): InnerProductDecoder()\n)"
     },
     "metadata": {},
     "execution_count": 70
    }
   ],
   "source": [
    "model"
   ]
  },
  {
   "cell_type": "code",
   "execution_count": 71,
   "metadata": {},
   "outputs": [
    {
     "output_type": "stream",
     "name": "stdout",
     "text": "Epoch: 001, AUC: 0.6082, AP: 0.6339\nEpoch: 002, AUC: 0.6492, AP: 0.6757\nEpoch: 003, AUC: 0.6611, AP: 0.6850\nEpoch: 004, AUC: 0.6667, AP: 0.6896\nEpoch: 005, AUC: 0.6692, AP: 0.6915\nEpoch: 006, AUC: 0.6706, AP: 0.6931\nEpoch: 007, AUC: 0.6707, AP: 0.6939\nEpoch: 008, AUC: 0.6692, AP: 0.6943\nEpoch: 009, AUC: 0.6666, AP: 0.6940\nEpoch: 010, AUC: 0.6625, AP: 0.6921\nEpoch: 011, AUC: 0.6555, AP: 0.6888\nEpoch: 012, AUC: 0.6495, AP: 0.6855\nEpoch: 013, AUC: 0.6446, AP: 0.6822\nEpoch: 014, AUC: 0.6427, AP: 0.6805\n"
    }
   ],
   "source": [
    "def train():\n",
    "    model.train()\n",
    "    optimizer.zero_grad()\n",
    "    z = model.encode(x, train_pos_edge_index)\n",
    "    loss = model.recon_loss(z, train_pos_edge_index)\n",
    "    if args.model in ['VGAE']:\n",
    "        loss = loss + (1 / data.num_nodes) * model.kl_loss()\n",
    "    loss.backward()\n",
    "    optimizer.step()\n",
    "\n",
    "\n",
    "def test(pos_edge_index, neg_edge_index):\n",
    "    model.eval()\n",
    "    with torch.no_grad():\n",
    "        z = model.encode(x, train_pos_edge_index)\n",
    "    return model.test(z, pos_edge_index, neg_edge_index)\n",
    "\n",
    "\n",
    "for epoch in range(1, 15):\n",
    "    train()\n",
    "    auc, ap = test(data.test_pos_edge_index, data.test_neg_edge_index)\n",
    "    print('Epoch: {:03d}, AUC: {:.4f}, AP: {:.4f}'.format(epoch, auc, ap))"
   ]
  },
  {
   "cell_type": "code",
   "execution_count": null,
   "metadata": {},
   "outputs": [],
   "source": []
  }
 ],
 "metadata": {
  "language_info": {
   "codemirror_mode": {
    "name": "ipython",
    "version": 3
   },
   "file_extension": ".py",
   "mimetype": "text/x-python",
   "name": "python",
   "nbconvert_exporter": "python",
   "pygments_lexer": "ipython3",
   "version": "3.6.10-final"
  },
  "orig_nbformat": 2,
  "kernelspec": {
   "name": "python3",
   "display_name": "Python 3"
  }
 },
 "nbformat": 4,
 "nbformat_minor": 2
}