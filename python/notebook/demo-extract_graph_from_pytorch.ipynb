{
 "cells": [
  {
   "cell_type": "code",
   "execution_count": 1,
   "metadata": {},
   "outputs": [],
   "source": [
    "%load_ext autoreload\n",
    "%autoreload 2\n",
    "import torch\n",
    "from torch import nn, optim\n",
    "from torch.autograd import Variable\n",
    "from torch.nn import functional as F\n",
    "from nni.nas.pytorch import mutables\n",
    "from torchvision.datasets import CIFAR10\n",
    "from torchvision import transforms\n",
    "import numpy as np\n",
    "from copy import deepcopy\n",
    "from torchviz import make_dot\n",
    "from collections import OrderedDict\n",
    "from pathlib import Path\n",
    "from nni.nas.pytorch import enas\n",
    "import sys\n",
    "import re\n",
    "import scipy.sparse as sp\n",
    "\n",
    "project_path = Path.cwd().parent.parent\n",
    "data_path = project_path / 'data'\n",
    "src_path = project_path / 'python' / 'src'\n",
    "sys.path.append(str(src_path))\n",
    "\n",
    "from graph_generator import GraphGenerator\n",
    "import utils as g\n",
    "\n",
    "# remove scientific notation\n",
    "np.set_printoptions(suppress=True)"
   ]
  },
  {
   "cell_type": "markdown",
   "metadata": {},
   "source": [
    "The nni package from microsoft allow us to define the search space of our NAS algorithm (see this [link](https://github.com/microsoft/nni/blob/master/docs/en_US/NAS/NasGuide.md) for more details on the API of nni)."
   ]
  },
  {
   "cell_type": "code",
   "execution_count": 2,
   "metadata": {},
   "outputs": [],
   "source": [
    "def reward_accuracy(output, target, topk=(1,)):\n",
    "    batch_size = target.size(0)\n",
    "    _, predicted = torch.max(output.data, 1)\n",
    "    return (predicted == target).sum().item() / batch_size\n",
    "\n",
    "class Net(nn.Module):\n",
    "    def __init__(self):\n",
    "        super(Net, self).__init__()\n",
    "        # Output size must match, need to play with kernel_size and striding\n",
    "        self.conv1 = mutables.LayerChoice([\n",
    "            nn.Conv2d(in_channels=3, out_channels=32, \n",
    "                      kernel_size=3, stride=3),\n",
    "            nn.Conv2d(in_channels=3, out_channels=32, \n",
    "                      kernel_size=5, stride=3),\n",
    "        ])\n",
    "        self.relu1 = nn.ReLU()\n",
    "        self.batchnorm1 = nn.BatchNorm2d(32)\n",
    "        \n",
    "        self.conv2 = nn.Conv2d(in_channels=32, out_channels=64, \n",
    "                      kernel_size=5, stride=1)\n",
    "        self.relu2 = nn.ReLU()\n",
    "        self.batchnorm2 = nn.BatchNorm2d(64)\n",
    "        \n",
    "        # declaring that there is exactly one candidate to choose from\n",
    "        # search strategy will choose one or None\n",
    "        self.skipcon1 = mutables.InputChoice(n_candidates=1, key='relu2->relu3')\n",
    "        \n",
    "        self.conv3 = nn.Conv2d(in_channels=64, out_channels=64, \n",
    "                      kernel_size=1, stride=1)\n",
    "        self.relu3 = nn.ReLU()\n",
    "        self.batchnorm3 = nn.BatchNorm2d(64)\n",
    "        \n",
    "        self.maxpool3x3 = nn.MaxPool2d(kernel_size=3)\n",
    "        self.output = nn.Linear(in_features=256, out_features=10)\n",
    "            \n",
    "\n",
    "    def forward(self, x):\n",
    "        x = self.relu1(self.batchnorm1(self.conv1(x)))\n",
    "        x = self.relu2(self.batchnorm2(self.conv2(x)))\n",
    "        \n",
    "        # Open skipconnection\n",
    "        x1 = self.skipcon1([x])\n",
    "        \n",
    "        x = self.relu3(self.batchnorm3(self.conv3(x)))\n",
    "        \n",
    "        # A possible connection from conv2 is added to the output of conv3\n",
    "        if x1 is not None:\n",
    "            x += x1\n",
    "        \n",
    "        x = self.maxpool3x3(x)\n",
    "        x = torch.flatten(x, 1)\n",
    "        x = self.output(x)\n",
    "        output = F.log_softmax(x, dim=1)\n",
    "        return output"
   ]
  },
  {
   "cell_type": "markdown",
   "metadata": {},
   "source": [
    "Then, we do a single forward pass to generate the computationel graph for the network."
   ]
  },
  {
   "cell_type": "code",
   "execution_count": 3,
   "metadata": {
    "colab": {
     "base_uri": "https://localhost:8080/",
     "height": 881,
     "referenced_widgets": [
      "b8419cde07a44d058d5522283f3b76f1",
      "ac5588d52ff944cca5be3f4aebc0129d",
      "e2e59a38051e483bbbb1d13b72fa563c",
      "d35a80e88fab44068f7270aa63196bcf",
      "64b0a84c5e304a0fbc8d702a2a76080f",
      "26c538088f8b44ebb69ddee25dc7842a",
      "3bb483571e9447a7a8d800dcc9c1a3b7",
      "5d6293f1bda041a18cfb8f3557cba6e8"
     ]
    },
    "colab_type": "code",
    "executionInfo": {
     "elapsed": 23847,
     "status": "error",
     "timestamp": 1583442768041,
     "user": {
      "displayName": "Axel Camara",
      "photoUrl": "",
      "userId": "18360483532035067850"
     },
     "user_tz": -60
    },
    "id": "BXVBbQ5Dgvkf",
    "outputId": "13f07216-9968-4d8a-d7cf-edcae1f10bee"
   },
   "outputs": [
    {
     "output_type": "stream",
     "name": "stdout",
     "text": "Files already downloaded and verified\nFiles already downloaded and verified\n[04/25/2020, 07:45:09 PM] INFO (nni.nas.pytorch.trainer) Epoch 1 Training\n[04/25/2020, 07:45:10 PM] INFO (nni.nas.pytorch.enas.trainer) Model Epoch [1/1] Step [10/500]  acc1 0.296875 (0.167969)  loss 2.129469 (2.863054)\n[04/25/2020, 07:45:10 PM] INFO (nni.nas.pytorch.enas.trainer) Model Epoch [1/1] Step [20/500]  acc1 0.250000 (0.190234)  loss 2.456573 (2.773370)\n[04/25/2020, 07:45:11 PM] INFO (nni.nas.pytorch.enas.trainer) Model Epoch [1/1] Step [30/500]  acc1 0.195312 (0.202865)  loss 2.669607 (2.692786)\n[04/25/2020, 07:45:12 PM] INFO (nni.nas.pytorch.enas.trainer) Model Epoch [1/1] Step [40/500]  acc1 0.273438 (0.206836)  loss 2.245024 (2.668040)\n[04/25/2020, 07:45:13 PM] INFO (nni.nas.pytorch.enas.trainer) Model Epoch [1/1] Step [50/500]  acc1 0.304688 (0.211875)  loss 2.194370 (2.612613)\n[04/25/2020, 07:45:14 PM] INFO (nni.nas.pytorch.enas.trainer) Model Epoch [1/1] Step [60/500]  acc1 0.289062 (0.217708)  loss 2.270886 (2.549385)\n[04/25/2020, 07:45:14 PM] INFO (nni.nas.pytorch.enas.trainer) Model Epoch [1/1] Step [70/500]  acc1 0.273438 (0.230580)  loss 1.819342 (2.462328)\n[04/25/2020, 07:45:16 PM] INFO (nni.nas.pytorch.enas.trainer) Model Epoch [1/1] Step [80/500]  acc1 0.312500 (0.239063)  loss 1.790452 (2.397815)\n[04/25/2020, 07:45:17 PM] INFO (nni.nas.pytorch.enas.trainer) Model Epoch [1/1] Step [90/500]  acc1 0.296875 (0.245573)  loss 1.946629 (2.354131)\n[04/25/2020, 07:45:18 PM] INFO (nni.nas.pytorch.enas.trainer) Model Epoch [1/1] Step [100/500]  acc1 0.367188 (0.256094)  loss 1.817014 (2.304434)\n"
    },
    {
     "output_type": "error",
     "ename": "KeyboardInterrupt",
     "evalue": "",
     "traceback": [
      "\u001b[0;31m---------------------------------------------------------------------------\u001b[0m",
      "\u001b[0;31mKeyboardInterrupt\u001b[0m                         Traceback (most recent call last)",
      "\u001b[0;32m<ipython-input-3-7c7cb4723f4c>\u001b[0m in \u001b[0;36m<module>\u001b[0;34m\u001b[0m\n\u001b[1;32m     42\u001b[0m                            \u001b[0mdataset_valid\u001b[0m\u001b[0;34m=\u001b[0m\u001b[0mdataset_valid\u001b[0m\u001b[0;34m,\u001b[0m\u001b[0;34m\u001b[0m\u001b[0;34m\u001b[0m\u001b[0m\n\u001b[1;32m     43\u001b[0m                            log_frequency=10)  # print log every 10 steps\n\u001b[0;32m---> 44\u001b[0;31m \u001b[0mtrainer\u001b[0m\u001b[0;34m.\u001b[0m\u001b[0mtrain\u001b[0m\u001b[0;34m(\u001b[0m\u001b[0;34m)\u001b[0m  \u001b[0;31m# training\u001b[0m\u001b[0;34m\u001b[0m\u001b[0;34m\u001b[0m\u001b[0m\n\u001b[0m\u001b[1;32m     45\u001b[0m \u001b[0mtrainer\u001b[0m\u001b[0;34m.\u001b[0m\u001b[0mexport\u001b[0m\u001b[0;34m(\u001b[0m\u001b[0mfile\u001b[0m\u001b[0;34m=\u001b[0m\u001b[0;34m\"./final_architecture.json\"\u001b[0m\u001b[0;34m)\u001b[0m  \u001b[0;31m# export the final architecture to file\u001b[0m\u001b[0;34m\u001b[0m\u001b[0;34m\u001b[0m\u001b[0m\n",
      "\u001b[0;32m~/miniconda3/envs/automl/lib/python3.6/site-packages/nni/nas/pytorch/trainer.py\u001b[0m in \u001b[0;36mtrain\u001b[0;34m(self, validate)\u001b[0m\n\u001b[1;32m    135\u001b[0m             \u001b[0;31m# training\u001b[0m\u001b[0;34m\u001b[0m\u001b[0;34m\u001b[0m\u001b[0;34m\u001b[0m\u001b[0m\n\u001b[1;32m    136\u001b[0m             \u001b[0m_logger\u001b[0m\u001b[0;34m.\u001b[0m\u001b[0minfo\u001b[0m\u001b[0;34m(\u001b[0m\u001b[0;34m\"Epoch %d Training\"\u001b[0m\u001b[0;34m,\u001b[0m \u001b[0mepoch\u001b[0m \u001b[0;34m+\u001b[0m \u001b[0;36m1\u001b[0m\u001b[0;34m)\u001b[0m\u001b[0;34m\u001b[0m\u001b[0;34m\u001b[0m\u001b[0m\n\u001b[0;32m--> 137\u001b[0;31m             \u001b[0mself\u001b[0m\u001b[0;34m.\u001b[0m\u001b[0mtrain_one_epoch\u001b[0m\u001b[0;34m(\u001b[0m\u001b[0mepoch\u001b[0m\u001b[0;34m)\u001b[0m\u001b[0;34m\u001b[0m\u001b[0;34m\u001b[0m\u001b[0m\n\u001b[0m\u001b[1;32m    138\u001b[0m \u001b[0;34m\u001b[0m\u001b[0m\n\u001b[1;32m    139\u001b[0m             \u001b[0;32mif\u001b[0m \u001b[0mvalidate\u001b[0m\u001b[0;34m:\u001b[0m\u001b[0;34m\u001b[0m\u001b[0;34m\u001b[0m\u001b[0m\n",
      "\u001b[0;32m~/miniconda3/envs/automl/lib/python3.6/site-packages/nni/nas/pytorch/enas/trainer.py\u001b[0m in \u001b[0;36mtrain_one_epoch\u001b[0;34m(self, epoch)\u001b[0m\n\u001b[1;32m    137\u001b[0m             \u001b[0mloss\u001b[0m \u001b[0;34m=\u001b[0m \u001b[0mself\u001b[0m\u001b[0;34m.\u001b[0m\u001b[0mloss\u001b[0m\u001b[0;34m(\u001b[0m\u001b[0mlogits\u001b[0m\u001b[0;34m,\u001b[0m \u001b[0my\u001b[0m\u001b[0;34m)\u001b[0m\u001b[0;34m\u001b[0m\u001b[0;34m\u001b[0m\u001b[0m\n\u001b[1;32m    138\u001b[0m             \u001b[0mloss\u001b[0m \u001b[0;34m=\u001b[0m \u001b[0mloss\u001b[0m \u001b[0;34m+\u001b[0m \u001b[0mself\u001b[0m\u001b[0;34m.\u001b[0m\u001b[0maux_weight\u001b[0m \u001b[0;34m*\u001b[0m \u001b[0maux_loss\u001b[0m\u001b[0;34m\u001b[0m\u001b[0;34m\u001b[0m\u001b[0m\n\u001b[0;32m--> 139\u001b[0;31m             \u001b[0mloss\u001b[0m\u001b[0;34m.\u001b[0m\u001b[0mbackward\u001b[0m\u001b[0;34m(\u001b[0m\u001b[0;34m)\u001b[0m\u001b[0;34m\u001b[0m\u001b[0;34m\u001b[0m\u001b[0m\n\u001b[0m\u001b[1;32m    140\u001b[0m             \u001b[0mnn\u001b[0m\u001b[0;34m.\u001b[0m\u001b[0mutils\u001b[0m\u001b[0;34m.\u001b[0m\u001b[0mclip_grad_norm_\u001b[0m\u001b[0;34m(\u001b[0m\u001b[0mself\u001b[0m\u001b[0;34m.\u001b[0m\u001b[0mmodel\u001b[0m\u001b[0;34m.\u001b[0m\u001b[0mparameters\u001b[0m\u001b[0;34m(\u001b[0m\u001b[0;34m)\u001b[0m\u001b[0;34m,\u001b[0m \u001b[0;36m5.\u001b[0m\u001b[0;34m)\u001b[0m\u001b[0;34m\u001b[0m\u001b[0;34m\u001b[0m\u001b[0m\n\u001b[1;32m    141\u001b[0m             \u001b[0mself\u001b[0m\u001b[0;34m.\u001b[0m\u001b[0moptimizer\u001b[0m\u001b[0;34m.\u001b[0m\u001b[0mstep\u001b[0m\u001b[0;34m(\u001b[0m\u001b[0;34m)\u001b[0m\u001b[0;34m\u001b[0m\u001b[0;34m\u001b[0m\u001b[0m\n",
      "\u001b[0;32m~/miniconda3/envs/automl/lib/python3.6/site-packages/torch/tensor.py\u001b[0m in \u001b[0;36mbackward\u001b[0;34m(self, gradient, retain_graph, create_graph)\u001b[0m\n\u001b[1;32m    193\u001b[0m                 \u001b[0mproducts\u001b[0m\u001b[0;34m.\u001b[0m \u001b[0mDefaults\u001b[0m \u001b[0mto\u001b[0m\u001b[0;31m \u001b[0m\u001b[0;31m`\u001b[0m\u001b[0;31m`\u001b[0m\u001b[0;32mFalse\u001b[0m\u001b[0;31m`\u001b[0m\u001b[0;31m`\u001b[0m\u001b[0;34m.\u001b[0m\u001b[0;34m\u001b[0m\u001b[0;34m\u001b[0m\u001b[0m\n\u001b[1;32m    194\u001b[0m         \"\"\"\n\u001b[0;32m--> 195\u001b[0;31m         \u001b[0mtorch\u001b[0m\u001b[0;34m.\u001b[0m\u001b[0mautograd\u001b[0m\u001b[0;34m.\u001b[0m\u001b[0mbackward\u001b[0m\u001b[0;34m(\u001b[0m\u001b[0mself\u001b[0m\u001b[0;34m,\u001b[0m \u001b[0mgradient\u001b[0m\u001b[0;34m,\u001b[0m \u001b[0mretain_graph\u001b[0m\u001b[0;34m,\u001b[0m \u001b[0mcreate_graph\u001b[0m\u001b[0;34m)\u001b[0m\u001b[0;34m\u001b[0m\u001b[0;34m\u001b[0m\u001b[0m\n\u001b[0m\u001b[1;32m    196\u001b[0m \u001b[0;34m\u001b[0m\u001b[0m\n\u001b[1;32m    197\u001b[0m     \u001b[0;32mdef\u001b[0m \u001b[0mregister_hook\u001b[0m\u001b[0;34m(\u001b[0m\u001b[0mself\u001b[0m\u001b[0;34m,\u001b[0m \u001b[0mhook\u001b[0m\u001b[0;34m)\u001b[0m\u001b[0;34m:\u001b[0m\u001b[0;34m\u001b[0m\u001b[0;34m\u001b[0m\u001b[0m\n",
      "\u001b[0;32m~/miniconda3/envs/automl/lib/python3.6/site-packages/torch/autograd/__init__.py\u001b[0m in \u001b[0;36mbackward\u001b[0;34m(tensors, grad_tensors, retain_graph, create_graph, grad_variables)\u001b[0m\n\u001b[1;32m     97\u001b[0m     Variable._execution_engine.run_backward(\n\u001b[1;32m     98\u001b[0m         \u001b[0mtensors\u001b[0m\u001b[0;34m,\u001b[0m \u001b[0mgrad_tensors\u001b[0m\u001b[0;34m,\u001b[0m \u001b[0mretain_graph\u001b[0m\u001b[0;34m,\u001b[0m \u001b[0mcreate_graph\u001b[0m\u001b[0;34m,\u001b[0m\u001b[0;34m\u001b[0m\u001b[0;34m\u001b[0m\u001b[0m\n\u001b[0;32m---> 99\u001b[0;31m         allow_unreachable=True)  # allow_unreachable flag\n\u001b[0m\u001b[1;32m    100\u001b[0m \u001b[0;34m\u001b[0m\u001b[0m\n\u001b[1;32m    101\u001b[0m \u001b[0;34m\u001b[0m\u001b[0m\n",
      "\u001b[0;31mKeyboardInterrupt\u001b[0m: "
     ]
    }
   ],
   "source": [
    "use_cuda = False\n",
    "\n",
    "batch_size = 128\n",
    "seed = 42\n",
    "torch.manual_seed(seed)\n",
    "device = torch.device(\"cuda\" if use_cuda else \"cpu\")\n",
    "kwargs = {'num_workers': 1, 'pin_memory': True} if use_cuda else {}\n",
    "\n",
    "model = Net()\n",
    "mean, std = 0.1307, 0.3081\n",
    "\n",
    "dataset_train = CIFAR10(root=str(data_path), train=True, download=True, transform=transforms.Compose([\n",
    "                                 transforms.ToTensor(),\n",
    "                                 transforms.Normalize((mean,), (std,))                   \n",
    "                             ]))\n",
    "dataset_valid = CIFAR10(root=str(data_path), train=False, download=True, transform=transforms.Compose([\n",
    "                                 transforms.ToTensor(),\n",
    "                                 transforms.Normalize((mean,), (std,))\n",
    "                             ]))\n",
    "criterion = nn.CrossEntropyLoss()\n",
    "optimizer = torch.optim.SGD(model.parameters(), 0.05, momentum=0.9, weight_decay=1.0E-4)\n",
    "\n",
    "# use NAS here\n",
    "def top1_accuracy(output, target):\n",
    "    # this is the function that computes the reward, as required by ENAS algorithm\n",
    "    batch_size = target.size(0)\n",
    "    _, predicted = torch.max(output.data, 1)\n",
    "    return (predicted == target).sum().item() / batch_size\n",
    "\n",
    "def metrics_fn(output, target):\n",
    "    # metrics function receives output and target and computes a dict of metrics\n",
    "    return {\"acc1\": reward_accuracy(output, target)}\n",
    "\n",
    "trainer = enas.EnasTrainer(model,\n",
    "                           loss=criterion,\n",
    "                           metrics=metrics_fn,\n",
    "                           reward_function=top1_accuracy,\n",
    "                           optimizer=optimizer,\n",
    "                           batch_size=batch_size,\n",
    "                           num_epochs=1,  # 10 epochs\n",
    "                           dataset_train=dataset_train,\n",
    "                           dataset_valid=dataset_valid,\n",
    "                           log_frequency=10)  # print log every 10 steps\n",
    "trainer.train()  # training\n",
    "trainer.export(file=\"./final_architecture.json\")  # export the final architecture to file"
   ]
  },
  {
   "cell_type": "code",
   "execution_count": 6,
   "metadata": {
    "colab": {
     "base_uri": "https://localhost:8080/",
     "height": 1000
    },
    "colab_type": "code",
    "executionInfo": {
     "elapsed": 776,
     "status": "ok",
     "timestamp": 1583442780946,
     "user": {
      "displayName": "Axel Camara",
      "photoUrl": "",
      "userId": "18360483532035067850"
     },
     "user_tz": -60
    },
    "id": "ZlMMFc0QV8se",
    "outputId": "62c0d587-578f-4c81-9f4f-a07c8918f12b"
   },
   "outputs": [
    {
     "output_type": "execute_result",
     "data": {
      "text/plain": "<graphviz.dot.Digraph at 0x7f4593077128>",
      "image/svg+xml": "<?xml version=\"1.0\" encoding=\"UTF-8\" standalone=\"no\"?>\n<!DOCTYPE svg PUBLIC \"-//W3C//DTD SVG 1.1//EN\"\n \"http://www.w3.org/Graphics/SVG/1.1/DTD/svg11.dtd\">\n<!-- Generated by graphviz version 2.40.1 (20161225.0304)\n -->\n<!-- Title: %3 Pages: 1 -->\n<svg width=\"864pt\" height=\"731pt\"\n viewBox=\"0.00 0.00 864.00 730.66\" xmlns=\"http://www.w3.org/2000/svg\" xmlns:xlink=\"http://www.w3.org/1999/xlink\">\n<g id=\"graph0\" class=\"graph\" transform=\"scale(.836 .836) rotate(0) translate(4 870)\">\n<title>%3</title>\n<polygon fill=\"#ffffff\" stroke=\"transparent\" points=\"-4,4 -4,-870 1029.5,-870 1029.5,4 -4,4\"/>\n<!-- 139936796209784 -->\n<g id=\"node1\" class=\"node\">\n<title>139936796209784</title>\n<polygon fill=\"#caff70\" stroke=\"#000000\" points=\"910,-21 785,-21 785,0 910,0 910,-21\"/>\n<text text-anchor=\"middle\" x=\"847.5\" y=\"-7.4\" font-family=\"Times,serif\" font-size=\"12.00\" fill=\"#000000\">LogSoftmaxBackward</text>\n</g>\n<!-- 139936796209952 -->\n<g id=\"node2\" class=\"node\">\n<title>139936796209952</title>\n<polygon fill=\"#d3d3d3\" stroke=\"#000000\" points=\"899.5,-78 795.5,-78 795.5,-57 899.5,-57 899.5,-78\"/>\n<text text-anchor=\"middle\" x=\"847.5\" y=\"-64.4\" font-family=\"Times,serif\" font-size=\"12.00\" fill=\"#000000\">AddmmBackward</text>\n</g>\n<!-- 139936796209952&#45;&gt;139936796209784 -->\n<g id=\"edge1\" class=\"edge\">\n<title>139936796209952&#45;&gt;139936796209784</title>\n<path fill=\"none\" stroke=\"#000000\" d=\"M847.5,-56.7787C847.5,-49.6134 847.5,-39.9517 847.5,-31.3097\"/>\n<polygon fill=\"#000000\" stroke=\"#000000\" points=\"851.0001,-31.1732 847.5,-21.1732 844.0001,-31.1732 851.0001,-31.1732\"/>\n</g>\n<!-- 139939038867752 -->\n<g id=\"node3\" class=\"node\">\n<title>139939038867752</title>\n<polygon fill=\"#add8e6\" stroke=\"#000000\" points=\"783.5,-148 715.5,-148 715.5,-114 783.5,-114 783.5,-148\"/>\n<text text-anchor=\"middle\" x=\"749.5\" y=\"-134.4\" font-family=\"Times,serif\" font-size=\"12.00\" fill=\"#000000\">output.bias</text>\n<text text-anchor=\"middle\" x=\"749.5\" y=\"-121.4\" font-family=\"Times,serif\" font-size=\"12.00\" fill=\"#000000\"> (10)</text>\n</g>\n<!-- 139939038867752&#45;&gt;139936796209952 -->\n<g id=\"edge2\" class=\"edge\">\n<title>139939038867752&#45;&gt;139936796209952</title>\n<path fill=\"none\" stroke=\"#000000\" d=\"M775.7622,-113.9832C790.18,-104.641 807.9726,-93.1122 822.2309,-83.8734\"/>\n<polygon fill=\"#000000\" stroke=\"#000000\" points=\"824.5303,-86.554 831.0193,-78.1788 820.7238,-80.6794 824.5303,-86.554\"/>\n</g>\n<!-- 139936796210120 -->\n<g id=\"node4\" class=\"node\">\n<title>139936796210120</title>\n<polygon fill=\"#d3d3d3\" stroke=\"#000000\" points=\"893.5,-141.5 801.5,-141.5 801.5,-120.5 893.5,-120.5 893.5,-141.5\"/>\n<text text-anchor=\"middle\" x=\"847.5\" y=\"-127.9\" font-family=\"Times,serif\" font-size=\"12.00\" fill=\"#000000\">ViewBackward</text>\n</g>\n<!-- 139936796210120&#45;&gt;139936796209952 -->\n<g id=\"edge3\" class=\"edge\">\n<title>139936796210120&#45;&gt;139936796209952</title>\n<path fill=\"none\" stroke=\"#000000\" d=\"M847.5,-120.2281C847.5,-111.5091 847.5,-98.9699 847.5,-88.3068\"/>\n<polygon fill=\"#000000\" stroke=\"#000000\" points=\"851.0001,-88.1128 847.5,-78.1128 844.0001,-88.1129 851.0001,-88.1128\"/>\n</g>\n<!-- 139936796210400 -->\n<g id=\"node5\" class=\"node\">\n<title>139936796210400</title>\n<polygon fill=\"#d3d3d3\" stroke=\"#000000\" points=\"925,-211.5 744,-211.5 744,-190.5 925,-190.5 925,-211.5\"/>\n<text text-anchor=\"middle\" x=\"834.5\" y=\"-197.9\" font-family=\"Times,serif\" font-size=\"12.00\" fill=\"#000000\">MaxPool2DWithIndicesBackward</text>\n</g>\n<!-- 139936796210400&#45;&gt;139936796210120 -->\n<g id=\"edge4\" class=\"edge\">\n<title>139936796210400&#45;&gt;139936796210120</title>\n<path fill=\"none\" stroke=\"#000000\" d=\"M836.4744,-190.3685C838.3642,-180.1925 841.2673,-164.5606 843.6202,-151.8912\"/>\n<polygon fill=\"#000000\" stroke=\"#000000\" points=\"847.1222,-152.2025 845.507,-141.7315 840.2398,-150.9243 847.1222,-152.2025\"/>\n</g>\n<!-- 139936796210288 -->\n<g id=\"node6\" class=\"node\">\n<title>139936796210288</title>\n<polygon fill=\"#d3d3d3\" stroke=\"#000000\" points=\"881.5,-275 787.5,-275 787.5,-254 881.5,-254 881.5,-275\"/>\n<text text-anchor=\"middle\" x=\"834.5\" y=\"-261.4\" font-family=\"Times,serif\" font-size=\"12.00\" fill=\"#000000\">ReluBackward0</text>\n</g>\n<!-- 139936796210288&#45;&gt;139936796210400 -->\n<g id=\"edge5\" class=\"edge\">\n<title>139936796210288&#45;&gt;139936796210400</title>\n<path fill=\"none\" stroke=\"#000000\" d=\"M834.5,-253.7281C834.5,-245.0091 834.5,-232.4699 834.5,-221.8068\"/>\n<polygon fill=\"#000000\" stroke=\"#000000\" points=\"838.0001,-221.6128 834.5,-211.6128 831.0001,-221.6129 838.0001,-221.6128\"/>\n</g>\n<!-- 139936796210512 -->\n<g id=\"node7\" class=\"node\">\n<title>139936796210512</title>\n<polygon fill=\"#d3d3d3\" stroke=\"#000000\" points=\"910.5,-332 758.5,-332 758.5,-311 910.5,-311 910.5,-332\"/>\n<text text-anchor=\"middle\" x=\"834.5\" y=\"-318.4\" font-family=\"Times,serif\" font-size=\"12.00\" fill=\"#000000\">NativeBatchNormBackward</text>\n</g>\n<!-- 139936796210512&#45;&gt;139936796210288 -->\n<g id=\"edge6\" class=\"edge\">\n<title>139936796210512&#45;&gt;139936796210288</title>\n<path fill=\"none\" stroke=\"#000000\" d=\"M834.5,-310.7787C834.5,-303.6134 834.5,-293.9517 834.5,-285.3097\"/>\n<polygon fill=\"#000000\" stroke=\"#000000\" points=\"838.0001,-285.1732 834.5,-275.1732 831.0001,-285.1732 838.0001,-285.1732\"/>\n</g>\n<!-- 139937154727776 -->\n<g id=\"node8\" class=\"node\">\n<title>139937154727776</title>\n<polygon fill=\"#d3d3d3\" stroke=\"#000000\" points=\"762.5,-395.5 600.5,-395.5 600.5,-374.5 762.5,-374.5 762.5,-395.5\"/>\n<text text-anchor=\"middle\" x=\"681.5\" y=\"-381.9\" font-family=\"Times,serif\" font-size=\"12.00\" fill=\"#000000\">MkldnnConvolutionBackward</text>\n</g>\n<!-- 139937154727776&#45;&gt;139936796210512 -->\n<g id=\"edge7\" class=\"edge\">\n<title>139937154727776&#45;&gt;139936796210512</title>\n<path fill=\"none\" stroke=\"#000000\" d=\"M707.1088,-374.3715C732.449,-363.8545 771.4237,-347.6787 799.5906,-335.9886\"/>\n<polygon fill=\"#000000\" stroke=\"#000000\" points=\"801.1683,-339.1233 809.0627,-332.0573 798.4849,-332.658 801.1683,-339.1233\"/>\n</g>\n<!-- 139937154725144 -->\n<g id=\"node9\" class=\"node\">\n<title>139937154725144</title>\n<polygon fill=\"#d3d3d3\" stroke=\"#000000\" points=\"622.5,-465.5 528.5,-465.5 528.5,-444.5 622.5,-444.5 622.5,-465.5\"/>\n<text text-anchor=\"middle\" x=\"575.5\" y=\"-451.9\" font-family=\"Times,serif\" font-size=\"12.00\" fill=\"#000000\">ReluBackward0</text>\n</g>\n<!-- 139937154725144&#45;&gt;139937154727776 -->\n<g id=\"edge8\" class=\"edge\">\n<title>139937154725144&#45;&gt;139937154727776</title>\n<path fill=\"none\" stroke=\"#000000\" d=\"M591.5991,-444.3685C609.055,-432.841 637.1129,-414.3123 657.2416,-401.0197\"/>\n<polygon fill=\"#000000\" stroke=\"#000000\" points=\"659.1808,-403.9335 665.5967,-395.5022 655.3233,-398.0922 659.1808,-403.9335\"/>\n</g>\n<!-- 139935940321464 -->\n<g id=\"node10\" class=\"node\">\n<title>139935940321464</title>\n<polygon fill=\"#d3d3d3\" stroke=\"#000000\" points=\"651.5,-529 499.5,-529 499.5,-508 651.5,-508 651.5,-529\"/>\n<text text-anchor=\"middle\" x=\"575.5\" y=\"-515.4\" font-family=\"Times,serif\" font-size=\"12.00\" fill=\"#000000\">NativeBatchNormBackward</text>\n</g>\n<!-- 139935940321464&#45;&gt;139937154725144 -->\n<g id=\"edge9\" class=\"edge\">\n<title>139935940321464&#45;&gt;139937154725144</title>\n<path fill=\"none\" stroke=\"#000000\" d=\"M575.5,-507.7281C575.5,-499.0091 575.5,-486.4699 575.5,-475.8068\"/>\n<polygon fill=\"#000000\" stroke=\"#000000\" points=\"579.0001,-475.6128 575.5,-465.6128 572.0001,-475.6129 579.0001,-475.6128\"/>\n</g>\n<!-- 139935940321632 -->\n<g id=\"node11\" class=\"node\">\n<title>139935940321632</title>\n<polygon fill=\"#d3d3d3\" stroke=\"#000000\" points=\"503.5,-592.5 341.5,-592.5 341.5,-571.5 503.5,-571.5 503.5,-592.5\"/>\n<text text-anchor=\"middle\" x=\"422.5\" y=\"-578.9\" font-family=\"Times,serif\" font-size=\"12.00\" fill=\"#000000\">MkldnnConvolutionBackward</text>\n</g>\n<!-- 139935940321632&#45;&gt;139935940321464 -->\n<g id=\"edge10\" class=\"edge\">\n<title>139935940321632&#45;&gt;139935940321464</title>\n<path fill=\"none\" stroke=\"#000000\" d=\"M448.1088,-571.3715C473.449,-560.8545 512.4237,-544.6787 540.5906,-532.9886\"/>\n<polygon fill=\"#000000\" stroke=\"#000000\" points=\"542.1683,-536.1233 550.0627,-529.0573 539.4849,-529.658 542.1683,-536.1233\"/>\n</g>\n<!-- 139935940321688 -->\n<g id=\"node12\" class=\"node\">\n<title>139935940321688</title>\n<polygon fill=\"#d3d3d3\" stroke=\"#000000\" points=\"363.5,-662.5 269.5,-662.5 269.5,-641.5 363.5,-641.5 363.5,-662.5\"/>\n<text text-anchor=\"middle\" x=\"316.5\" y=\"-648.9\" font-family=\"Times,serif\" font-size=\"12.00\" fill=\"#000000\">ReluBackward0</text>\n</g>\n<!-- 139935940321688&#45;&gt;139935940321632 -->\n<g id=\"edge11\" class=\"edge\">\n<title>139935940321688&#45;&gt;139935940321632</title>\n<path fill=\"none\" stroke=\"#000000\" d=\"M332.5991,-641.3685C350.055,-629.841 378.1129,-611.3123 398.2416,-598.0197\"/>\n<polygon fill=\"#000000\" stroke=\"#000000\" points=\"400.1808,-600.9335 406.5967,-592.5022 396.3233,-595.0922 400.1808,-600.9335\"/>\n</g>\n<!-- 139935940321800 -->\n<g id=\"node13\" class=\"node\">\n<title>139935940321800</title>\n<polygon fill=\"#d3d3d3\" stroke=\"#000000\" points=\"392.5,-726 240.5,-726 240.5,-705 392.5,-705 392.5,-726\"/>\n<text text-anchor=\"middle\" x=\"316.5\" y=\"-712.4\" font-family=\"Times,serif\" font-size=\"12.00\" fill=\"#000000\">NativeBatchNormBackward</text>\n</g>\n<!-- 139935940321800&#45;&gt;139935940321688 -->\n<g id=\"edge12\" class=\"edge\">\n<title>139935940321800&#45;&gt;139935940321688</title>\n<path fill=\"none\" stroke=\"#000000\" d=\"M316.5,-704.7281C316.5,-696.0091 316.5,-683.4699 316.5,-672.8068\"/>\n<polygon fill=\"#000000\" stroke=\"#000000\" points=\"320.0001,-672.6128 316.5,-662.6128 313.0001,-672.6129 320.0001,-672.6128\"/>\n</g>\n<!-- 139935940321912 -->\n<g id=\"node14\" class=\"node\">\n<title>139935940321912</title>\n<polygon fill=\"#d3d3d3\" stroke=\"#000000\" points=\"244.5,-789.5 82.5,-789.5 82.5,-768.5 244.5,-768.5 244.5,-789.5\"/>\n<text text-anchor=\"middle\" x=\"163.5\" y=\"-775.9\" font-family=\"Times,serif\" font-size=\"12.00\" fill=\"#000000\">MkldnnConvolutionBackward</text>\n</g>\n<!-- 139935940321912&#45;&gt;139935940321800 -->\n<g id=\"edge13\" class=\"edge\">\n<title>139935940321912&#45;&gt;139935940321800</title>\n<path fill=\"none\" stroke=\"#000000\" d=\"M189.1088,-768.3715C214.449,-757.8545 253.4237,-741.6787 281.5906,-729.9886\"/>\n<polygon fill=\"#000000\" stroke=\"#000000\" points=\"283.1683,-733.1233 291.0627,-726.0573 280.4849,-726.658 283.1683,-733.1233\"/>\n</g>\n<!-- 139935940322024 -->\n<g id=\"node15\" class=\"node\">\n<title>139935940322024</title>\n<polygon fill=\"#add8e6\" stroke=\"#000000\" points=\"81,-866 0,-866 0,-832 81,-832 81,-866\"/>\n<text text-anchor=\"middle\" x=\"40.5\" y=\"-852.4\" font-family=\"Times,serif\" font-size=\"12.00\" fill=\"#000000\">input</text>\n<text text-anchor=\"middle\" x=\"40.5\" y=\"-839.4\" font-family=\"Times,serif\" font-size=\"12.00\" fill=\"#000000\"> (1, 3, 32, 32)</text>\n</g>\n<!-- 139935940322024&#45;&gt;139935940321912 -->\n<g id=\"edge14\" class=\"edge\">\n<title>139935940322024&#45;&gt;139935940321912</title>\n<path fill=\"none\" stroke=\"#000000\" d=\"M70.5892,-831.8761C90.5142,-820.5366 116.4521,-805.7752 135.857,-794.7318\"/>\n<polygon fill=\"#000000\" stroke=\"#000000\" points=\"137.8433,-797.6285 144.8033,-789.6404 134.381,-791.5447 137.8433,-797.6285\"/>\n</g>\n<!-- 139936796209280 -->\n<g id=\"node16\" class=\"node\">\n<title>139936796209280</title>\n<polygon fill=\"#add8e6\" stroke=\"#000000\" points=\"227.5,-866 99.5,-866 99.5,-832 227.5,-832 227.5,-866\"/>\n<text text-anchor=\"middle\" x=\"163.5\" y=\"-852.4\" font-family=\"Times,serif\" font-size=\"12.00\" fill=\"#000000\">conv1.choices.0.weight</text>\n<text text-anchor=\"middle\" x=\"163.5\" y=\"-839.4\" font-family=\"Times,serif\" font-size=\"12.00\" fill=\"#000000\"> (32, 3, 3, 3)</text>\n</g>\n<!-- 139936796209280&#45;&gt;139935940321912 -->\n<g id=\"edge15\" class=\"edge\">\n<title>139936796209280&#45;&gt;139935940321912</title>\n<path fill=\"none\" stroke=\"#000000\" d=\"M163.5,-831.6966C163.5,-822.0634 163.5,-810.003 163.5,-799.8518\"/>\n<polygon fill=\"#000000\" stroke=\"#000000\" points=\"167.0001,-799.7912 163.5,-789.7913 160.0001,-799.7913 167.0001,-799.7912\"/>\n</g>\n<!-- 139936796209336 -->\n<g id=\"node17\" class=\"node\">\n<title>139936796209336</title>\n<polygon fill=\"#add8e6\" stroke=\"#000000\" points=\"361,-866 246,-866 246,-832 361,-832 361,-866\"/>\n<text text-anchor=\"middle\" x=\"303.5\" y=\"-852.4\" font-family=\"Times,serif\" font-size=\"12.00\" fill=\"#000000\">conv1.choices.0.bias</text>\n<text text-anchor=\"middle\" x=\"303.5\" y=\"-839.4\" font-family=\"Times,serif\" font-size=\"12.00\" fill=\"#000000\"> (32)</text>\n</g>\n<!-- 139936796209336&#45;&gt;139935940321912 -->\n<g id=\"edge16\" class=\"edge\">\n<title>139936796209336&#45;&gt;139935940321912</title>\n<path fill=\"none\" stroke=\"#000000\" d=\"M269.2521,-831.8761C246.1609,-820.3305 215.9746,-805.2373 193.7663,-794.1331\"/>\n<polygon fill=\"#000000\" stroke=\"#000000\" points=\"195.2904,-790.9821 184.7808,-789.6404 192.1598,-797.2431 195.2904,-790.9821\"/>\n</g>\n<!-- 139939047587176 -->\n<g id=\"node18\" class=\"node\">\n<title>139939047587176</title>\n<polygon fill=\"#add8e6\" stroke=\"#000000\" points=\"370.5,-796 262.5,-796 262.5,-762 370.5,-762 370.5,-796\"/>\n<text text-anchor=\"middle\" x=\"316.5\" y=\"-782.4\" font-family=\"Times,serif\" font-size=\"12.00\" fill=\"#000000\">batchnorm1.weight</text>\n<text text-anchor=\"middle\" x=\"316.5\" y=\"-769.4\" font-family=\"Times,serif\" font-size=\"12.00\" fill=\"#000000\"> (32)</text>\n</g>\n<!-- 139939047587176&#45;&gt;139935940321800 -->\n<g id=\"edge17\" class=\"edge\">\n<title>139939047587176&#45;&gt;139935940321800</title>\n<path fill=\"none\" stroke=\"#000000\" d=\"M316.5,-761.9832C316.5,-754.1157 316.5,-744.6973 316.5,-736.4019\"/>\n<polygon fill=\"#000000\" stroke=\"#000000\" points=\"320.0001,-736.3686 316.5,-726.3687 313.0001,-736.3687 320.0001,-736.3686\"/>\n</g>\n<!-- 139939047587288 -->\n<g id=\"node19\" class=\"node\">\n<title>139939047587288</title>\n<polygon fill=\"#add8e6\" stroke=\"#000000\" points=\"484,-796 389,-796 389,-762 484,-762 484,-796\"/>\n<text text-anchor=\"middle\" x=\"436.5\" y=\"-782.4\" font-family=\"Times,serif\" font-size=\"12.00\" fill=\"#000000\">batchnorm1.bias</text>\n<text text-anchor=\"middle\" x=\"436.5\" y=\"-769.4\" font-family=\"Times,serif\" font-size=\"12.00\" fill=\"#000000\"> (32)</text>\n</g>\n<!-- 139939047587288&#45;&gt;139935940321800 -->\n<g id=\"edge18\" class=\"edge\">\n<title>139939047587288&#45;&gt;139935940321800</title>\n<path fill=\"none\" stroke=\"#000000\" d=\"M404.3422,-761.9832C386.1833,-752.3741 363.6526,-740.4516 345.9561,-731.0872\"/>\n<polygon fill=\"#000000\" stroke=\"#000000\" points=\"347.1563,-727.7625 336.6804,-726.1788 343.8822,-733.9496 347.1563,-727.7625\"/>\n</g>\n<!-- 139939038870384 -->\n<g id=\"node20\" class=\"node\">\n<title>139939038870384</title>\n<polygon fill=\"#add8e6\" stroke=\"#000000\" points=\"463,-669 382,-669 382,-635 463,-635 463,-669\"/>\n<text text-anchor=\"middle\" x=\"422.5\" y=\"-655.4\" font-family=\"Times,serif\" font-size=\"12.00\" fill=\"#000000\">conv2.weight</text>\n<text text-anchor=\"middle\" x=\"422.5\" y=\"-642.4\" font-family=\"Times,serif\" font-size=\"12.00\" fill=\"#000000\"> (64, 32, 5, 5)</text>\n</g>\n<!-- 139939038870384&#45;&gt;139935940321632 -->\n<g id=\"edge19\" class=\"edge\">\n<title>139939038870384&#45;&gt;139935940321632</title>\n<path fill=\"none\" stroke=\"#000000\" d=\"M422.5,-634.6966C422.5,-625.0634 422.5,-613.003 422.5,-602.8518\"/>\n<polygon fill=\"#000000\" stroke=\"#000000\" points=\"426.0001,-602.7912 422.5,-592.7913 419.0001,-602.7913 426.0001,-602.7912\"/>\n</g>\n<!-- 139939038869936 -->\n<g id=\"node21\" class=\"node\">\n<title>139939038869936</title>\n<polygon fill=\"#add8e6\" stroke=\"#000000\" points=\"549.5,-669 481.5,-669 481.5,-635 549.5,-635 549.5,-669\"/>\n<text text-anchor=\"middle\" x=\"515.5\" y=\"-655.4\" font-family=\"Times,serif\" font-size=\"12.00\" fill=\"#000000\">conv2.bias</text>\n<text text-anchor=\"middle\" x=\"515.5\" y=\"-642.4\" font-family=\"Times,serif\" font-size=\"12.00\" fill=\"#000000\"> (64)</text>\n</g>\n<!-- 139939038869936&#45;&gt;139935940321632 -->\n<g id=\"edge20\" class=\"edge\">\n<title>139939038869936&#45;&gt;139935940321632</title>\n<path fill=\"none\" stroke=\"#000000\" d=\"M492.5112,-634.6966C477.9899,-623.7666 459.3172,-609.7119 444.9084,-598.8666\"/>\n<polygon fill=\"#000000\" stroke=\"#000000\" points=\"446.6577,-595.8025 436.5631,-592.5852 442.448,-601.3953 446.6577,-595.8025\"/>\n</g>\n<!-- 139939038869824 -->\n<g id=\"node22\" class=\"node\">\n<title>139939038869824</title>\n<polygon fill=\"#add8e6\" stroke=\"#000000\" points=\"629.5,-599 521.5,-599 521.5,-565 629.5,-565 629.5,-599\"/>\n<text text-anchor=\"middle\" x=\"575.5\" y=\"-585.4\" font-family=\"Times,serif\" font-size=\"12.00\" fill=\"#000000\">batchnorm2.weight</text>\n<text text-anchor=\"middle\" x=\"575.5\" y=\"-572.4\" font-family=\"Times,serif\" font-size=\"12.00\" fill=\"#000000\"> (64)</text>\n</g>\n<!-- 139939038869824&#45;&gt;139935940321464 -->\n<g id=\"edge21\" class=\"edge\">\n<title>139939038869824&#45;&gt;139935940321464</title>\n<path fill=\"none\" stroke=\"#000000\" d=\"M575.5,-564.9832C575.5,-557.1157 575.5,-547.6973 575.5,-539.4019\"/>\n<polygon fill=\"#000000\" stroke=\"#000000\" points=\"579.0001,-539.3686 575.5,-529.3687 572.0001,-539.3687 579.0001,-539.3686\"/>\n</g>\n<!-- 139939038869432 -->\n<g id=\"node23\" class=\"node\">\n<title>139939038869432</title>\n<polygon fill=\"#add8e6\" stroke=\"#000000\" points=\"743,-599 648,-599 648,-565 743,-565 743,-599\"/>\n<text text-anchor=\"middle\" x=\"695.5\" y=\"-585.4\" font-family=\"Times,serif\" font-size=\"12.00\" fill=\"#000000\">batchnorm2.bias</text>\n<text text-anchor=\"middle\" x=\"695.5\" y=\"-572.4\" font-family=\"Times,serif\" font-size=\"12.00\" fill=\"#000000\"> (64)</text>\n</g>\n<!-- 139939038869432&#45;&gt;139935940321464 -->\n<g id=\"edge22\" class=\"edge\">\n<title>139939038869432&#45;&gt;139935940321464</title>\n<path fill=\"none\" stroke=\"#000000\" d=\"M663.3422,-564.9832C645.1833,-555.3741 622.6526,-543.4516 604.9561,-534.0872\"/>\n<polygon fill=\"#000000\" stroke=\"#000000\" points=\"606.1563,-530.7625 595.6804,-529.1788 602.8822,-536.9496 606.1563,-530.7625\"/>\n</g>\n<!-- 139939038870552 -->\n<g id=\"node24\" class=\"node\">\n<title>139939038870552</title>\n<polygon fill=\"#add8e6\" stroke=\"#000000\" points=\"722,-472 641,-472 641,-438 722,-438 722,-472\"/>\n<text text-anchor=\"middle\" x=\"681.5\" y=\"-458.4\" font-family=\"Times,serif\" font-size=\"12.00\" fill=\"#000000\">conv3.weight</text>\n<text text-anchor=\"middle\" x=\"681.5\" y=\"-445.4\" font-family=\"Times,serif\" font-size=\"12.00\" fill=\"#000000\"> (64, 64, 1, 1)</text>\n</g>\n<!-- 139939038870552&#45;&gt;139937154727776 -->\n<g id=\"edge23\" class=\"edge\">\n<title>139939038870552&#45;&gt;139937154727776</title>\n<path fill=\"none\" stroke=\"#000000\" d=\"M681.5,-437.6966C681.5,-428.0634 681.5,-416.003 681.5,-405.8518\"/>\n<polygon fill=\"#000000\" stroke=\"#000000\" points=\"685.0001,-405.7912 681.5,-395.7913 678.0001,-405.7913 685.0001,-405.7912\"/>\n</g>\n<!-- 139939038870496 -->\n<g id=\"node25\" class=\"node\">\n<title>139939038870496</title>\n<polygon fill=\"#add8e6\" stroke=\"#000000\" points=\"808.5,-472 740.5,-472 740.5,-438 808.5,-438 808.5,-472\"/>\n<text text-anchor=\"middle\" x=\"774.5\" y=\"-458.4\" font-family=\"Times,serif\" font-size=\"12.00\" fill=\"#000000\">conv3.bias</text>\n<text text-anchor=\"middle\" x=\"774.5\" y=\"-445.4\" font-family=\"Times,serif\" font-size=\"12.00\" fill=\"#000000\"> (64)</text>\n</g>\n<!-- 139939038870496&#45;&gt;139937154727776 -->\n<g id=\"edge24\" class=\"edge\">\n<title>139939038870496&#45;&gt;139937154727776</title>\n<path fill=\"none\" stroke=\"#000000\" d=\"M751.5112,-437.6966C736.9899,-426.7666 718.3172,-412.7119 703.9084,-401.8666\"/>\n<polygon fill=\"#000000\" stroke=\"#000000\" points=\"705.6577,-398.8025 695.5631,-395.5852 701.448,-404.3953 705.6577,-398.8025\"/>\n</g>\n<!-- 139939038870104 -->\n<g id=\"node26\" class=\"node\">\n<title>139939038870104</title>\n<polygon fill=\"#add8e6\" stroke=\"#000000\" points=\"888.5,-402 780.5,-402 780.5,-368 888.5,-368 888.5,-402\"/>\n<text text-anchor=\"middle\" x=\"834.5\" y=\"-388.4\" font-family=\"Times,serif\" font-size=\"12.00\" fill=\"#000000\">batchnorm3.weight</text>\n<text text-anchor=\"middle\" x=\"834.5\" y=\"-375.4\" font-family=\"Times,serif\" font-size=\"12.00\" fill=\"#000000\"> (64)</text>\n</g>\n<!-- 139939038870104&#45;&gt;139936796210512 -->\n<g id=\"edge25\" class=\"edge\">\n<title>139939038870104&#45;&gt;139936796210512</title>\n<path fill=\"none\" stroke=\"#000000\" d=\"M834.5,-367.9832C834.5,-360.1157 834.5,-350.6973 834.5,-342.4019\"/>\n<polygon fill=\"#000000\" stroke=\"#000000\" points=\"838.0001,-342.3686 834.5,-332.3687 831.0001,-342.3687 838.0001,-342.3686\"/>\n</g>\n<!-- 139939038870160 -->\n<g id=\"node27\" class=\"node\">\n<title>139939038870160</title>\n<polygon fill=\"#add8e6\" stroke=\"#000000\" points=\"1002,-402 907,-402 907,-368 1002,-368 1002,-402\"/>\n<text text-anchor=\"middle\" x=\"954.5\" y=\"-388.4\" font-family=\"Times,serif\" font-size=\"12.00\" fill=\"#000000\">batchnorm3.bias</text>\n<text text-anchor=\"middle\" x=\"954.5\" y=\"-375.4\" font-family=\"Times,serif\" font-size=\"12.00\" fill=\"#000000\"> (64)</text>\n</g>\n<!-- 139939038870160&#45;&gt;139936796210512 -->\n<g id=\"edge26\" class=\"edge\">\n<title>139939038870160&#45;&gt;139936796210512</title>\n<path fill=\"none\" stroke=\"#000000\" d=\"M922.3422,-367.9832C904.1833,-358.3741 881.6526,-346.4516 863.9561,-337.0872\"/>\n<polygon fill=\"#000000\" stroke=\"#000000\" points=\"865.1563,-333.7625 854.6804,-332.1788 861.8822,-339.9496 865.1563,-333.7625\"/>\n</g>\n<!-- 139936796210176 -->\n<g id=\"node28\" class=\"node\">\n<title>139936796210176</title>\n<polygon fill=\"#d3d3d3\" stroke=\"#000000\" points=\"1009,-141.5 936,-141.5 936,-120.5 1009,-120.5 1009,-141.5\"/>\n<text text-anchor=\"middle\" x=\"972.5\" y=\"-127.9\" font-family=\"Times,serif\" font-size=\"12.00\" fill=\"#000000\">TBackward</text>\n</g>\n<!-- 139936796210176&#45;&gt;139936796209952 -->\n<g id=\"edge27\" class=\"edge\">\n<title>139936796210176&#45;&gt;139936796209952</title>\n<path fill=\"none\" stroke=\"#000000\" d=\"M951.5778,-120.3715C931.2977,-110.0692 900.3286,-94.3369 877.4412,-82.7101\"/>\n<polygon fill=\"#000000\" stroke=\"#000000\" points=\"878.9912,-79.5719 868.4904,-78.1631 875.8208,-85.8128 878.9912,-79.5719\"/>\n</g>\n<!-- 139939038869152 -->\n<g id=\"node29\" class=\"node\">\n<title>139939038869152</title>\n<polygon fill=\"#add8e6\" stroke=\"#000000\" points=\"1025.5,-218 943.5,-218 943.5,-184 1025.5,-184 1025.5,-218\"/>\n<text text-anchor=\"middle\" x=\"984.5\" y=\"-204.4\" font-family=\"Times,serif\" font-size=\"12.00\" fill=\"#000000\">output.weight</text>\n<text text-anchor=\"middle\" x=\"984.5\" y=\"-191.4\" font-family=\"Times,serif\" font-size=\"12.00\" fill=\"#000000\"> (10, 256)</text>\n</g>\n<!-- 139939038869152&#45;&gt;139936796210176 -->\n<g id=\"edge28\" class=\"edge\">\n<title>139939038869152&#45;&gt;139936796210176</title>\n<path fill=\"none\" stroke=\"#000000\" d=\"M981.5337,-183.6966C979.8823,-174.0634 977.8148,-162.003 976.0746,-151.8518\"/>\n<polygon fill=\"#000000\" stroke=\"#000000\" points=\"979.4893,-151.0561 974.3499,-141.7913 972.59,-152.2389 979.4893,-151.0561\"/>\n</g>\n</g>\n</svg>\n"
     },
     "metadata": {},
     "execution_count": 6
    }
   ],
   "source": [
    "x = torch.Tensor(dataset_train.data[0].reshape((1, 3, 32, 32))).requires_grad_(True)\n",
    "y = model(x)\n",
    "y.requires_grad_(True)\n",
    "dot = make_dot(y, params=dict([('output', y)] + list(model.named_parameters()) + [('input', x)]))\n",
    "dot"
   ]
  },
  {
   "cell_type": "markdown",
   "metadata": {},
   "source": [
    "### Graph representation"
   ]
  },
  {
   "cell_type": "markdown",
   "metadata": {},
   "source": [
    "__Goal__: In this section, we want to parse a graph generated by pytorch. Pytorch provided a graph as a list of module but in order to manipulate this graph that represent a network architecture, we need to have acces to its basical attributes such as :\n",
    "- the adjacency matrix\n",
    "- the list of nodes\n",
    "- A matrix that encode paramaters of each graph's nodes.\n",
    "\n",
    "__Experimentation__: Code functions that enable user to parse a list of pytorch modules in order to get basical graph's attributs."
   ]
  },
  {
   "cell_type": "code",
   "execution_count": 7,
   "metadata": {},
   "outputs": [
    {
     "output_type": "execute_result",
     "data": {
      "text/plain": "[('input', torch.Size([1, 3, 32, 32])),\n ('conv1', conv1 (LayerChoice1)),\n ('conv1.choices',\n  ModuleList(\n    (0): Conv2d(3, 32, kernel_size=(3, 3), stride=(3, 3))\n    (1): Conv2d(3, 32, kernel_size=(5, 5), stride=(3, 3))\n  )),\n ('conv1.choices.0', Conv2d(3, 32, kernel_size=(3, 3), stride=(3, 3))),\n ('conv1.choices.1', Conv2d(3, 32, kernel_size=(5, 5), stride=(3, 3))),\n ('relu1', ReLU()),\n ('batchnorm1',\n  BatchNorm2d(32, eps=1e-05, momentum=0.1, affine=True, track_running_stats=True)),\n ('conv2', Conv2d(32, 64, kernel_size=(5, 5), stride=(1, 1))),\n ('relu2', ReLU()),\n ('batchnorm2',\n  BatchNorm2d(64, eps=1e-05, momentum=0.1, affine=True, track_running_stats=True)),\n ('skipcon1', skipcon1 (relu2->relu3)),\n ('conv3', Conv2d(64, 64, kernel_size=(1, 1), stride=(1, 1))),\n ('relu3', ReLU()),\n ('batchnorm3',\n  BatchNorm2d(64, eps=1e-05, momentum=0.1, affine=True, track_running_stats=True)),\n ('maxpool3x3',\n  MaxPool2d(kernel_size=3, stride=3, padding=0, dilation=1, ceil_mode=False)),\n ('output', Linear(in_features=256, out_features=10, bias=True)),\n ('output', torch.Size([1, 10]))]"
     },
     "metadata": {},
     "execution_count": 7
    }
   ],
   "source": [
    "# Example of a list of modules\n",
    "modules = [('input', x.shape)] + list(model.named_modules())[1:] + [('output', y.shape)]\n",
    "modules"
   ]
  },
  {
   "cell_type": "code",
   "execution_count": 136,
   "metadata": {},
   "outputs": [],
   "source": [
    "graph_generator = GraphGenerator()\n",
    "graph_generator.parse_modules(modules)\n",
    "graph_skipcon = graph_generator.generate()"
   ]
  },
  {
   "cell_type": "code",
   "execution_count": 137,
   "metadata": {},
   "outputs": [
    {
     "output_type": "execute_result",
     "data": {
      "text/plain": "{0: ('input', 'torch.Size([1, 3, 32, 32])'),\n 1: array(['conv1.choices',\n        'Conv2d(3, 32, kernel_size=(3, 3), stride=(3, 3))'], dtype='<U48'),\n 2: ('relu1', 'ReLU()'),\n 3: ('batchnorm1',\n  'BatchNorm2d(32, eps=1e-05, momentum=0.1, affine=True, track_running_stats=True)'),\n 4: ('conv2', 'Conv2d(32, 64, kernel_size=(5, 5), stride=(1, 1))'),\n 5: ('relu2', 'ReLU()'),\n 6: ('batchnorm2',\n  'BatchNorm2d(64, eps=1e-05, momentum=0.1, affine=True, track_running_stats=True)'),\n 'skipcon1': 'skipcon1 (relu2->relu3)',\n 7: ('conv3', 'Conv2d(64, 64, kernel_size=(1, 1), stride=(1, 1))'),\n 8: ('relu3', 'ReLU()'),\n 9: ('batchnorm3',\n  'BatchNorm2d(64, eps=1e-05, momentum=0.1, affine=True, track_running_stats=True)'),\n 10: ('maxpool3x3',\n  'MaxPool2d(kernel_size=3, stride=3, padding=0, dilation=1, ceil_mode=False)'),\n 11: ('output', 'Linear(in_features=256, out_features=10, bias=True)'),\n 12: ('output', 'torch.Size([1, 10])')}"
     },
     "metadata": {},
     "execution_count": 137
    }
   ],
   "source": [
    "graph_skipcon"
   ]
  },
  {
   "cell_type": "code",
   "execution_count": 147,
   "metadata": {},
   "outputs": [
    {
     "output_type": "execute_result",
     "data": {
      "text/plain": "{0: ('input', 'torch.Size([1, 3, 32, 32])'),\n 1: array(['conv1.choices',\n        'Conv2d(3, 32, kernel_size=(3, 3), stride=(3, 3))'], dtype='<U48'),\n 2: ('relu1', 'ReLU()'),\n 3: ('batchnorm1',\n  'BatchNorm2d(32, eps=1e-05, momentum=0.1, affine=True, track_running_stats=True)'),\n 4: ('conv2', 'Conv2d(32, 64, kernel_size=(5, 5), stride=(1, 1))'),\n 5: ('relu2', 'ReLU()'),\n 6: ('batchnorm2',\n  'BatchNorm2d(64, eps=1e-05, momentum=0.1, affine=True, track_running_stats=True)'),\n 7: ('conv3', 'Conv2d(64, 64, kernel_size=(1, 1), stride=(1, 1))'),\n 8: ('relu3', 'ReLU()'),\n 9: ('batchnorm3',\n  'BatchNorm2d(64, eps=1e-05, momentum=0.1, affine=True, track_running_stats=True)'),\n 10: ('maxpool3x3',\n  'MaxPool2d(kernel_size=3, stride=3, padding=0, dilation=1, ceil_mode=False)'),\n 11: ('output', 'Linear(in_features=256, out_features=10, bias=True)'),\n 12: ('output', 'torch.Size([1, 10])')}"
     },
     "metadata": {},
     "execution_count": 147
    }
   ],
   "source": [
    "graph_without_skipcon = graph_generator.generate()\n",
    "graph_without_skipcon"
   ]
  },
  {
   "cell_type": "code",
   "execution_count": 148,
   "metadata": {
    "colab": {},
    "colab_type": "code",
    "id": "iUu6XBMfTmvp"
   },
   "outputs": [
    {
     "output_type": "execute_result",
     "data": {
      "text/plain": "{'adjacency': <13x13 sparse matrix of type '<class 'numpy.float32'>'\n \twith 12 stored elements in COOrdinate format>,\n 'edges': array([[ 0,  1],\n        [ 1,  2],\n        [ 2,  3],\n        [ 3,  4],\n        [ 4,  5],\n        [ 5,  6],\n        [ 6,  7],\n        [ 7,  8],\n        [ 8,  9],\n        [ 9, 10],\n        [10, 11],\n        [11, 12]]),\n 'features': None,\n 'nodes': [(0, 'torch.Size([1, 3, 32, 32])'),\n  (1, 'Conv2d(3, 32, kernel_size=(3, 3), stride=(3, 3))'),\n  (2, 'ReLU()'),\n  (3,\n   'BatchNorm2d(32, eps=1e-05, momentum=0.1, affine=True, track_running_stats=True)'),\n  (4, 'Conv2d(32, 64, kernel_size=(5, 5), stride=(1, 1))'),\n  (5, 'ReLU()'),\n  (6,\n   'BatchNorm2d(64, eps=1e-05, momentum=0.1, affine=True, track_running_stats=True)'),\n  (7, 'Conv2d(64, 64, kernel_size=(1, 1), stride=(1, 1))'),\n  (8, 'ReLU()'),\n  (9,\n   'BatchNorm2d(64, eps=1e-05, momentum=0.1, affine=True, track_running_stats=True)'),\n  (10,\n   'MaxPool2d(kernel_size=3, stride=3, padding=0, dilation=1, ceil_mode=False)'),\n  (11, 'Linear(in_features=256, out_features=10, bias=True)'),\n  (12, 'torch.Size([1, 10])')]}"
     },
     "metadata": {},
     "execution_count": 148
    }
   ],
   "source": [
    "parameters = ['kernel_size', 'stride', 'momentum', 'eps',\n",
    "              'track_running_stats', 'affine', 'ceil_mode', 'padding', 'bias', 'dilatation']\n",
    "parameters_to_id = {parameter: i for i,parameter in enumerate(parameters)}\n",
    "\n",
    "graph_1 = g.get_graph_attribut(graph_without_skipcon, symetric=False, params=False, word2vec=True)\n",
    "graph_2 = g.get_graph_attribut(graph_skipcon, symetric=False, params=False, word2vec=True)\n",
    "graph_1"
   ]
  },
  {
   "cell_type": "markdown",
   "metadata": {},
   "source": [
    "__Results__: By using the same API that `scikit-network`, we store our graph's attribut in an instance of `Bunch` class."
   ]
  },
  {
   "cell_type": "markdown",
   "metadata": {},
   "source": [
    "### Improve the matrix of features\n",
    "\n",
    "__Goal__: Find the optimal method to encode node's information into a matrix. This matrix will be use after to create an embedding of the graph. \n",
    "\n",
    "__Experimentation__: Try three method:\n",
    "- Basical one-hot encoding\n",
    "- Word2vac\n",
    "- Row as parameters value and column as node."
   ]
  },
  {
   "cell_type": "code",
   "execution_count": 95,
   "metadata": {},
   "outputs": [
    {
     "output_type": "execute_result",
     "data": {
      "text/plain": "{'adjacency': <13x13 sparse matrix of type '<class 'numpy.float32'>'\n \twith 13 stored elements in COOrdinate format>,\n 'edges': array([[ 0,  1],\n        [ 1,  2],\n        [ 2,  3],\n        [ 3,  4],\n        [ 4,  5],\n        [ 5,  6],\n        [ 6,  7],\n        [ 7,  8],\n        [ 8,  9],\n        [ 9, 10],\n        [10, 11],\n        [11, 12],\n        [ 5,  9]]),\n 'features': array([[0.     , 3.     , 0.     , 0.     , 5.     , 0.     , 0.     ,\n         1.     , 0.     , 0.     , 3.     , 0.     , 0.     ],\n        [0.     , 3.     , 0.     , 0.     , 1.     , 0.     , 0.     ,\n         1.     , 0.     , 0.     , 3.     , 0.     , 0.     ],\n        [0.     , 0.     , 0.     , 0.1    , 0.     , 0.     , 0.1    ,\n         0.     , 0.     , 0.1    , 0.     , 0.     , 0.     ],\n        [0.     , 0.     , 0.     , 0.00001, 0.     , 0.     , 0.00001,\n         0.     , 0.     , 0.00001, 0.     , 0.     , 0.     ],\n        [0.     , 0.     , 0.     , 1.     , 0.     , 0.     , 1.     ,\n         0.     , 0.     , 1.     , 0.     , 0.     , 0.     ],\n        [0.     , 0.     , 0.     , 1.     , 0.     , 0.     , 1.     ,\n         0.     , 0.     , 1.     , 0.     , 0.     , 0.     ],\n        [0.     , 0.     , 0.     , 0.     , 0.     , 0.     , 0.     ,\n         0.     , 0.     , 0.     , 0.     , 0.     , 0.     ],\n        [0.     , 0.     , 0.     , 0.     , 0.     , 0.     , 0.     ,\n         0.     , 0.     , 0.     , 0.     , 0.     , 0.     ],\n        [0.     , 0.     , 0.     , 0.     , 0.     , 0.     , 0.     ,\n         0.     , 0.     , 0.     , 0.     , 1.     , 0.     ],\n        [0.     , 0.     , 0.     , 0.     , 0.     , 0.     , 0.     ,\n         0.     , 0.     , 0.     , 0.     , 0.     , 0.     ]]),\n 'nodes': {0: ['torch.size'],\n  1: ['conv2d', 'kernel_size=3', 'stride=3'],\n  2: ['relu'],\n  3: ['batchnorm2d',\n   'eps=1e-05',\n   'momentum=0.1',\n   'affine=true',\n   'track_running_stats=true'],\n  4: ['conv2d', 'kernel_size=5', 'stride=1'],\n  5: ['relu'],\n  6: ['batchnorm2d',\n   'eps=1e-05',\n   'momentum=0.1',\n   'affine=true',\n   'track_running_stats=true'],\n  7: ['conv2d', 'kernel_size=1', 'stride=1'],\n  8: ['relu'],\n  9: ['batchnorm2d',\n   'eps=1e-05',\n   'momentum=0.1',\n   'affine=true',\n   'track_running_stats=true'],\n  10: ['maxpool2d',\n   'kernel_size=3',\n   'stride=3',\n   'padding=0',\n   'dilation=1',\n   'ceil_mode=false'],\n  11: ['linear', 'in_features=256', 'out_features=10', 'bias=true'],\n  12: ['torch.size']}}"
     },
     "metadata": {},
     "execution_count": 95
    }
   ],
   "source": [
    "parameters = ['kernel_size', 'stride', 'momentum', 'eps',\n",
    "              'track_running_stats', 'affine', 'ceil_mode', 'padding', 'bias', 'dilatation']\n",
    "parameters_to_id = {parameter: i for i,parameter in enumerate(parameters)}\n",
    "\n",
    "graph = g.get_graph_attribut(dict_graph, symetric=False, params=parameters_to_id, word2vec=False)\n",
    "graph"
   ]
  },
  {
   "cell_type": "code",
   "execution_count": 12,
   "metadata": {},
   "outputs": [],
   "source": [
    "graphs = [graph_generator.generate() for i in range(20)]\n",
    "nodes = [g.get_graph_attribut(graph, symetric=False, dict_params=parameters_to_id, word2vec=True).nodes for graph in graphs]\n",
    "nodes = set([node[1] for l in nodes for node in l])"
   ]
  },
  {
   "cell_type": "code",
   "execution_count": 88,
   "metadata": {},
   "outputs": [],
   "source": [
    "\n",
    "vocab = list(nodes)*10000"
   ]
  },
  {
   "cell_type": "code",
   "execution_count": 93,
   "metadata": {},
   "outputs": [
    {
     "output_type": "stream",
     "name": "stderr",
     "text": "WARNING:gensim.models.base_any2vec:consider setting layer size to a multiple of 4 for greater performance\nWARNING:gensim.models.base_any2vec:under 10 jobs per worker: consider setting a smaller `batch_words' for smoother alpha decay\n"
    }
   ],
   "source": [
    "from gensim.models import Word2Vec\n",
    "\n",
    "word2vec = Word2Vec([vocab], min_count=20, size=2, batch_words=1000)"
   ]
  },
  {
   "cell_type": "code",
   "execution_count": 102,
   "metadata": {},
   "outputs": [
    {
     "output_type": "display_data",
     "data": {
      "text/plain": "<Figure size 1152x576 with 1 Axes>",
      "image/svg+xml": "<?xml version=\"1.0\" encoding=\"utf-8\" standalone=\"no\"?>\n<!DOCTYPE svg PUBLIC \"-//W3C//DTD SVG 1.1//EN\"\n  \"http://www.w3.org/Graphics/SVG/1.1/DTD/svg11.dtd\">\n<!-- Created with matplotlib (https://matplotlib.org/) -->\n<svg height=\"465.958125pt\" version=\"1.1\" viewBox=\"0 0 944.845313 465.958125\" width=\"944.845313pt\" xmlns=\"http://www.w3.org/2000/svg\" xmlns:xlink=\"http://www.w3.org/1999/xlink\">\n <defs>\n  <style type=\"text/css\">\n*{stroke-linecap:butt;stroke-linejoin:round;}\n  </style>\n </defs>\n <g id=\"figure_1\">\n  <g id=\"patch_1\">\n   <path d=\"M 0 465.958125 \nL 944.845313 465.958125 \nL 944.845313 0 \nL 0 0 \nz\n\" style=\"fill:none;\"/>\n  </g>\n  <g id=\"axes_1\">\n   <g id=\"patch_2\">\n    <path d=\"M 44.845313 442.08 \nL 937.645312 442.08 \nL 937.645312 7.2 \nL 44.845313 7.2 \nz\n\" style=\"fill:#ffffff;\"/>\n   </g>\n   <g id=\"PathCollection_1\">\n    <defs>\n     <path d=\"M 0 5 \nC 1.326016 5 2.597899 4.473168 3.535534 3.535534 \nC 4.473168 2.597899 5 1.326016 5 0 \nC 5 -1.326016 4.473168 -2.597899 3.535534 -3.535534 \nC 2.597899 -4.473168 1.326016 -5 0 -5 \nC -1.326016 -5 -2.597899 -4.473168 -3.535534 -3.535534 \nC -4.473168 -2.597899 -5 -1.326016 -5 0 \nC -5 1.326016 -4.473168 2.597899 -3.535534 3.535534 \nC -2.597899 4.473168 -1.326016 5 0 5 \nz\n\" id=\"m673662f917\" style=\"stroke:#1f77b4;\"/>\n    </defs>\n    <g clip-path=\"url(#peee2eaf2d9)\">\n     <use style=\"fill:#1f77b4;stroke:#1f77b4;\" x=\"897.063494\" xlink:href=\"#m673662f917\" y=\"251.677098\"/>\n    </g>\n   </g>\n   <g id=\"PathCollection_2\">\n    <defs>\n     <path d=\"M 0 5 \nC 1.326016 5 2.597899 4.473168 3.535534 3.535534 \nC 4.473168 2.597899 5 1.326016 5 0 \nC 5 -1.326016 4.473168 -2.597899 3.535534 -3.535534 \nC 2.597899 -4.473168 1.326016 -5 0 -5 \nC -1.326016 -5 -2.597899 -4.473168 -3.535534 -3.535534 \nC -4.473168 -2.597899 -5 -1.326016 -5 0 \nC -5 1.326016 -4.473168 2.597899 -3.535534 3.535534 \nC -2.597899 4.473168 -1.326016 5 0 5 \nz\n\" id=\"ma30ad441d3\" style=\"stroke:#ff7f0e;\"/>\n    </defs>\n    <g clip-path=\"url(#peee2eaf2d9)\">\n     <use style=\"fill:#ff7f0e;stroke:#ff7f0e;\" x=\"348.273512\" xlink:href=\"#ma30ad441d3\" y=\"155.681962\"/>\n    </g>\n   </g>\n   <g id=\"PathCollection_3\">\n    <defs>\n     <path d=\"M 0 5 \nC 1.326016 5 2.597899 4.473168 3.535534 3.535534 \nC 4.473168 2.597899 5 1.326016 5 0 \nC 5 -1.326016 4.473168 -2.597899 3.535534 -3.535534 \nC 2.597899 -4.473168 1.326016 -5 0 -5 \nC -1.326016 -5 -2.597899 -4.473168 -3.535534 -3.535534 \nC -4.473168 -2.597899 -5 -1.326016 -5 0 \nC -5 1.326016 -4.473168 2.597899 -3.535534 3.535534 \nC -2.597899 4.473168 -1.326016 5 0 5 \nz\n\" id=\"m58a171dd78\" style=\"stroke:#2ca02c;\"/>\n    </defs>\n    <g clip-path=\"url(#peee2eaf2d9)\">\n     <use style=\"fill:#2ca02c;stroke:#2ca02c;\" x=\"517.067814\" xlink:href=\"#m58a171dd78\" y=\"127.951793\"/>\n    </g>\n   </g>\n   <g id=\"PathCollection_4\">\n    <defs>\n     <path d=\"M 0 5 \nC 1.326016 5 2.597899 4.473168 3.535534 3.535534 \nC 4.473168 2.597899 5 1.326016 5 0 \nC 5 -1.326016 4.473168 -2.597899 3.535534 -3.535534 \nC 2.597899 -4.473168 1.326016 -5 0 -5 \nC -1.326016 -5 -2.597899 -4.473168 -3.535534 -3.535534 \nC -4.473168 -2.597899 -5 -1.326016 -5 0 \nC -5 1.326016 -4.473168 2.597899 -3.535534 3.535534 \nC -2.597899 4.473168 -1.326016 5 0 5 \nz\n\" id=\"mcfc745512e\" style=\"stroke:#d62728;\"/>\n    </defs>\n    <g clip-path=\"url(#peee2eaf2d9)\">\n     <use style=\"fill:#d62728;stroke:#d62728;\" x=\"326.194738\" xlink:href=\"#mcfc745512e\" y=\"32.384615\"/>\n    </g>\n   </g>\n   <g id=\"PathCollection_5\">\n    <defs>\n     <path d=\"M 0 5 \nC 1.326016 5 2.597899 4.473168 3.535534 3.535534 \nC 4.473168 2.597899 5 1.326016 5 0 \nC 5 -1.326016 4.473168 -2.597899 3.535534 -3.535534 \nC 2.597899 -4.473168 1.326016 -5 0 -5 \nC -1.326016 -5 -2.597899 -4.473168 -3.535534 -3.535534 \nC -4.473168 -2.597899 -5 -1.326016 -5 0 \nC -5 1.326016 -4.473168 2.597899 -3.535534 3.535534 \nC -2.597899 4.473168 -1.326016 5 0 5 \nz\n\" id=\"mec462527f2\" style=\"stroke:#9467bd;\"/>\n    </defs>\n    <g clip-path=\"url(#peee2eaf2d9)\">\n     <use style=\"fill:#9467bd;stroke:#9467bd;\" x=\"724.941116\" xlink:href=\"#mec462527f2\" y=\"226.696082\"/>\n    </g>\n   </g>\n   <g id=\"PathCollection_6\">\n    <defs>\n     <path d=\"M 0 5 \nC 1.326016 5 2.597899 4.473168 3.535534 3.535534 \nC 4.473168 2.597899 5 1.326016 5 0 \nC 5 -1.326016 4.473168 -2.597899 3.535534 -3.535534 \nC 2.597899 -4.473168 1.326016 -5 0 -5 \nC -1.326016 -5 -2.597899 -4.473168 -3.535534 -3.535534 \nC -4.473168 -2.597899 -5 -1.326016 -5 0 \nC -5 1.326016 -4.473168 2.597899 -3.535534 3.535534 \nC -2.597899 4.473168 -1.326016 5 0 5 \nz\n\" id=\"m2e85409ab3\" style=\"stroke:#8c564b;\"/>\n    </defs>\n    <g clip-path=\"url(#peee2eaf2d9)\">\n     <use style=\"fill:#8c564b;stroke:#8c564b;\" x=\"85.427131\" xlink:href=\"#m2e85409ab3\" y=\"35.208646\"/>\n    </g>\n   </g>\n   <g id=\"PathCollection_7\">\n    <defs>\n     <path d=\"M 0 5 \nC 1.326016 5 2.597899 4.473168 3.535534 3.535534 \nC 4.473168 2.597899 5 1.326016 5 0 \nC 5 -1.326016 4.473168 -2.597899 3.535534 -3.535534 \nC 2.597899 -4.473168 1.326016 -5 0 -5 \nC -1.326016 -5 -2.597899 -4.473168 -3.535534 -3.535534 \nC -4.473168 -2.597899 -5 -1.326016 -5 0 \nC -5 1.326016 -4.473168 2.597899 -3.535534 3.535534 \nC -2.597899 4.473168 -1.326016 5 0 5 \nz\n\" id=\"m0adb8d4d3d\" style=\"stroke:#e377c2;\"/>\n    </defs>\n    <g clip-path=\"url(#peee2eaf2d9)\">\n     <use style=\"fill:#e377c2;stroke:#e377c2;\" x=\"804.338856\" xlink:href=\"#m0adb8d4d3d\" y=\"422.312727\"/>\n    </g>\n   </g>\n   <g id=\"PathCollection_8\">\n    <defs>\n     <path d=\"M 0 5 \nC 1.326016 5 2.597899 4.473168 3.535534 3.535534 \nC 4.473168 2.597899 5 1.326016 5 0 \nC 5 -1.326016 4.473168 -2.597899 3.535534 -3.535534 \nC 2.597899 -4.473168 1.326016 -5 0 -5 \nC -1.326016 -5 -2.597899 -4.473168 -3.535534 -3.535534 \nC -4.473168 -2.597899 -5 -1.326016 -5 0 \nC -5 1.326016 -4.473168 2.597899 -3.535534 3.535534 \nC -2.597899 4.473168 -1.326016 5 0 5 \nz\n\" id=\"m267577b440\" style=\"stroke:#7f7f7f;\"/>\n    </defs>\n    <g clip-path=\"url(#peee2eaf2d9)\">\n     <use style=\"fill:#7f7f7f;stroke:#7f7f7f;\" x=\"459.714209\" xlink:href=\"#m267577b440\" y=\"115.978121\"/>\n    </g>\n   </g>\n   <g id=\"PathCollection_9\">\n    <defs>\n     <path d=\"M 0 5 \nC 1.326016 5 2.597899 4.473168 3.535534 3.535534 \nC 4.473168 2.597899 5 1.326016 5 0 \nC 5 -1.326016 4.473168 -2.597899 3.535534 -3.535534 \nC 2.597899 -4.473168 1.326016 -5 0 -5 \nC -1.326016 -5 -2.597899 -4.473168 -3.535534 -3.535534 \nC -4.473168 -2.597899 -5 -1.326016 -5 0 \nC -5 1.326016 -4.473168 2.597899 -3.535534 3.535534 \nC -2.597899 4.473168 -1.326016 5 0 5 \nz\n\" id=\"mbfe4f2c524\" style=\"stroke:#bcbd22;\"/>\n    </defs>\n    <g clip-path=\"url(#peee2eaf2d9)\">\n     <use style=\"fill:#bcbd22;stroke:#bcbd22;\" x=\"778.151869\" xlink:href=\"#mbfe4f2c524\" y=\"304.516122\"/>\n    </g>\n   </g>\n   <g id=\"PathCollection_10\">\n    <defs>\n     <path d=\"M 0 5 \nC 1.326016 5 2.597899 4.473168 3.535534 3.535534 \nC 4.473168 2.597899 5 1.326016 5 0 \nC 5 -1.326016 4.473168 -2.597899 3.535534 -3.535534 \nC 2.597899 -4.473168 1.326016 -5 0 -5 \nC -1.326016 -5 -2.597899 -4.473168 -3.535534 -3.535534 \nC -4.473168 -2.597899 -5 -1.326016 -5 0 \nC -5 1.326016 -4.473168 2.597899 -3.535534 3.535534 \nC -2.597899 4.473168 -1.326016 5 0 5 \nz\n\" id=\"m6f496ccd49\" style=\"stroke:#17becf;\"/>\n    </defs>\n    <g clip-path=\"url(#peee2eaf2d9)\">\n     <use style=\"fill:#17becf;stroke:#17becf;\" x=\"93.836323\" xlink:href=\"#m6f496ccd49\" y=\"161.016514\"/>\n    </g>\n   </g>\n   <g id=\"PathCollection_11\">\n    <g clip-path=\"url(#peee2eaf2d9)\">\n     <use style=\"fill:#1f77b4;stroke:#1f77b4;\" x=\"137.438555\" xlink:href=\"#m673662f917\" y=\"26.967273\"/>\n    </g>\n   </g>\n   <g id=\"matplotlib.axis_1\">\n    <g id=\"xtick_1\">\n     <g id=\"line2d_1\">\n      <defs>\n       <path d=\"M 0 0 \nL 0 3.5 \n\" id=\"mdf11beeb94\" style=\"stroke:#000000;stroke-width:0.8;\"/>\n      </defs>\n      <g>\n       <use style=\"stroke:#000000;stroke-width:0.8;\" x=\"126.749154\" xlink:href=\"#mdf11beeb94\" y=\"442.08\"/>\n      </g>\n     </g>\n     <g id=\"text_1\">\n      <!-- −0.75 -->\n      <defs>\n       <path d=\"M 10.59375 35.5 \nL 73.1875 35.5 \nL 73.1875 27.203125 \nL 10.59375 27.203125 \nz\n\" id=\"DejaVuSans-8722\"/>\n       <path d=\"M 31.78125 66.40625 \nQ 24.171875 66.40625 20.328125 58.90625 \nQ 16.5 51.421875 16.5 36.375 \nQ 16.5 21.390625 20.328125 13.890625 \nQ 24.171875 6.390625 31.78125 6.390625 \nQ 39.453125 6.390625 43.28125 13.890625 \nQ 47.125 21.390625 47.125 36.375 \nQ 47.125 51.421875 43.28125 58.90625 \nQ 39.453125 66.40625 31.78125 66.40625 \nz\nM 31.78125 74.21875 \nQ 44.046875 74.21875 50.515625 64.515625 \nQ 56.984375 54.828125 56.984375 36.375 \nQ 56.984375 17.96875 50.515625 8.265625 \nQ 44.046875 -1.421875 31.78125 -1.421875 \nQ 19.53125 -1.421875 13.0625 8.265625 \nQ 6.59375 17.96875 6.59375 36.375 \nQ 6.59375 54.828125 13.0625 64.515625 \nQ 19.53125 74.21875 31.78125 74.21875 \nz\n\" id=\"DejaVuSans-48\"/>\n       <path d=\"M 10.6875 12.40625 \nL 21 12.40625 \nL 21 0 \nL 10.6875 0 \nz\n\" id=\"DejaVuSans-46\"/>\n       <path d=\"M 8.203125 72.90625 \nL 55.078125 72.90625 \nL 55.078125 68.703125 \nL 28.609375 0 \nL 18.3125 0 \nL 43.21875 64.59375 \nL 8.203125 64.59375 \nz\n\" id=\"DejaVuSans-55\"/>\n       <path d=\"M 10.796875 72.90625 \nL 49.515625 72.90625 \nL 49.515625 64.59375 \nL 19.828125 64.59375 \nL 19.828125 46.734375 \nQ 21.96875 47.46875 24.109375 47.828125 \nQ 26.265625 48.1875 28.421875 48.1875 \nQ 40.625 48.1875 47.75 41.5 \nQ 54.890625 34.8125 54.890625 23.390625 \nQ 54.890625 11.625 47.5625 5.09375 \nQ 40.234375 -1.421875 26.90625 -1.421875 \nQ 22.3125 -1.421875 17.546875 -0.640625 \nQ 12.796875 0.140625 7.71875 1.703125 \nL 7.71875 11.625 \nQ 12.109375 9.234375 16.796875 8.0625 \nQ 21.484375 6.890625 26.703125 6.890625 \nQ 35.15625 6.890625 40.078125 11.328125 \nQ 45.015625 15.765625 45.015625 23.390625 \nQ 45.015625 31 40.078125 35.4375 \nQ 35.15625 39.890625 26.703125 39.890625 \nQ 22.75 39.890625 18.8125 39.015625 \nQ 14.890625 38.140625 10.796875 36.28125 \nz\n\" id=\"DejaVuSans-53\"/>\n      </defs>\n      <g transform=\"translate(111.426498 456.678438)scale(0.1 -0.1)\">\n       <use xlink:href=\"#DejaVuSans-8722\"/>\n       <use x=\"83.789062\" xlink:href=\"#DejaVuSans-48\"/>\n       <use x=\"147.412109\" xlink:href=\"#DejaVuSans-46\"/>\n       <use x=\"179.199219\" xlink:href=\"#DejaVuSans-55\"/>\n       <use x=\"242.822266\" xlink:href=\"#DejaVuSans-53\"/>\n      </g>\n     </g>\n    </g>\n    <g id=\"xtick_2\">\n     <g id=\"line2d_2\">\n      <g>\n       <use style=\"stroke:#000000;stroke-width:0.8;\" x=\"239.892402\" xlink:href=\"#mdf11beeb94\" y=\"442.08\"/>\n      </g>\n     </g>\n     <g id=\"text_2\">\n      <!-- −0.50 -->\n      <g transform=\"translate(224.569746 456.678438)scale(0.1 -0.1)\">\n       <use xlink:href=\"#DejaVuSans-8722\"/>\n       <use x=\"83.789062\" xlink:href=\"#DejaVuSans-48\"/>\n       <use x=\"147.412109\" xlink:href=\"#DejaVuSans-46\"/>\n       <use x=\"179.199219\" xlink:href=\"#DejaVuSans-53\"/>\n       <use x=\"242.822266\" xlink:href=\"#DejaVuSans-48\"/>\n      </g>\n     </g>\n    </g>\n    <g id=\"xtick_3\">\n     <g id=\"line2d_3\">\n      <g>\n       <use style=\"stroke:#000000;stroke-width:0.8;\" x=\"353.035651\" xlink:href=\"#mdf11beeb94\" y=\"442.08\"/>\n      </g>\n     </g>\n     <g id=\"text_3\">\n      <!-- −0.25 -->\n      <defs>\n       <path d=\"M 19.1875 8.296875 \nL 53.609375 8.296875 \nL 53.609375 0 \nL 7.328125 0 \nL 7.328125 8.296875 \nQ 12.9375 14.109375 22.625 23.890625 \nQ 32.328125 33.6875 34.8125 36.53125 \nQ 39.546875 41.84375 41.421875 45.53125 \nQ 43.3125 49.21875 43.3125 52.78125 \nQ 43.3125 58.59375 39.234375 62.25 \nQ 35.15625 65.921875 28.609375 65.921875 \nQ 23.96875 65.921875 18.8125 64.3125 \nQ 13.671875 62.703125 7.8125 59.421875 \nL 7.8125 69.390625 \nQ 13.765625 71.78125 18.9375 73 \nQ 24.125 74.21875 28.421875 74.21875 \nQ 39.75 74.21875 46.484375 68.546875 \nQ 53.21875 62.890625 53.21875 53.421875 \nQ 53.21875 48.921875 51.53125 44.890625 \nQ 49.859375 40.875 45.40625 35.40625 \nQ 44.1875 33.984375 37.640625 27.21875 \nQ 31.109375 20.453125 19.1875 8.296875 \nz\n\" id=\"DejaVuSans-50\"/>\n      </defs>\n      <g transform=\"translate(337.712995 456.678438)scale(0.1 -0.1)\">\n       <use xlink:href=\"#DejaVuSans-8722\"/>\n       <use x=\"83.789062\" xlink:href=\"#DejaVuSans-48\"/>\n       <use x=\"147.412109\" xlink:href=\"#DejaVuSans-46\"/>\n       <use x=\"179.199219\" xlink:href=\"#DejaVuSans-50\"/>\n       <use x=\"242.822266\" xlink:href=\"#DejaVuSans-53\"/>\n      </g>\n     </g>\n    </g>\n    <g id=\"xtick_4\">\n     <g id=\"line2d_4\">\n      <g>\n       <use style=\"stroke:#000000;stroke-width:0.8;\" x=\"466.178899\" xlink:href=\"#mdf11beeb94\" y=\"442.08\"/>\n      </g>\n     </g>\n     <g id=\"text_4\">\n      <!-- 0.00 -->\n      <g transform=\"translate(455.046087 456.678438)scale(0.1 -0.1)\">\n       <use xlink:href=\"#DejaVuSans-48\"/>\n       <use x=\"63.623047\" xlink:href=\"#DejaVuSans-46\"/>\n       <use x=\"95.410156\" xlink:href=\"#DejaVuSans-48\"/>\n       <use x=\"159.033203\" xlink:href=\"#DejaVuSans-48\"/>\n      </g>\n     </g>\n    </g>\n    <g id=\"xtick_5\">\n     <g id=\"line2d_5\">\n      <g>\n       <use style=\"stroke:#000000;stroke-width:0.8;\" x=\"579.322148\" xlink:href=\"#mdf11beeb94\" y=\"442.08\"/>\n      </g>\n     </g>\n     <g id=\"text_5\">\n      <!-- 0.25 -->\n      <g transform=\"translate(568.189335 456.678438)scale(0.1 -0.1)\">\n       <use xlink:href=\"#DejaVuSans-48\"/>\n       <use x=\"63.623047\" xlink:href=\"#DejaVuSans-46\"/>\n       <use x=\"95.410156\" xlink:href=\"#DejaVuSans-50\"/>\n       <use x=\"159.033203\" xlink:href=\"#DejaVuSans-53\"/>\n      </g>\n     </g>\n    </g>\n    <g id=\"xtick_6\">\n     <g id=\"line2d_6\">\n      <g>\n       <use style=\"stroke:#000000;stroke-width:0.8;\" x=\"692.465396\" xlink:href=\"#mdf11beeb94\" y=\"442.08\"/>\n      </g>\n     </g>\n     <g id=\"text_6\">\n      <!-- 0.50 -->\n      <g transform=\"translate(681.332584 456.678438)scale(0.1 -0.1)\">\n       <use xlink:href=\"#DejaVuSans-48\"/>\n       <use x=\"63.623047\" xlink:href=\"#DejaVuSans-46\"/>\n       <use x=\"95.410156\" xlink:href=\"#DejaVuSans-53\"/>\n       <use x=\"159.033203\" xlink:href=\"#DejaVuSans-48\"/>\n      </g>\n     </g>\n    </g>\n    <g id=\"xtick_7\">\n     <g id=\"line2d_7\">\n      <g>\n       <use style=\"stroke:#000000;stroke-width:0.8;\" x=\"805.608645\" xlink:href=\"#mdf11beeb94\" y=\"442.08\"/>\n      </g>\n     </g>\n     <g id=\"text_7\">\n      <!-- 0.75 -->\n      <g transform=\"translate(794.475832 456.678438)scale(0.1 -0.1)\">\n       <use xlink:href=\"#DejaVuSans-48\"/>\n       <use x=\"63.623047\" xlink:href=\"#DejaVuSans-46\"/>\n       <use x=\"95.410156\" xlink:href=\"#DejaVuSans-55\"/>\n       <use x=\"159.033203\" xlink:href=\"#DejaVuSans-53\"/>\n      </g>\n     </g>\n    </g>\n    <g id=\"xtick_8\">\n     <g id=\"line2d_8\">\n      <g>\n       <use style=\"stroke:#000000;stroke-width:0.8;\" x=\"918.751893\" xlink:href=\"#mdf11beeb94\" y=\"442.08\"/>\n      </g>\n     </g>\n     <g id=\"text_8\">\n      <!-- 1.00 -->\n      <defs>\n       <path d=\"M 12.40625 8.296875 \nL 28.515625 8.296875 \nL 28.515625 63.921875 \nL 10.984375 60.40625 \nL 10.984375 69.390625 \nL 28.421875 72.90625 \nL 38.28125 72.90625 \nL 38.28125 8.296875 \nL 54.390625 8.296875 \nL 54.390625 0 \nL 12.40625 0 \nz\n\" id=\"DejaVuSans-49\"/>\n      </defs>\n      <g transform=\"translate(907.619081 456.678438)scale(0.1 -0.1)\">\n       <use xlink:href=\"#DejaVuSans-49\"/>\n       <use x=\"63.623047\" xlink:href=\"#DejaVuSans-46\"/>\n       <use x=\"95.410156\" xlink:href=\"#DejaVuSans-48\"/>\n       <use x=\"159.033203\" xlink:href=\"#DejaVuSans-48\"/>\n      </g>\n     </g>\n    </g>\n   </g>\n   <g id=\"matplotlib.axis_2\">\n    <g id=\"ytick_1\">\n     <g id=\"line2d_9\">\n      <defs>\n       <path d=\"M 0 0 \nL -3.5 0 \n\" id=\"mfc6640c0fa\" style=\"stroke:#000000;stroke-width:0.8;\"/>\n      </defs>\n      <g>\n       <use style=\"stroke:#000000;stroke-width:0.8;\" x=\"44.845313\" xlink:href=\"#mfc6640c0fa\" y=\"391.689153\"/>\n      </g>\n     </g>\n     <g id=\"text_9\">\n      <!-- −1.13 -->\n      <defs>\n       <path d=\"M 40.578125 39.3125 \nQ 47.65625 37.796875 51.625 33 \nQ 55.609375 28.21875 55.609375 21.1875 \nQ 55.609375 10.40625 48.1875 4.484375 \nQ 40.765625 -1.421875 27.09375 -1.421875 \nQ 22.515625 -1.421875 17.65625 -0.515625 \nQ 12.796875 0.390625 7.625 2.203125 \nL 7.625 11.71875 \nQ 11.71875 9.328125 16.59375 8.109375 \nQ 21.484375 6.890625 26.8125 6.890625 \nQ 36.078125 6.890625 40.9375 10.546875 \nQ 45.796875 14.203125 45.796875 21.1875 \nQ 45.796875 27.640625 41.28125 31.265625 \nQ 36.765625 34.90625 28.71875 34.90625 \nL 20.21875 34.90625 \nL 20.21875 43.015625 \nL 29.109375 43.015625 \nQ 36.375 43.015625 40.234375 45.921875 \nQ 44.09375 48.828125 44.09375 54.296875 \nQ 44.09375 59.90625 40.109375 62.90625 \nQ 36.140625 65.921875 28.71875 65.921875 \nQ 24.65625 65.921875 20.015625 65.03125 \nQ 15.375 64.15625 9.8125 62.3125 \nL 9.8125 71.09375 \nQ 15.4375 72.65625 20.34375 73.4375 \nQ 25.25 74.21875 29.59375 74.21875 \nQ 40.828125 74.21875 47.359375 69.109375 \nQ 53.90625 64.015625 53.90625 55.328125 \nQ 53.90625 49.265625 50.4375 45.09375 \nQ 46.96875 40.921875 40.578125 39.3125 \nz\n\" id=\"DejaVuSans-51\"/>\n      </defs>\n      <g transform=\"translate(7.2 395.488372)scale(0.1 -0.1)\">\n       <use xlink:href=\"#DejaVuSans-8722\"/>\n       <use x=\"83.789062\" xlink:href=\"#DejaVuSans-49\"/>\n       <use x=\"147.412109\" xlink:href=\"#DejaVuSans-46\"/>\n       <use x=\"179.199219\" xlink:href=\"#DejaVuSans-49\"/>\n       <use x=\"242.822266\" xlink:href=\"#DejaVuSans-51\"/>\n      </g>\n     </g>\n    </g>\n    <g id=\"ytick_2\">\n     <g id=\"line2d_10\">\n      <g>\n       <use style=\"stroke:#000000;stroke-width:0.8;\" x=\"44.845313\" xlink:href=\"#mfc6640c0fa\" y=\"340.622785\"/>\n      </g>\n     </g>\n     <g id=\"text_10\">\n      <!-- −1.12 -->\n      <g transform=\"translate(7.2 344.422003)scale(0.1 -0.1)\">\n       <use xlink:href=\"#DejaVuSans-8722\"/>\n       <use x=\"83.789062\" xlink:href=\"#DejaVuSans-49\"/>\n       <use x=\"147.412109\" xlink:href=\"#DejaVuSans-46\"/>\n       <use x=\"179.199219\" xlink:href=\"#DejaVuSans-49\"/>\n       <use x=\"242.822266\" xlink:href=\"#DejaVuSans-50\"/>\n      </g>\n     </g>\n    </g>\n    <g id=\"ytick_3\">\n     <g id=\"line2d_11\">\n      <g>\n       <use style=\"stroke:#000000;stroke-width:0.8;\" x=\"44.845313\" xlink:href=\"#mfc6640c0fa\" y=\"289.556417\"/>\n      </g>\n     </g>\n     <g id=\"text_11\">\n      <!-- −1.11 -->\n      <g transform=\"translate(7.2 293.355635)scale(0.1 -0.1)\">\n       <use xlink:href=\"#DejaVuSans-8722\"/>\n       <use x=\"83.789062\" xlink:href=\"#DejaVuSans-49\"/>\n       <use x=\"147.412109\" xlink:href=\"#DejaVuSans-46\"/>\n       <use x=\"179.199219\" xlink:href=\"#DejaVuSans-49\"/>\n       <use x=\"242.822266\" xlink:href=\"#DejaVuSans-49\"/>\n      </g>\n     </g>\n    </g>\n    <g id=\"ytick_4\">\n     <g id=\"line2d_12\">\n      <g>\n       <use style=\"stroke:#000000;stroke-width:0.8;\" x=\"44.845313\" xlink:href=\"#mfc6640c0fa\" y=\"238.490048\"/>\n      </g>\n     </g>\n     <g id=\"text_12\">\n      <!-- −1.10 -->\n      <g transform=\"translate(7.2 242.289267)scale(0.1 -0.1)\">\n       <use xlink:href=\"#DejaVuSans-8722\"/>\n       <use x=\"83.789062\" xlink:href=\"#DejaVuSans-49\"/>\n       <use x=\"147.412109\" xlink:href=\"#DejaVuSans-46\"/>\n       <use x=\"179.199219\" xlink:href=\"#DejaVuSans-49\"/>\n       <use x=\"242.822266\" xlink:href=\"#DejaVuSans-48\"/>\n      </g>\n     </g>\n    </g>\n    <g id=\"ytick_5\">\n     <g id=\"line2d_13\">\n      <g>\n       <use style=\"stroke:#000000;stroke-width:0.8;\" x=\"44.845313\" xlink:href=\"#mfc6640c0fa\" y=\"187.42368\"/>\n      </g>\n     </g>\n     <g id=\"text_13\">\n      <!-- −1.09 -->\n      <defs>\n       <path d=\"M 10.984375 1.515625 \nL 10.984375 10.5 \nQ 14.703125 8.734375 18.5 7.8125 \nQ 22.3125 6.890625 25.984375 6.890625 \nQ 35.75 6.890625 40.890625 13.453125 \nQ 46.046875 20.015625 46.78125 33.40625 \nQ 43.953125 29.203125 39.59375 26.953125 \nQ 35.25 24.703125 29.984375 24.703125 \nQ 19.046875 24.703125 12.671875 31.3125 \nQ 6.296875 37.9375 6.296875 49.421875 \nQ 6.296875 60.640625 12.9375 67.421875 \nQ 19.578125 74.21875 30.609375 74.21875 \nQ 43.265625 74.21875 49.921875 64.515625 \nQ 56.59375 54.828125 56.59375 36.375 \nQ 56.59375 19.140625 48.40625 8.859375 \nQ 40.234375 -1.421875 26.421875 -1.421875 \nQ 22.703125 -1.421875 18.890625 -0.6875 \nQ 15.09375 0.046875 10.984375 1.515625 \nz\nM 30.609375 32.421875 \nQ 37.25 32.421875 41.125 36.953125 \nQ 45.015625 41.5 45.015625 49.421875 \nQ 45.015625 57.28125 41.125 61.84375 \nQ 37.25 66.40625 30.609375 66.40625 \nQ 23.96875 66.40625 20.09375 61.84375 \nQ 16.21875 57.28125 16.21875 49.421875 \nQ 16.21875 41.5 20.09375 36.953125 \nQ 23.96875 32.421875 30.609375 32.421875 \nz\n\" id=\"DejaVuSans-57\"/>\n      </defs>\n      <g transform=\"translate(7.2 191.222899)scale(0.1 -0.1)\">\n       <use xlink:href=\"#DejaVuSans-8722\"/>\n       <use x=\"83.789062\" xlink:href=\"#DejaVuSans-49\"/>\n       <use x=\"147.412109\" xlink:href=\"#DejaVuSans-46\"/>\n       <use x=\"179.199219\" xlink:href=\"#DejaVuSans-48\"/>\n       <use x=\"242.822266\" xlink:href=\"#DejaVuSans-57\"/>\n      </g>\n     </g>\n    </g>\n    <g id=\"ytick_6\">\n     <g id=\"line2d_14\">\n      <g>\n       <use style=\"stroke:#000000;stroke-width:0.8;\" x=\"44.845313\" xlink:href=\"#mfc6640c0fa\" y=\"136.357312\"/>\n      </g>\n     </g>\n     <g id=\"text_14\">\n      <!-- −1.08 -->\n      <defs>\n       <path d=\"M 31.78125 34.625 \nQ 24.75 34.625 20.71875 30.859375 \nQ 16.703125 27.09375 16.703125 20.515625 \nQ 16.703125 13.921875 20.71875 10.15625 \nQ 24.75 6.390625 31.78125 6.390625 \nQ 38.8125 6.390625 42.859375 10.171875 \nQ 46.921875 13.96875 46.921875 20.515625 \nQ 46.921875 27.09375 42.890625 30.859375 \nQ 38.875 34.625 31.78125 34.625 \nz\nM 21.921875 38.8125 \nQ 15.578125 40.375 12.03125 44.71875 \nQ 8.5 49.078125 8.5 55.328125 \nQ 8.5 64.0625 14.71875 69.140625 \nQ 20.953125 74.21875 31.78125 74.21875 \nQ 42.671875 74.21875 48.875 69.140625 \nQ 55.078125 64.0625 55.078125 55.328125 \nQ 55.078125 49.078125 51.53125 44.71875 \nQ 48 40.375 41.703125 38.8125 \nQ 48.828125 37.15625 52.796875 32.3125 \nQ 56.78125 27.484375 56.78125 20.515625 \nQ 56.78125 9.90625 50.3125 4.234375 \nQ 43.84375 -1.421875 31.78125 -1.421875 \nQ 19.734375 -1.421875 13.25 4.234375 \nQ 6.78125 9.90625 6.78125 20.515625 \nQ 6.78125 27.484375 10.78125 32.3125 \nQ 14.796875 37.15625 21.921875 38.8125 \nz\nM 18.3125 54.390625 \nQ 18.3125 48.734375 21.84375 45.5625 \nQ 25.390625 42.390625 31.78125 42.390625 \nQ 38.140625 42.390625 41.71875 45.5625 \nQ 45.3125 48.734375 45.3125 54.390625 \nQ 45.3125 60.0625 41.71875 63.234375 \nQ 38.140625 66.40625 31.78125 66.40625 \nQ 25.390625 66.40625 21.84375 63.234375 \nQ 18.3125 60.0625 18.3125 54.390625 \nz\n\" id=\"DejaVuSans-56\"/>\n      </defs>\n      <g transform=\"translate(7.2 140.156531)scale(0.1 -0.1)\">\n       <use xlink:href=\"#DejaVuSans-8722\"/>\n       <use x=\"83.789062\" xlink:href=\"#DejaVuSans-49\"/>\n       <use x=\"147.412109\" xlink:href=\"#DejaVuSans-46\"/>\n       <use x=\"179.199219\" xlink:href=\"#DejaVuSans-48\"/>\n       <use x=\"242.822266\" xlink:href=\"#DejaVuSans-56\"/>\n      </g>\n     </g>\n    </g>\n    <g id=\"ytick_7\">\n     <g id=\"line2d_15\">\n      <g>\n       <use style=\"stroke:#000000;stroke-width:0.8;\" x=\"44.845313\" xlink:href=\"#mfc6640c0fa\" y=\"85.290944\"/>\n      </g>\n     </g>\n     <g id=\"text_15\">\n      <!-- −1.07 -->\n      <g transform=\"translate(7.2 89.090163)scale(0.1 -0.1)\">\n       <use xlink:href=\"#DejaVuSans-8722\"/>\n       <use x=\"83.789062\" xlink:href=\"#DejaVuSans-49\"/>\n       <use x=\"147.412109\" xlink:href=\"#DejaVuSans-46\"/>\n       <use x=\"179.199219\" xlink:href=\"#DejaVuSans-48\"/>\n       <use x=\"242.822266\" xlink:href=\"#DejaVuSans-55\"/>\n      </g>\n     </g>\n    </g>\n    <g id=\"ytick_8\">\n     <g id=\"line2d_16\">\n      <g>\n       <use style=\"stroke:#000000;stroke-width:0.8;\" x=\"44.845313\" xlink:href=\"#mfc6640c0fa\" y=\"34.224576\"/>\n      </g>\n     </g>\n     <g id=\"text_16\">\n      <!-- −1.06 -->\n      <defs>\n       <path d=\"M 33.015625 40.375 \nQ 26.375 40.375 22.484375 35.828125 \nQ 18.609375 31.296875 18.609375 23.390625 \nQ 18.609375 15.53125 22.484375 10.953125 \nQ 26.375 6.390625 33.015625 6.390625 \nQ 39.65625 6.390625 43.53125 10.953125 \nQ 47.40625 15.53125 47.40625 23.390625 \nQ 47.40625 31.296875 43.53125 35.828125 \nQ 39.65625 40.375 33.015625 40.375 \nz\nM 52.59375 71.296875 \nL 52.59375 62.3125 \nQ 48.875 64.0625 45.09375 64.984375 \nQ 41.3125 65.921875 37.59375 65.921875 \nQ 27.828125 65.921875 22.671875 59.328125 \nQ 17.53125 52.734375 16.796875 39.40625 \nQ 19.671875 43.65625 24.015625 45.921875 \nQ 28.375 48.1875 33.59375 48.1875 \nQ 44.578125 48.1875 50.953125 41.515625 \nQ 57.328125 34.859375 57.328125 23.390625 \nQ 57.328125 12.15625 50.6875 5.359375 \nQ 44.046875 -1.421875 33.015625 -1.421875 \nQ 20.359375 -1.421875 13.671875 8.265625 \nQ 6.984375 17.96875 6.984375 36.375 \nQ 6.984375 53.65625 15.1875 63.9375 \nQ 23.390625 74.21875 37.203125 74.21875 \nQ 40.921875 74.21875 44.703125 73.484375 \nQ 48.484375 72.75 52.59375 71.296875 \nz\n\" id=\"DejaVuSans-54\"/>\n      </defs>\n      <g transform=\"translate(7.2 38.023794)scale(0.1 -0.1)\">\n       <use xlink:href=\"#DejaVuSans-8722\"/>\n       <use x=\"83.789062\" xlink:href=\"#DejaVuSans-49\"/>\n       <use x=\"147.412109\" xlink:href=\"#DejaVuSans-46\"/>\n       <use x=\"179.199219\" xlink:href=\"#DejaVuSans-48\"/>\n       <use x=\"242.822266\" xlink:href=\"#DejaVuSans-54\"/>\n      </g>\n     </g>\n    </g>\n   </g>\n   <g id=\"patch_3\">\n    <path d=\"M 44.845313 442.08 \nL 44.845313 7.2 \n\" style=\"fill:none;stroke:#000000;stroke-linecap:square;stroke-linejoin:miter;stroke-width:0.8;\"/>\n   </g>\n   <g id=\"patch_4\">\n    <path d=\"M 937.645312 442.08 \nL 937.645312 7.2 \n\" style=\"fill:none;stroke:#000000;stroke-linecap:square;stroke-linejoin:miter;stroke-width:0.8;\"/>\n   </g>\n   <g id=\"patch_5\">\n    <path d=\"M 44.845313 442.08 \nL 937.645313 442.08 \n\" style=\"fill:none;stroke:#000000;stroke-linecap:square;stroke-linejoin:miter;stroke-width:0.8;\"/>\n   </g>\n   <g id=\"patch_6\">\n    <path d=\"M 44.845313 7.2 \nL 937.645313 7.2 \n\" style=\"fill:none;stroke:#000000;stroke-linecap:square;stroke-linejoin:miter;stroke-width:0.8;\"/>\n   </g>\n  </g>\n </g>\n <defs>\n  <clipPath id=\"peee2eaf2d9\">\n   <rect height=\"434.88\" width=\"892.8\" x=\"44.845313\" y=\"7.2\"/>\n  </clipPath>\n </defs>\n</svg>\n",
      "image/png": "[encoded data removed]"
     },
     "metadata": {
      "needs_background": "light"
     }
    }
   ],
   "source": [
    "import matplotlib.pyplot as plt\n",
    "\n",
    "plt.figure(figsize=(16,8))\n",
    "\n",
    "for node in nodes:\n",
    "    embedding = word2vec.wv.word_vec(node)\n",
    "    plt.scatter(embedding[0], embedding[1], s=100)\n"
   ]
  },
  {
   "cell_type": "markdown",
   "metadata": {},
   "source": [
    "### Graph embedding"
   ]
  },
  {
   "cell_type": "markdown",
   "metadata": {},
   "source": [
    "__Goal__: Obtain a low dimensional space representing the graphs. This space need to be continuous to enable the use of gradient based optimisation techniques. \n",
    "\n",
    "__Experimentation__: Experiment several graph embedding techniques such as :\n",
    "- matrix factorization (SVD)\n",
    "- GAE"
   ]
  },
  {
   "cell_type": "code",
   "execution_count": 103,
   "metadata": {},
   "outputs": [],
   "source": [
    "from sknetwork.data import karate_club, painters, movie_actor\n",
    "from sknetwork.embedding import SVD, cosine_modularity\n",
    "from sknetwork.visualization import svg_graph, svg_digraph, svg_bigraph\n",
    "from sknetwork.visualization import svg_graph, svg_digraph, svg_bigraph\n",
    "from IPython.display import SVG\n",
    "from sknetwork.data import parse_tsv\n",
    "import matplotlib.pyplot as plt"
   ]
  },
  {
   "cell_type": "code",
   "execution_count": 104,
   "metadata": {},
   "outputs": [],
   "source": [
    "graph = karate_club(metadata=True)"
   ]
  },
  {
   "cell_type": "code",
   "execution_count": 154,
   "metadata": {},
   "outputs": [],
   "source": [
    "from sknetwork.embedding import SVD, cosine_modularity\n",
    "svd = SVD(2)\n",
    "svd = svd.fit(np.array(graph_1.adjacency.todense()))\n",
    "embedding_1 = svd.predict(np.array(graph_1.adjacency.todense()))\n",
    "embedding_2 = svd.predict(np.array(graph_2.adjacency.todense()))"
   ]
  },
  {
   "cell_type": "code",
   "execution_count": 155,
   "metadata": {},
   "outputs": [
    {
     "output_type": "execute_result",
     "data": {
      "text/plain": "<matplotlib.collections.PathCollection at 0x7f45136b93c8>"
     },
     "metadata": {},
     "execution_count": 155
    },
    {
     "output_type": "display_data",
     "data": {
      "text/plain": "<Figure size 432x288 with 1 Axes>",
      "image/svg+xml": "<?xml version=\"1.0\" encoding=\"utf-8\" standalone=\"no\"?>\n<!DOCTYPE svg PUBLIC \"-//W3C//DTD SVG 1.1//EN\"\n  \"http://www.w3.org/Graphics/SVG/1.1/DTD/svg11.dtd\">\n<!-- Created with matplotlib (https://matplotlib.org/) -->\n<svg height=\"248.518125pt\" version=\"1.1\" viewBox=\"0 0 388.592155 248.518125\" width=\"388.592155pt\" xmlns=\"http://www.w3.org/2000/svg\" xmlns:xlink=\"http://www.w3.org/1999/xlink\">\n <defs>\n  <style type=\"text/css\">\n*{stroke-linecap:butt;stroke-linejoin:round;}\n  </style>\n </defs>\n <g id=\"figure_1\">\n  <g id=\"patch_1\">\n   <path d=\"M 0 248.518125 \nL 388.592155 248.518125 \nL 388.592155 0 \nL 0 0 \nz\n\" style=\"fill:none;\"/>\n  </g>\n  <g id=\"axes_1\">\n   <g id=\"patch_2\">\n    <path d=\"M 42.828125 224.64 \nL 377.628125 224.64 \nL 377.628125 7.2 \nL 42.828125 7.2 \nz\n\" style=\"fill:#ffffff;\"/>\n   </g>\n   <g id=\"PathCollection_1\">\n    <defs>\n     <path d=\"M 0 3 \nC 0.795609 3 1.55874 2.683901 2.12132 2.12132 \nC 2.683901 1.55874 3 0.795609 3 0 \nC 3 -0.795609 2.683901 -1.55874 2.12132 -2.12132 \nC 1.55874 -2.683901 0.795609 -3 0 -3 \nC -0.795609 -3 -1.55874 -2.683901 -2.12132 -2.12132 \nC -2.683901 -1.55874 -3 -0.795609 -3 0 \nC -3 0.795609 -2.683901 1.55874 -2.12132 2.12132 \nC -1.55874 2.683901 -0.795609 3 0 3 \nz\n\" id=\"mdd1e87bb86\" style=\"stroke:#1f77b4;\"/>\n    </defs>\n    <g clip-path=\"url(#pf543d4d41a)\">\n     <use style=\"fill:#1f77b4;stroke:#1f77b4;\" x=\"362.409943\" xlink:href=\"#mdd1e87bb86\" y=\"214.756364\"/>\n    </g>\n   </g>\n   <g id=\"PathCollection_2\">\n    <defs>\n     <path d=\"M 0 3 \nC 0.795609 3 1.55874 2.683901 2.12132 2.12132 \nC 2.683901 1.55874 3 0.795609 3 0 \nC 3 -0.795609 2.683901 -1.55874 2.12132 -2.12132 \nC 1.55874 -2.683901 0.795609 -3 0 -3 \nC -0.795609 -3 -1.55874 -2.683901 -2.12132 -2.12132 \nC -2.683901 -1.55874 -3 -0.795609 -3 0 \nC -3 0.795609 -2.683901 1.55874 -2.12132 2.12132 \nC -1.55874 2.683901 -0.795609 3 0 3 \nz\n\" id=\"m7b9a3a7a14\" style=\"stroke:#ff7f0e;\"/>\n    </defs>\n    <g clip-path=\"url(#pf543d4d41a)\">\n     <use style=\"fill:#ff7f0e;stroke:#ff7f0e;\" x=\"58.046307\" xlink:href=\"#m7b9a3a7a14\" y=\"17.083636\"/>\n    </g>\n   </g>\n   <g id=\"matplotlib.axis_1\">\n    <g id=\"xtick_1\">\n     <g id=\"line2d_1\">\n      <defs>\n       <path d=\"M 0 0 \nL 0 3.5 \n\" id=\"m4139eb7179\" style=\"stroke:#000000;stroke-width:0.8;\"/>\n      </defs>\n      <g>\n       <use style=\"stroke:#000000;stroke-width:0.8;\" x=\"67.750515\" xlink:href=\"#m4139eb7179\" y=\"224.64\"/>\n      </g>\n     </g>\n     <g id=\"text_1\">\n      <!-- 0.4050 -->\n      <defs>\n       <path d=\"M 31.78125 66.40625 \nQ 24.171875 66.40625 20.328125 58.90625 \nQ 16.5 51.421875 16.5 36.375 \nQ 16.5 21.390625 20.328125 13.890625 \nQ 24.171875 6.390625 31.78125 6.390625 \nQ 39.453125 6.390625 43.28125 13.890625 \nQ 47.125 21.390625 47.125 36.375 \nQ 47.125 51.421875 43.28125 58.90625 \nQ 39.453125 66.40625 31.78125 66.40625 \nz\nM 31.78125 74.21875 \nQ 44.046875 74.21875 50.515625 64.515625 \nQ 56.984375 54.828125 56.984375 36.375 \nQ 56.984375 17.96875 50.515625 8.265625 \nQ 44.046875 -1.421875 31.78125 -1.421875 \nQ 19.53125 -1.421875 13.0625 8.265625 \nQ 6.59375 17.96875 6.59375 36.375 \nQ 6.59375 54.828125 13.0625 64.515625 \nQ 19.53125 74.21875 31.78125 74.21875 \nz\n\" id=\"DejaVuSans-48\"/>\n       <path d=\"M 10.6875 12.40625 \nL 21 12.40625 \nL 21 0 \nL 10.6875 0 \nz\n\" id=\"DejaVuSans-46\"/>\n       <path d=\"M 37.796875 64.3125 \nL 12.890625 25.390625 \nL 37.796875 25.390625 \nz\nM 35.203125 72.90625 \nL 47.609375 72.90625 \nL 47.609375 25.390625 \nL 58.015625 25.390625 \nL 58.015625 17.1875 \nL 47.609375 17.1875 \nL 47.609375 0 \nL 37.796875 0 \nL 37.796875 17.1875 \nL 4.890625 17.1875 \nL 4.890625 26.703125 \nz\n\" id=\"DejaVuSans-52\"/>\n       <path d=\"M 10.796875 72.90625 \nL 49.515625 72.90625 \nL 49.515625 64.59375 \nL 19.828125 64.59375 \nL 19.828125 46.734375 \nQ 21.96875 47.46875 24.109375 47.828125 \nQ 26.265625 48.1875 28.421875 48.1875 \nQ 40.625 48.1875 47.75 41.5 \nQ 54.890625 34.8125 54.890625 23.390625 \nQ 54.890625 11.625 47.5625 5.09375 \nQ 40.234375 -1.421875 26.90625 -1.421875 \nQ 22.3125 -1.421875 17.546875 -0.640625 \nQ 12.796875 0.140625 7.71875 1.703125 \nL 7.71875 11.625 \nQ 12.109375 9.234375 16.796875 8.0625 \nQ 21.484375 6.890625 26.703125 6.890625 \nQ 35.15625 6.890625 40.078125 11.328125 \nQ 45.015625 15.765625 45.015625 23.390625 \nQ 45.015625 31 40.078125 35.4375 \nQ 35.15625 39.890625 26.703125 39.890625 \nQ 22.75 39.890625 18.8125 39.015625 \nQ 14.890625 38.140625 10.796875 36.28125 \nz\n\" id=\"DejaVuSans-53\"/>\n      </defs>\n      <g transform=\"translate(50.255203 239.238437)scale(0.1 -0.1)\">\n       <use xlink:href=\"#DejaVuSans-48\"/>\n       <use x=\"63.623047\" xlink:href=\"#DejaVuSans-46\"/>\n       <use x=\"95.410156\" xlink:href=\"#DejaVuSans-52\"/>\n       <use x=\"159.033203\" xlink:href=\"#DejaVuSans-48\"/>\n       <use x=\"222.65625\" xlink:href=\"#DejaVuSans-53\"/>\n       <use x=\"286.279297\" xlink:href=\"#DejaVuSans-48\"/>\n      </g>\n     </g>\n    </g>\n    <g id=\"xtick_2\">\n     <g id=\"line2d_2\">\n      <g>\n       <use style=\"stroke:#000000;stroke-width:0.8;\" x=\"110.057133\" xlink:href=\"#m4139eb7179\" y=\"224.64\"/>\n      </g>\n     </g>\n     <g id=\"text_2\">\n      <!-- 0.4075 -->\n      <defs>\n       <path d=\"M 8.203125 72.90625 \nL 55.078125 72.90625 \nL 55.078125 68.703125 \nL 28.609375 0 \nL 18.3125 0 \nL 43.21875 64.59375 \nL 8.203125 64.59375 \nz\n\" id=\"DejaVuSans-55\"/>\n      </defs>\n      <g transform=\"translate(92.561821 239.238437)scale(0.1 -0.1)\">\n       <use xlink:href=\"#DejaVuSans-48\"/>\n       <use x=\"63.623047\" xlink:href=\"#DejaVuSans-46\"/>\n       <use x=\"95.410156\" xlink:href=\"#DejaVuSans-52\"/>\n       <use x=\"159.033203\" xlink:href=\"#DejaVuSans-48\"/>\n       <use x=\"222.65625\" xlink:href=\"#DejaVuSans-55\"/>\n       <use x=\"286.279297\" xlink:href=\"#DejaVuSans-53\"/>\n      </g>\n     </g>\n    </g>\n    <g id=\"xtick_3\">\n     <g id=\"line2d_3\">\n      <g>\n       <use style=\"stroke:#000000;stroke-width:0.8;\" x=\"152.363752\" xlink:href=\"#m4139eb7179\" y=\"224.64\"/>\n      </g>\n     </g>\n     <g id=\"text_3\">\n      <!-- 0.4100 -->\n      <defs>\n       <path d=\"M 12.40625 8.296875 \nL 28.515625 8.296875 \nL 28.515625 63.921875 \nL 10.984375 60.40625 \nL 10.984375 69.390625 \nL 28.421875 72.90625 \nL 38.28125 72.90625 \nL 38.28125 8.296875 \nL 54.390625 8.296875 \nL 54.390625 0 \nL 12.40625 0 \nz\n\" id=\"DejaVuSans-49\"/>\n      </defs>\n      <g transform=\"translate(134.868439 239.238437)scale(0.1 -0.1)\">\n       <use xlink:href=\"#DejaVuSans-48\"/>\n       <use x=\"63.623047\" xlink:href=\"#DejaVuSans-46\"/>\n       <use x=\"95.410156\" xlink:href=\"#DejaVuSans-52\"/>\n       <use x=\"159.033203\" xlink:href=\"#DejaVuSans-49\"/>\n       <use x=\"222.65625\" xlink:href=\"#DejaVuSans-48\"/>\n       <use x=\"286.279297\" xlink:href=\"#DejaVuSans-48\"/>\n      </g>\n     </g>\n    </g>\n    <g id=\"xtick_4\">\n     <g id=\"line2d_4\">\n      <g>\n       <use style=\"stroke:#000000;stroke-width:0.8;\" x=\"194.67037\" xlink:href=\"#m4139eb7179\" y=\"224.64\"/>\n      </g>\n     </g>\n     <g id=\"text_4\">\n      <!-- 0.4125 -->\n      <defs>\n       <path d=\"M 19.1875 8.296875 \nL 53.609375 8.296875 \nL 53.609375 0 \nL 7.328125 0 \nL 7.328125 8.296875 \nQ 12.9375 14.109375 22.625 23.890625 \nQ 32.328125 33.6875 34.8125 36.53125 \nQ 39.546875 41.84375 41.421875 45.53125 \nQ 43.3125 49.21875 43.3125 52.78125 \nQ 43.3125 58.59375 39.234375 62.25 \nQ 35.15625 65.921875 28.609375 65.921875 \nQ 23.96875 65.921875 18.8125 64.3125 \nQ 13.671875 62.703125 7.8125 59.421875 \nL 7.8125 69.390625 \nQ 13.765625 71.78125 18.9375 73 \nQ 24.125 74.21875 28.421875 74.21875 \nQ 39.75 74.21875 46.484375 68.546875 \nQ 53.21875 62.890625 53.21875 53.421875 \nQ 53.21875 48.921875 51.53125 44.890625 \nQ 49.859375 40.875 45.40625 35.40625 \nQ 44.1875 33.984375 37.640625 27.21875 \nQ 31.109375 20.453125 19.1875 8.296875 \nz\n\" id=\"DejaVuSans-50\"/>\n      </defs>\n      <g transform=\"translate(177.175057 239.238437)scale(0.1 -0.1)\">\n       <use xlink:href=\"#DejaVuSans-48\"/>\n       <use x=\"63.623047\" xlink:href=\"#DejaVuSans-46\"/>\n       <use x=\"95.410156\" xlink:href=\"#DejaVuSans-52\"/>\n       <use x=\"159.033203\" xlink:href=\"#DejaVuSans-49\"/>\n       <use x=\"222.65625\" xlink:href=\"#DejaVuSans-50\"/>\n       <use x=\"286.279297\" xlink:href=\"#DejaVuSans-53\"/>\n      </g>\n     </g>\n    </g>\n    <g id=\"xtick_5\">\n     <g id=\"line2d_5\">\n      <g>\n       <use style=\"stroke:#000000;stroke-width:0.8;\" x=\"236.976988\" xlink:href=\"#m4139eb7179\" y=\"224.64\"/>\n      </g>\n     </g>\n     <g id=\"text_5\">\n      <!-- 0.4150 -->\n      <g transform=\"translate(219.481676 239.238437)scale(0.1 -0.1)\">\n       <use xlink:href=\"#DejaVuSans-48\"/>\n       <use x=\"63.623047\" xlink:href=\"#DejaVuSans-46\"/>\n       <use x=\"95.410156\" xlink:href=\"#DejaVuSans-52\"/>\n       <use x=\"159.033203\" xlink:href=\"#DejaVuSans-49\"/>\n       <use x=\"222.65625\" xlink:href=\"#DejaVuSans-53\"/>\n       <use x=\"286.279297\" xlink:href=\"#DejaVuSans-48\"/>\n      </g>\n     </g>\n    </g>\n    <g id=\"xtick_6\">\n     <g id=\"line2d_6\">\n      <g>\n       <use style=\"stroke:#000000;stroke-width:0.8;\" x=\"279.283606\" xlink:href=\"#m4139eb7179\" y=\"224.64\"/>\n      </g>\n     </g>\n     <g id=\"text_6\">\n      <!-- 0.4175 -->\n      <g transform=\"translate(261.788294 239.238437)scale(0.1 -0.1)\">\n       <use xlink:href=\"#DejaVuSans-48\"/>\n       <use x=\"63.623047\" xlink:href=\"#DejaVuSans-46\"/>\n       <use x=\"95.410156\" xlink:href=\"#DejaVuSans-52\"/>\n       <use x=\"159.033203\" xlink:href=\"#DejaVuSans-49\"/>\n       <use x=\"222.65625\" xlink:href=\"#DejaVuSans-55\"/>\n       <use x=\"286.279297\" xlink:href=\"#DejaVuSans-53\"/>\n      </g>\n     </g>\n    </g>\n    <g id=\"xtick_7\">\n     <g id=\"line2d_7\">\n      <g>\n       <use style=\"stroke:#000000;stroke-width:0.8;\" x=\"321.590225\" xlink:href=\"#m4139eb7179\" y=\"224.64\"/>\n      </g>\n     </g>\n     <g id=\"text_7\">\n      <!-- 0.4200 -->\n      <g transform=\"translate(304.094912 239.238437)scale(0.1 -0.1)\">\n       <use xlink:href=\"#DejaVuSans-48\"/>\n       <use x=\"63.623047\" xlink:href=\"#DejaVuSans-46\"/>\n       <use x=\"95.410156\" xlink:href=\"#DejaVuSans-52\"/>\n       <use x=\"159.033203\" xlink:href=\"#DejaVuSans-50\"/>\n       <use x=\"222.65625\" xlink:href=\"#DejaVuSans-48\"/>\n       <use x=\"286.279297\" xlink:href=\"#DejaVuSans-48\"/>\n      </g>\n     </g>\n    </g>\n    <g id=\"xtick_8\">\n     <g id=\"line2d_8\">\n      <g>\n       <use style=\"stroke:#000000;stroke-width:0.8;\" x=\"363.896843\" xlink:href=\"#m4139eb7179\" y=\"224.64\"/>\n      </g>\n     </g>\n     <g id=\"text_8\">\n      <!-- 0.4225 -->\n      <g transform=\"translate(346.40153 239.238437)scale(0.1 -0.1)\">\n       <use xlink:href=\"#DejaVuSans-48\"/>\n       <use x=\"63.623047\" xlink:href=\"#DejaVuSans-46\"/>\n       <use x=\"95.410156\" xlink:href=\"#DejaVuSans-52\"/>\n       <use x=\"159.033203\" xlink:href=\"#DejaVuSans-50\"/>\n       <use x=\"222.65625\" xlink:href=\"#DejaVuSans-50\"/>\n       <use x=\"286.279297\" xlink:href=\"#DejaVuSans-53\"/>\n      </g>\n     </g>\n    </g>\n   </g>\n   <g id=\"matplotlib.axis_2\">\n    <g id=\"ytick_1\">\n     <g id=\"line2d_9\">\n      <defs>\n       <path d=\"M 0 0 \nL -3.5 0 \n\" id=\"m678da14215\" style=\"stroke:#000000;stroke-width:0.8;\"/>\n      </defs>\n      <g>\n       <use style=\"stroke:#000000;stroke-width:0.8;\" x=\"42.828125\" xlink:href=\"#m678da14215\" y=\"199.811352\"/>\n      </g>\n     </g>\n     <g id=\"text_9\">\n      <!-- 1.158 -->\n      <defs>\n       <path d=\"M 31.78125 34.625 \nQ 24.75 34.625 20.71875 30.859375 \nQ 16.703125 27.09375 16.703125 20.515625 \nQ 16.703125 13.921875 20.71875 10.15625 \nQ 24.75 6.390625 31.78125 6.390625 \nQ 38.8125 6.390625 42.859375 10.171875 \nQ 46.921875 13.96875 46.921875 20.515625 \nQ 46.921875 27.09375 42.890625 30.859375 \nQ 38.875 34.625 31.78125 34.625 \nz\nM 21.921875 38.8125 \nQ 15.578125 40.375 12.03125 44.71875 \nQ 8.5 49.078125 8.5 55.328125 \nQ 8.5 64.0625 14.71875 69.140625 \nQ 20.953125 74.21875 31.78125 74.21875 \nQ 42.671875 74.21875 48.875 69.140625 \nQ 55.078125 64.0625 55.078125 55.328125 \nQ 55.078125 49.078125 51.53125 44.71875 \nQ 48 40.375 41.703125 38.8125 \nQ 48.828125 37.15625 52.796875 32.3125 \nQ 56.78125 27.484375 56.78125 20.515625 \nQ 56.78125 9.90625 50.3125 4.234375 \nQ 43.84375 -1.421875 31.78125 -1.421875 \nQ 19.734375 -1.421875 13.25 4.234375 \nQ 6.78125 9.90625 6.78125 20.515625 \nQ 6.78125 27.484375 10.78125 32.3125 \nQ 14.796875 37.15625 21.921875 38.8125 \nz\nM 18.3125 54.390625 \nQ 18.3125 48.734375 21.84375 45.5625 \nQ 25.390625 42.390625 31.78125 42.390625 \nQ 38.140625 42.390625 41.71875 45.5625 \nQ 45.3125 48.734375 45.3125 54.390625 \nQ 45.3125 60.0625 41.71875 63.234375 \nQ 38.140625 66.40625 31.78125 66.40625 \nQ 25.390625 66.40625 21.84375 63.234375 \nQ 18.3125 60.0625 18.3125 54.390625 \nz\n\" id=\"DejaVuSans-56\"/>\n      </defs>\n      <g transform=\"translate(7.2 203.610571)scale(0.1 -0.1)\">\n       <use xlink:href=\"#DejaVuSans-49\"/>\n       <use x=\"63.623047\" xlink:href=\"#DejaVuSans-46\"/>\n       <use x=\"95.410156\" xlink:href=\"#DejaVuSans-49\"/>\n       <use x=\"159.033203\" xlink:href=\"#DejaVuSans-53\"/>\n       <use x=\"222.65625\" xlink:href=\"#DejaVuSans-56\"/>\n      </g>\n     </g>\n    </g>\n    <g id=\"ytick_2\">\n     <g id=\"line2d_10\">\n      <g>\n       <use style=\"stroke:#000000;stroke-width:0.8;\" x=\"42.828125\" xlink:href=\"#m678da14215\" y=\"173.418113\"/>\n      </g>\n     </g>\n     <g id=\"text_10\">\n      <!-- 1.159 -->\n      <defs>\n       <path d=\"M 10.984375 1.515625 \nL 10.984375 10.5 \nQ 14.703125 8.734375 18.5 7.8125 \nQ 22.3125 6.890625 25.984375 6.890625 \nQ 35.75 6.890625 40.890625 13.453125 \nQ 46.046875 20.015625 46.78125 33.40625 \nQ 43.953125 29.203125 39.59375 26.953125 \nQ 35.25 24.703125 29.984375 24.703125 \nQ 19.046875 24.703125 12.671875 31.3125 \nQ 6.296875 37.9375 6.296875 49.421875 \nQ 6.296875 60.640625 12.9375 67.421875 \nQ 19.578125 74.21875 30.609375 74.21875 \nQ 43.265625 74.21875 49.921875 64.515625 \nQ 56.59375 54.828125 56.59375 36.375 \nQ 56.59375 19.140625 48.40625 8.859375 \nQ 40.234375 -1.421875 26.421875 -1.421875 \nQ 22.703125 -1.421875 18.890625 -0.6875 \nQ 15.09375 0.046875 10.984375 1.515625 \nz\nM 30.609375 32.421875 \nQ 37.25 32.421875 41.125 36.953125 \nQ 45.015625 41.5 45.015625 49.421875 \nQ 45.015625 57.28125 41.125 61.84375 \nQ 37.25 66.40625 30.609375 66.40625 \nQ 23.96875 66.40625 20.09375 61.84375 \nQ 16.21875 57.28125 16.21875 49.421875 \nQ 16.21875 41.5 20.09375 36.953125 \nQ 23.96875 32.421875 30.609375 32.421875 \nz\n\" id=\"DejaVuSans-57\"/>\n      </defs>\n      <g transform=\"translate(7.2 177.217332)scale(0.1 -0.1)\">\n       <use xlink:href=\"#DejaVuSans-49\"/>\n       <use x=\"63.623047\" xlink:href=\"#DejaVuSans-46\"/>\n       <use x=\"95.410156\" xlink:href=\"#DejaVuSans-49\"/>\n       <use x=\"159.033203\" xlink:href=\"#DejaVuSans-53\"/>\n       <use x=\"222.65625\" xlink:href=\"#DejaVuSans-57\"/>\n      </g>\n     </g>\n    </g>\n    <g id=\"ytick_3\">\n     <g id=\"line2d_11\">\n      <g>\n       <use style=\"stroke:#000000;stroke-width:0.8;\" x=\"42.828125\" xlink:href=\"#m678da14215\" y=\"147.024874\"/>\n      </g>\n     </g>\n     <g id=\"text_11\">\n      <!-- 1.160 -->\n      <defs>\n       <path d=\"M 33.015625 40.375 \nQ 26.375 40.375 22.484375 35.828125 \nQ 18.609375 31.296875 18.609375 23.390625 \nQ 18.609375 15.53125 22.484375 10.953125 \nQ 26.375 6.390625 33.015625 6.390625 \nQ 39.65625 6.390625 43.53125 10.953125 \nQ 47.40625 15.53125 47.40625 23.390625 \nQ 47.40625 31.296875 43.53125 35.828125 \nQ 39.65625 40.375 33.015625 40.375 \nz\nM 52.59375 71.296875 \nL 52.59375 62.3125 \nQ 48.875 64.0625 45.09375 64.984375 \nQ 41.3125 65.921875 37.59375 65.921875 \nQ 27.828125 65.921875 22.671875 59.328125 \nQ 17.53125 52.734375 16.796875 39.40625 \nQ 19.671875 43.65625 24.015625 45.921875 \nQ 28.375 48.1875 33.59375 48.1875 \nQ 44.578125 48.1875 50.953125 41.515625 \nQ 57.328125 34.859375 57.328125 23.390625 \nQ 57.328125 12.15625 50.6875 5.359375 \nQ 44.046875 -1.421875 33.015625 -1.421875 \nQ 20.359375 -1.421875 13.671875 8.265625 \nQ 6.984375 17.96875 6.984375 36.375 \nQ 6.984375 53.65625 15.1875 63.9375 \nQ 23.390625 74.21875 37.203125 74.21875 \nQ 40.921875 74.21875 44.703125 73.484375 \nQ 48.484375 72.75 52.59375 71.296875 \nz\n\" id=\"DejaVuSans-54\"/>\n      </defs>\n      <g transform=\"translate(7.2 150.824092)scale(0.1 -0.1)\">\n       <use xlink:href=\"#DejaVuSans-49\"/>\n       <use x=\"63.623047\" xlink:href=\"#DejaVuSans-46\"/>\n       <use x=\"95.410156\" xlink:href=\"#DejaVuSans-49\"/>\n       <use x=\"159.033203\" xlink:href=\"#DejaVuSans-54\"/>\n       <use x=\"222.65625\" xlink:href=\"#DejaVuSans-48\"/>\n      </g>\n     </g>\n    </g>\n    <g id=\"ytick_4\">\n     <g id=\"line2d_12\">\n      <g>\n       <use style=\"stroke:#000000;stroke-width:0.8;\" x=\"42.828125\" xlink:href=\"#m678da14215\" y=\"120.631635\"/>\n      </g>\n     </g>\n     <g id=\"text_12\">\n      <!-- 1.161 -->\n      <g transform=\"translate(7.2 124.430853)scale(0.1 -0.1)\">\n       <use xlink:href=\"#DejaVuSans-49\"/>\n       <use x=\"63.623047\" xlink:href=\"#DejaVuSans-46\"/>\n       <use x=\"95.410156\" xlink:href=\"#DejaVuSans-49\"/>\n       <use x=\"159.033203\" xlink:href=\"#DejaVuSans-54\"/>\n       <use x=\"222.65625\" xlink:href=\"#DejaVuSans-49\"/>\n      </g>\n     </g>\n    </g>\n    <g id=\"ytick_5\">\n     <g id=\"line2d_13\">\n      <g>\n       <use style=\"stroke:#000000;stroke-width:0.8;\" x=\"42.828125\" xlink:href=\"#m678da14215\" y=\"94.238395\"/>\n      </g>\n     </g>\n     <g id=\"text_13\">\n      <!-- 1.162 -->\n      <g transform=\"translate(7.2 98.037614)scale(0.1 -0.1)\">\n       <use xlink:href=\"#DejaVuSans-49\"/>\n       <use x=\"63.623047\" xlink:href=\"#DejaVuSans-46\"/>\n       <use x=\"95.410156\" xlink:href=\"#DejaVuSans-49\"/>\n       <use x=\"159.033203\" xlink:href=\"#DejaVuSans-54\"/>\n       <use x=\"222.65625\" xlink:href=\"#DejaVuSans-50\"/>\n      </g>\n     </g>\n    </g>\n    <g id=\"ytick_6\">\n     <g id=\"line2d_14\">\n      <g>\n       <use style=\"stroke:#000000;stroke-width:0.8;\" x=\"42.828125\" xlink:href=\"#m678da14215\" y=\"67.845156\"/>\n      </g>\n     </g>\n     <g id=\"text_14\">\n      <!-- 1.163 -->\n      <defs>\n       <path d=\"M 40.578125 39.3125 \nQ 47.65625 37.796875 51.625 33 \nQ 55.609375 28.21875 55.609375 21.1875 \nQ 55.609375 10.40625 48.1875 4.484375 \nQ 40.765625 -1.421875 27.09375 -1.421875 \nQ 22.515625 -1.421875 17.65625 -0.515625 \nQ 12.796875 0.390625 7.625 2.203125 \nL 7.625 11.71875 \nQ 11.71875 9.328125 16.59375 8.109375 \nQ 21.484375 6.890625 26.8125 6.890625 \nQ 36.078125 6.890625 40.9375 10.546875 \nQ 45.796875 14.203125 45.796875 21.1875 \nQ 45.796875 27.640625 41.28125 31.265625 \nQ 36.765625 34.90625 28.71875 34.90625 \nL 20.21875 34.90625 \nL 20.21875 43.015625 \nL 29.109375 43.015625 \nQ 36.375 43.015625 40.234375 45.921875 \nQ 44.09375 48.828125 44.09375 54.296875 \nQ 44.09375 59.90625 40.109375 62.90625 \nQ 36.140625 65.921875 28.71875 65.921875 \nQ 24.65625 65.921875 20.015625 65.03125 \nQ 15.375 64.15625 9.8125 62.3125 \nL 9.8125 71.09375 \nQ 15.4375 72.65625 20.34375 73.4375 \nQ 25.25 74.21875 29.59375 74.21875 \nQ 40.828125 74.21875 47.359375 69.109375 \nQ 53.90625 64.015625 53.90625 55.328125 \nQ 53.90625 49.265625 50.4375 45.09375 \nQ 46.96875 40.921875 40.578125 39.3125 \nz\n\" id=\"DejaVuSans-51\"/>\n      </defs>\n      <g transform=\"translate(7.2 71.644375)scale(0.1 -0.1)\">\n       <use xlink:href=\"#DejaVuSans-49\"/>\n       <use x=\"63.623047\" xlink:href=\"#DejaVuSans-46\"/>\n       <use x=\"95.410156\" xlink:href=\"#DejaVuSans-49\"/>\n       <use x=\"159.033203\" xlink:href=\"#DejaVuSans-54\"/>\n       <use x=\"222.65625\" xlink:href=\"#DejaVuSans-51\"/>\n      </g>\n     </g>\n    </g>\n    <g id=\"ytick_7\">\n     <g id=\"line2d_15\">\n      <g>\n       <use style=\"stroke:#000000;stroke-width:0.8;\" x=\"42.828125\" xlink:href=\"#m678da14215\" y=\"41.451917\"/>\n      </g>\n     </g>\n     <g id=\"text_15\">\n      <!-- 1.164 -->\n      <g transform=\"translate(7.2 45.251136)scale(0.1 -0.1)\">\n       <use xlink:href=\"#DejaVuSans-49\"/>\n       <use x=\"63.623047\" xlink:href=\"#DejaVuSans-46\"/>\n       <use x=\"95.410156\" xlink:href=\"#DejaVuSans-49\"/>\n       <use x=\"159.033203\" xlink:href=\"#DejaVuSans-54\"/>\n       <use x=\"222.65625\" xlink:href=\"#DejaVuSans-52\"/>\n      </g>\n     </g>\n    </g>\n    <g id=\"ytick_8\">\n     <g id=\"line2d_16\">\n      <g>\n       <use style=\"stroke:#000000;stroke-width:0.8;\" x=\"42.828125\" xlink:href=\"#m678da14215\" y=\"15.058678\"/>\n      </g>\n     </g>\n     <g id=\"text_16\">\n      <!-- 1.165 -->\n      <g transform=\"translate(7.2 18.857897)scale(0.1 -0.1)\">\n       <use xlink:href=\"#DejaVuSans-49\"/>\n       <use x=\"63.623047\" xlink:href=\"#DejaVuSans-46\"/>\n       <use x=\"95.410156\" xlink:href=\"#DejaVuSans-49\"/>\n       <use x=\"159.033203\" xlink:href=\"#DejaVuSans-54\"/>\n       <use x=\"222.65625\" xlink:href=\"#DejaVuSans-53\"/>\n      </g>\n     </g>\n    </g>\n   </g>\n   <g id=\"patch_3\">\n    <path d=\"M 42.828125 224.64 \nL 42.828125 7.2 \n\" style=\"fill:none;stroke:#000000;stroke-linecap:square;stroke-linejoin:miter;stroke-width:0.8;\"/>\n   </g>\n   <g id=\"patch_4\">\n    <path d=\"M 377.628125 224.64 \nL 377.628125 7.2 \n\" style=\"fill:none;stroke:#000000;stroke-linecap:square;stroke-linejoin:miter;stroke-width:0.8;\"/>\n   </g>\n   <g id=\"patch_5\">\n    <path d=\"M 42.828125 224.64 \nL 377.628125 224.64 \n\" style=\"fill:none;stroke:#000000;stroke-linecap:square;stroke-linejoin:miter;stroke-width:0.8;\"/>\n   </g>\n   <g id=\"patch_6\">\n    <path d=\"M 42.828125 7.2 \nL 377.628125 7.2 \n\" style=\"fill:none;stroke:#000000;stroke-linecap:square;stroke-linejoin:miter;stroke-width:0.8;\"/>\n   </g>\n  </g>\n </g>\n <defs>\n  <clipPath id=\"pf543d4d41a\">\n   <rect height=\"217.44\" width=\"334.8\" x=\"42.828125\" y=\"7.2\"/>\n  </clipPath>\n </defs>\n</svg>\n",
      "image/png": "[encoded data removed]"
     },
     "metadata": {
      "needs_background": "light"
     }
    }
   ],
   "source": [
    "plt.scatter(embedding_1.sum(axis=0)[0], embedding_1.sum(axis=0)[1])\n",
    "plt.scatter(embedding_2.sum(axis=0)[0], embedding_2.sum(axis=0)[1])"
   ]
  },
  {
   "cell_type": "code",
   "execution_count": null,
   "metadata": {},
   "outputs": [],
   "source": [
    "svd = SVD(3)\n",
    "embedding = svd.fit_transform(adj)\n",
    "embedding.shape"
   ]
  },
  {
   "cell_type": "code",
   "execution_count": null,
   "metadata": {},
   "outputs": [],
   "source": [
    "image = svg_graph(adj)\n",
    "SVG(image)"
   ]
  },
  {
   "cell_type": "code",
   "execution_count": null,
   "metadata": {},
   "outputs": [],
   "source": [
    "graph = parse_tsv(str(data_path / 'test_graph.csv'), delimiter=',', weighted=False, directed=True)"
   ]
  },
  {
   "cell_type": "code",
   "execution_count": null,
   "metadata": {},
   "outputs": [],
   "source": [
    "adj = np.array(graph.adjacency.todense())\n",
    "adj"
   ]
  },
  {
   "cell_type": "code",
   "execution_count": null,
   "metadata": {},
   "outputs": [],
   "source": [
    "image = svg_graph(adj)\n",
    "SVG(image)"
   ]
  },
  {
   "cell_type": "code",
   "execution_count": null,
   "metadata": {},
   "outputs": [],
   "source": [
    "graph.names"
   ]
  },
  {
   "cell_type": "code",
   "execution_count": null,
   "metadata": {},
   "outputs": [],
   "source": [
    "from sknetwork.data import erdos_renyie, block_model, linear_graph, cyclic_graph, linear_digraph, cyclic_digraph"
   ]
  },
  {
   "cell_type": "code",
   "execution_count": null,
   "metadata": {},
   "outputs": [],
   "source": [
    "graph = linear_digraph(8, metadata=True)\n",
    "adjacency = graph.adjacency\n",
    "position = graph.position"
   ]
  },
  {
   "cell_type": "code",
   "execution_count": null,
   "metadata": {},
   "outputs": [],
   "source": [
    "graph"
   ]
  },
  {
   "cell_type": "code",
   "execution_count": null,
   "metadata": {},
   "outputs": [],
   "source": [
    "from scipy import sparse\n",
    "\n",
    "row = np.array(\n",
    "        [0, 0, 1, 1, 2, 3, 3, 3, 3, 3, 4, 4, 4, 5, 5, 5, 5,\n",
    "         6, 6, 7, 7, 7, 7, 7, 7, 8, 8, 8, 8, 8, 8, 8, 9, 9,\n",
    "         10, 10, 10, 10, 10, 11, 11, 11, 11, 11, 12, 12, 12, 12, 13, 13])\n",
    "col = np.array(\n",
    "        [3, 10, 3, 12, 9, 0, 1, 7, 11, 12, 2, 5, 9, 2, 4, 8, 9,\n",
    "         0, 13, 1, 2, 3, 8, 11, 12, 0, 1, 4, 5, 7, 10, 11, 2, 4,\n",
    "         0, 3, 8, 11, 12, 0, 1, 3, 10, 12, 1, 3, 4, 7, 6, 8])\n",
    "adjacency = sparse.csr_matrix((np.ones(len(row), dtype=int), (row, col)), shape=(14, 14))"
   ]
  },
  {
   "cell_type": "code",
   "execution_count": null,
   "metadata": {},
   "outputs": [],
   "source": [
    "adjacency.todense()"
   ]
  },
  {
   "cell_type": "code",
   "execution_count": null,
   "metadata": {},
   "outputs": [],
   "source": []
  }
 ],
 "metadata": {
  "accelerator": "GPU",
  "colab": {
   "authorship_tag": "ABX9TyMekPH/vNJW1JlfMK+qprMe",
   "name": "test_nni.ipynb",
   "provenance": []
  },
  "kernelspec": {
   "display_name": "Python 3",
   "language": "python",
   "name": "python3"
  },
  "language_info": {
   "codemirror_mode": {
    "name": "ipython",
    "version": 3
   },
   "file_extension": ".py",
   "mimetype": "text/x-python",
   "name": "python",
   "nbconvert_exporter": "python",
   "pygments_lexer": "ipython3",
   "version": "3.6.10-final"
  },
  "widgets": {
   "application/vnd.jupyter.widget-state+json": {
    "26c538088f8b44ebb69ddee25dc7842a": {
     "model_module": "@jupyter-widgets/base",
     "model_name": "LayoutModel",
     "state": {
      "_model_module": "@jupyter-widgets/base",
      "_model_module_version": "1.2.0",
      "_model_name": "LayoutModel",
      "_view_count": null,
      "_view_module": "@jupyter-widgets/base",
      "_view_module_version": "1.2.0",
      "_view_name": "LayoutView",
      "align_content": null,
      "align_items": null,
      "align_self": null,
      "border": null,
      "bottom": null,
      "display": null,
      "flex": null,
      "flex_flow": null,
      "grid_area": null,
      "grid_auto_columns": null,
      "grid_auto_flow": null,
      "grid_auto_rows": null,
      "grid_column": null,
      "grid_gap": null,
      "grid_row": null,
      "grid_template_areas": null,
      "grid_template_columns": null,
      "grid_template_rows": null,
      "height": null,
      "justify_content": null,
      "justify_items": null,
      "left": null,
      "margin": null,
      "max_height": null,
      "max_width": null,
      "min_height": null,
      "min_width": null,
      "object_fit": null,
      "object_position": null,
      "order": null,
      "overflow": null,
      "overflow_x": null,
      "overflow_y": null,
      "padding": null,
      "right": null,
      "top": null,
      "visibility": null,
      "width": null
     }
    },
    "3bb483571e9447a7a8d800dcc9c1a3b7": {
     "model_module": "@jupyter-widgets/controls",
     "model_name": "DescriptionStyleModel",
     "state": {
      "_model_module": "@jupyter-widgets/controls",
      "_model_module_version": "1.5.0",
      "_model_name": "DescriptionStyleModel",
      "_view_count": null,
      "_view_module": "@jupyter-widgets/base",
      "_view_module_version": "1.2.0",
      "_view_name": "StyleView",
      "description_width": ""
     }
    },
    "5d6293f1bda041a18cfb8f3557cba6e8": {
     "model_module": "@jupyter-widgets/base",
     "model_name": "LayoutModel",
     "state": {
      "_model_module": "@jupyter-widgets/base",
      "_model_module_version": "1.2.0",
      "_model_name": "LayoutModel",
      "_view_count": null,
      "_view_module": "@jupyter-widgets/base",
      "_view_module_version": "1.2.0",
      "_view_name": "LayoutView",
      "align_content": null,
      "align_items": null,
      "align_self": null,
      "border": null,
      "bottom": null,
      "display": null,
      "flex": null,
      "flex_flow": null,
      "grid_area": null,
      "grid_auto_columns": null,
      "grid_auto_flow": null,
      "grid_auto_rows": null,
      "grid_column": null,
      "grid_gap": null,
      "grid_row": null,
      "grid_template_areas": null,
      "grid_template_columns": null,
      "grid_template_rows": null,
      "height": null,
      "justify_content": null,
      "justify_items": null,
      "left": null,
      "margin": null,
      "max_height": null,
      "max_width": null,
      "min_height": null,
      "min_width": null,
      "object_fit": null,
      "object_position": null,
      "order": null,
      "overflow": null,
      "overflow_x": null,
      "overflow_y": null,
      "padding": null,
      "right": null,
      "top": null,
      "visibility": null,
      "width": null
     }
    },
    "64b0a84c5e304a0fbc8d702a2a76080f": {
     "model_module": "@jupyter-widgets/controls",
     "model_name": "ProgressStyleModel",
     "state": {
      "_model_module": "@jupyter-widgets/controls",
      "_model_module_version": "1.5.0",
      "_model_name": "ProgressStyleModel",
      "_view_count": null,
      "_view_module": "@jupyter-widgets/base",
      "_view_module_version": "1.2.0",
      "_view_name": "StyleView",
      "bar_color": null,
      "description_width": ""
     }
    },
    "ac5588d52ff944cca5be3f4aebc0129d": {
     "model_module": "@jupyter-widgets/base",
     "model_name": "LayoutModel",
     "state": {
      "_model_module": "@jupyter-widgets/base",
      "_model_module_version": "1.2.0",
      "_model_name": "LayoutModel",
      "_view_count": null,
      "_view_module": "@jupyter-widgets/base",
      "_view_module_version": "1.2.0",
      "_view_name": "LayoutView",
      "align_content": null,
      "align_items": null,
      "align_self": null,
      "border": null,
      "bottom": null,
      "display": null,
      "flex": null,
      "flex_flow": null,
      "grid_area": null,
      "grid_auto_columns": null,
      "grid_auto_flow": null,
      "grid_auto_rows": null,
      "grid_column": null,
      "grid_gap": null,
      "grid_row": null,
      "grid_template_areas": null,
      "grid_template_columns": null,
      "grid_template_rows": null,
      "height": null,
      "justify_content": null,
      "justify_items": null,
      "left": null,
      "margin": null,
      "max_height": null,
      "max_width": null,
      "min_height": null,
      "min_width": null,
      "object_fit": null,
      "object_position": null,
      "order": null,
      "overflow": null,
      "overflow_x": null,
      "overflow_y": null,
      "padding": null,
      "right": null,
      "top": null,
      "visibility": null,
      "width": null
     }
    },
    "b8419cde07a44d058d5522283f3b76f1": {
     "model_module": "@jupyter-widgets/controls",
     "model_name": "HBoxModel",
     "state": {
      "_dom_classes": [],
      "_model_module": "@jupyter-widgets/controls",
      "_model_module_version": "1.5.0",
      "_model_name": "HBoxModel",
      "_view_count": null,
      "_view_module": "@jupyter-widgets/controls",
      "_view_module_version": "1.5.0",
      "_view_name": "HBoxView",
      "box_style": "",
      "children": [
       "IPY_MODEL_e2e59a38051e483bbbb1d13b72fa563c",
       "IPY_MODEL_d35a80e88fab44068f7270aa63196bcf"
      ],
      "layout": "IPY_MODEL_ac5588d52ff944cca5be3f4aebc0129d"
     }
    },
    "d35a80e88fab44068f7270aa63196bcf": {
     "model_module": "@jupyter-widgets/controls",
     "model_name": "HTMLModel",
     "state": {
      "_dom_classes": [],
      "_model_module": "@jupyter-widgets/controls",
      "_model_module_version": "1.5.0",
      "_model_name": "HTMLModel",
      "_view_count": null,
      "_view_module": "@jupyter-widgets/controls",
      "_view_module_version": "1.5.0",
      "_view_name": "HTMLView",
      "description": "",
      "description_tooltip": null,
      "layout": "IPY_MODEL_5d6293f1bda041a18cfb8f3557cba6e8",
      "placeholder": "​",
      "style": "IPY_MODEL_3bb483571e9447a7a8d800dcc9c1a3b7",
      "value": "170500096it [00:04, 42227376.46it/s]"
     }
    },
    "e2e59a38051e483bbbb1d13b72fa563c": {
     "model_module": "@jupyter-widgets/controls",
     "model_name": "IntProgressModel",
     "state": {
      "_dom_classes": [],
      "_model_module": "@jupyter-widgets/controls",
      "_model_module_version": "1.5.0",
      "_model_name": "IntProgressModel",
      "_view_count": null,
      "_view_module": "@jupyter-widgets/controls",
      "_view_module_version": "1.5.0",
      "_view_name": "ProgressView",
      "bar_style": "success",
      "description": "",
      "description_tooltip": null,
      "layout": "IPY_MODEL_26c538088f8b44ebb69ddee25dc7842a",
      "max": 1,
      "min": 0,
      "orientation": "horizontal",
      "style": "IPY_MODEL_64b0a84c5e304a0fbc8d702a2a76080f",
      "value": 1
     }
    }
   }
  }
 },
 "nbformat": 4,
 "nbformat_minor": 4
}