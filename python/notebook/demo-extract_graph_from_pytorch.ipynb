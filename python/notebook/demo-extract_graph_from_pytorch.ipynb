{
 "cells": [
  {
   "cell_type": "code",
   "execution_count": 13,
   "metadata": {},
   "outputs": [
    {
     "name": "stdout",
     "output_type": "stream",
     "text": [
      "The autoreload extension is already loaded. To reload it, use:\n",
      "  %reload_ext autoreload\n"
     ]
    }
   ],
   "source": [
    "%load_ext autoreload\n",
    "%autoreload 2\n",
    "import torch\n",
    "from torch import nn, optim\n",
    "from torch.autograd import Variable\n",
    "from torch.nn import functional as F\n",
    "from nni.nas.pytorch import mutables\n",
    "from torchvision.datasets import CIFAR10\n",
    "from torchvision import transforms\n",
    "import numpy as np\n",
    "from copy import deepcopy\n",
    "from torchviz import make_dot\n",
    "from collections import OrderedDict\n",
    "from pathlib import Path\n",
    "import sys\n",
    "import re\n",
    "\n",
    "project_path = Path.cwd().parent.parent\n",
    "data_path = project_path / 'data'\n",
    "src_path = project_path / 'python' / 'src'\n",
    "sys.path.append(str(src_path))\n",
    "\n",
    "import graph"
   ]
  },
  {
   "cell_type": "markdown",
   "metadata": {},
   "source": [
    "The nni package from microsoft allow us to define the search space of our NAS algorithm (see this [link](https://github.com/microsoft/nni/blob/master/docs/en_US/NAS/NasGuide.md) for more details on the API of nni)."
   ]
  },
  {
   "cell_type": "code",
   "execution_count": 2,
   "metadata": {
    "colab": {},
    "colab_type": "code",
    "id": "vRoF2Aa-T9zM"
   },
   "outputs": [],
   "source": [
    "def reward_accuracy(output, target, topk=(1,)):\n",
    "    batch_size = target.size(0)\n",
    "    _, predicted = torch.max(output.data, 1)\n",
    "    return (predicted == target).sum().item() / batch_size\n",
    "\n",
    "class Net(nn.Module):\n",
    "    def __init__(self):\n",
    "        super(Net, self).__init__()\n",
    "        self.conv1 = mutables.LayerChoice([\n",
    "            nn.Conv2d(3, 32, 3, 1),\n",
    "            nn.Conv2d(3, 32, 2, 1)\n",
    "        ])\n",
    "        self.conv2 = nn.Conv2d(32, 64, 3, 1)\n",
    "        self.conv3 = nn.Conv2d(64, 64, 1, 1)\n",
    "        # declaring that there is exactly one candidate to choose from\n",
    "        # search strategy will choose one or None\n",
    "        self.skipcon = mutables.InputChoice(n_candidates=1, key='conv2->conv3')\n",
    "        self.dropout1 = nn.Dropout2d(0.25)\n",
    "        self.dropout2 = nn.Dropout2d(0.5)\n",
    "        self.max_pool = nn.MaxPool2d(2)\n",
    "        self.fc1 = nn.Linear(12544, 128)\n",
    "        self.fc2 = nn.Linear(128, 10)\n",
    "\n",
    "    def forward(self, x):\n",
    "        x = self.conv1(x)\n",
    "        x = F.relu(x)\n",
    "        x = self.conv2(x)\n",
    "        x0 = self.skipcon([x])\n",
    "        x = self.conv3(x)\n",
    "        if x0 is not None:  # skipconnection is open\n",
    "            x += x0\n",
    "        # A possible connection from conv2 is added to the output of conv3\n",
    "        x = self.max_pool(x)\n",
    "        x = self.dropout1(x)\n",
    "        x = torch.flatten(x, 1)\n",
    "        x = self.fc1(x)\n",
    "        x = F.relu(x)\n",
    "        x = self.dropout2(x)\n",
    "        x = self.fc2(x)\n",
    "        output = F.log_softmax(x, dim=1)\n",
    "        return output"
   ]
  },
  {
   "cell_type": "markdown",
   "metadata": {},
   "source": [
    "Then, we do a single forward pass to generate the computationel graph for the network."
   ]
  },
  {
   "cell_type": "code",
   "execution_count": null,
   "metadata": {
    "colab": {
     "base_uri": "https://localhost:8080/",
     "height": 881,
     "referenced_widgets": [
      "b8419cde07a44d058d5522283f3b76f1",
      "ac5588d52ff944cca5be3f4aebc0129d",
      "e2e59a38051e483bbbb1d13b72fa563c",
      "d35a80e88fab44068f7270aa63196bcf",
      "64b0a84c5e304a0fbc8d702a2a76080f",
      "26c538088f8b44ebb69ddee25dc7842a",
      "3bb483571e9447a7a8d800dcc9c1a3b7",
      "5d6293f1bda041a18cfb8f3557cba6e8"
     ]
    },
    "colab_type": "code",
    "executionInfo": {
     "elapsed": 23847,
     "status": "error",
     "timestamp": 1583442768041,
     "user": {
      "displayName": "Axel Camara",
      "photoUrl": "",
      "userId": "18360483532035067850"
     },
     "user_tz": -60
    },
    "id": "BXVBbQ5Dgvkf",
    "outputId": "13f07216-9968-4d8a-d7cf-edcae1f10bee"
   },
   "outputs": [],
   "source": [
    "use_cuda = False\n",
    "\n",
    "batch_size = 128\n",
    "seed = 42\n",
    "torch.manual_seed(seed)\n",
    "device = torch.device(\"cuda\" if use_cuda else \"cpu\")\n",
    "kwargs = {'num_workers': 1, 'pin_memory': True} if use_cuda else {}\n",
    "\n",
    "model = Net()\n",
    "mean, std = 0.1307, 0.3081\n",
    "\n",
    "dataset_train = CIFAR10(root=str(data_path), train=True, download=True, transform=transforms.Compose([\n",
    "                                 transforms.ToTensor(),\n",
    "                                 transforms.Normalize((mean,), (std,))                   \n",
    "                             ]))\n",
    "dataset_valid = CIFAR10(root=str(data_path), train=False, download=True, transform=transforms.Compose([\n",
    "                                 transforms.ToTensor(),\n",
    "                                 transforms.Normalize((mean,), (std,))\n",
    "                             ]))\n",
    "criterion = nn.CrossEntropyLoss()\n",
    "optimizer = torch.optim.SGD(model.parameters(), 0.05, momentum=0.9, weight_decay=1.0E-4)\n",
    "\n",
    "# use NAS here\n",
    "def top1_accuracy(output, target):\n",
    "    # this is the function that computes the reward, as required by ENAS algorithm\n",
    "    batch_size = target.size(0)\n",
    "    _, predicted = torch.max(output.data, 1)\n",
    "    return (predicted == target).sum().item() / batch_size\n",
    "\n",
    "def metrics_fn(output, target):\n",
    "    # metrics function receives output and target and computes a dict of metrics\n",
    "    return {\"acc1\": reward_accuracy(output, target)}\n",
    "\n",
    "from nni.nas.pytorch import enas\n",
    "trainer = enas.EnasTrainer(model,\n",
    "                           loss=criterion,\n",
    "                           metrics=metrics_fn,\n",
    "                           reward_function=top1_accuracy,\n",
    "                           optimizer=optimizer,\n",
    "                           batch_size=batch_size,\n",
    "                           num_epochs=1,  # 10 epochs\n",
    "                           dataset_train=dataset_train,\n",
    "                           dataset_valid=dataset_valid,\n",
    "                           log_frequency=10)  # print log every 10 steps\n",
    "trainer.train()  # training\n",
    "trainer.export(file=\"./final_architecture.json\")  # export the final architecture to file"
   ]
  },
  {
   "cell_type": "code",
   "execution_count": 4,
   "metadata": {
    "colab": {
     "base_uri": "https://localhost:8080/",
     "height": 1000
    },
    "colab_type": "code",
    "executionInfo": {
     "elapsed": 776,
     "status": "ok",
     "timestamp": 1583442780946,
     "user": {
      "displayName": "Axel Camara",
      "photoUrl": "",
      "userId": "18360483532035067850"
     },
     "user_tz": -60
    },
    "id": "ZlMMFc0QV8se",
    "outputId": "62c0d587-578f-4c81-9f4f-a07c8918f12b"
   },
   "outputs": [
    {
     "data": {
      "image/svg+xml": [
       "<?xml version=\"1.0\" encoding=\"UTF-8\" standalone=\"no\"?>\n",
       "<!DOCTYPE svg PUBLIC \"-//W3C//DTD SVG 1.1//EN\"\n",
       " \"http://www.w3.org/Graphics/SVG/1.1/DTD/svg11.dtd\">\n",
       "<!-- Generated by graphviz version 2.40.1 (20161225.0304)\n",
       " -->\n",
       "<!-- Title: %3 Pages: 1 -->\n",
       "<svg width=\"515pt\" height=\"861pt\"\n",
       " viewBox=\"0.00 0.00 515.00 861.00\" xmlns=\"http://www.w3.org/2000/svg\" xmlns:xlink=\"http://www.w3.org/1999/xlink\">\n",
       "<g id=\"graph0\" class=\"graph\" transform=\"scale(1 1) rotate(0) translate(4 857)\">\n",
       "<title>%3</title>\n",
       "<polygon fill=\"#ffffff\" stroke=\"transparent\" points=\"-4,4 -4,-857 511,-857 511,4 -4,4\"/>\n",
       "<!-- 140181247720640 -->\n",
       "<g id=\"node1\" class=\"node\">\n",
       "<title>140181247720640</title>\n",
       "<polygon fill=\"#caff70\" stroke=\"#000000\" points=\"372.5,-21 247.5,-21 247.5,0 372.5,0 372.5,-21\"/>\n",
       "<text text-anchor=\"middle\" x=\"310\" y=\"-7.4\" font-family=\"Times,serif\" font-size=\"12.00\" fill=\"#000000\">LogSoftmaxBackward</text>\n",
       "</g>\n",
       "<!-- 140181247720752 -->\n",
       "<g id=\"node2\" class=\"node\">\n",
       "<title>140181247720752</title>\n",
       "<polygon fill=\"#d3d3d3\" stroke=\"#000000\" points=\"362,-78 258,-78 258,-57 362,-57 362,-78\"/>\n",
       "<text text-anchor=\"middle\" x=\"310\" y=\"-64.4\" font-family=\"Times,serif\" font-size=\"12.00\" fill=\"#000000\">AddmmBackward</text>\n",
       "</g>\n",
       "<!-- 140181247720752&#45;&gt;140181247720640 -->\n",
       "<g id=\"edge1\" class=\"edge\">\n",
       "<title>140181247720752&#45;&gt;140181247720640</title>\n",
       "<path fill=\"none\" stroke=\"#000000\" d=\"M310,-56.7787C310,-49.6134 310,-39.9517 310,-31.3097\"/>\n",
       "<polygon fill=\"#000000\" stroke=\"#000000\" points=\"313.5001,-31.1732 310,-21.1732 306.5001,-31.1732 313.5001,-31.1732\"/>\n",
       "</g>\n",
       "<!-- 140181247721312 -->\n",
       "<g id=\"node3\" class=\"node\">\n",
       "<title>140181247721312</title>\n",
       "<polygon fill=\"#add8e6\" stroke=\"#000000\" points=\"246,-148 192,-148 192,-114 246,-114 246,-148\"/>\n",
       "<text text-anchor=\"middle\" x=\"219\" y=\"-134.4\" font-family=\"Times,serif\" font-size=\"12.00\" fill=\"#000000\">fc2.bias</text>\n",
       "<text text-anchor=\"middle\" x=\"219\" y=\"-121.4\" font-family=\"Times,serif\" font-size=\"12.00\" fill=\"#000000\"> (10)</text>\n",
       "</g>\n",
       "<!-- 140181247721312&#45;&gt;140181247720752 -->\n",
       "<g id=\"edge2\" class=\"edge\">\n",
       "<title>140181247721312&#45;&gt;140181247720752</title>\n",
       "<path fill=\"none\" stroke=\"#000000\" d=\"M243.3863,-113.9832C256.6468,-104.73 272.9815,-93.3316 286.1567,-84.1379\"/>\n",
       "<polygon fill=\"#000000\" stroke=\"#000000\" points=\"288.4986,-86.7717 294.6965,-78.1788 284.4928,-81.0311 288.4986,-86.7717\"/>\n",
       "</g>\n",
       "<!-- 140181247721368 -->\n",
       "<g id=\"node4\" class=\"node\">\n",
       "<title>140181247721368</title>\n",
       "<polygon fill=\"#d3d3d3\" stroke=\"#000000\" points=\"355.5,-141.5 264.5,-141.5 264.5,-120.5 355.5,-120.5 355.5,-141.5\"/>\n",
       "<text text-anchor=\"middle\" x=\"310\" y=\"-127.9\" font-family=\"Times,serif\" font-size=\"12.00\" fill=\"#000000\">MulBackward0</text>\n",
       "</g>\n",
       "<!-- 140181247721368&#45;&gt;140181247720752 -->\n",
       "<g id=\"edge3\" class=\"edge\">\n",
       "<title>140181247721368&#45;&gt;140181247720752</title>\n",
       "<path fill=\"none\" stroke=\"#000000\" d=\"M310,-120.2281C310,-111.5091 310,-98.9699 310,-88.3068\"/>\n",
       "<polygon fill=\"#000000\" stroke=\"#000000\" points=\"313.5001,-88.1128 310,-78.1128 306.5001,-88.1129 313.5001,-88.1128\"/>\n",
       "</g>\n",
       "<!-- 140181247721032 -->\n",
       "<g id=\"node5\" class=\"node\">\n",
       "<title>140181247721032</title>\n",
       "<polygon fill=\"#d3d3d3\" stroke=\"#000000\" points=\"357,-211.5 263,-211.5 263,-190.5 357,-190.5 357,-211.5\"/>\n",
       "<text text-anchor=\"middle\" x=\"310\" y=\"-197.9\" font-family=\"Times,serif\" font-size=\"12.00\" fill=\"#000000\">ReluBackward0</text>\n",
       "</g>\n",
       "<!-- 140181247721032&#45;&gt;140181247721368 -->\n",
       "<g id=\"edge4\" class=\"edge\">\n",
       "<title>140181247721032&#45;&gt;140181247721368</title>\n",
       "<path fill=\"none\" stroke=\"#000000\" d=\"M310,-190.3685C310,-180.1925 310,-164.5606 310,-151.8912\"/>\n",
       "<polygon fill=\"#000000\" stroke=\"#000000\" points=\"313.5001,-151.7315 310,-141.7315 306.5001,-151.7316 313.5001,-151.7315\"/>\n",
       "</g>\n",
       "<!-- 140181247718120 -->\n",
       "<g id=\"node6\" class=\"node\">\n",
       "<title>140181247718120</title>\n",
       "<polygon fill=\"#d3d3d3\" stroke=\"#000000\" points=\"362,-275 258,-275 258,-254 362,-254 362,-275\"/>\n",
       "<text text-anchor=\"middle\" x=\"310\" y=\"-261.4\" font-family=\"Times,serif\" font-size=\"12.00\" fill=\"#000000\">AddmmBackward</text>\n",
       "</g>\n",
       "<!-- 140181247718120&#45;&gt;140181247721032 -->\n",
       "<g id=\"edge5\" class=\"edge\">\n",
       "<title>140181247718120&#45;&gt;140181247721032</title>\n",
       "<path fill=\"none\" stroke=\"#000000\" d=\"M310,-253.7281C310,-245.0091 310,-232.4699 310,-221.8068\"/>\n",
       "<polygon fill=\"#000000\" stroke=\"#000000\" points=\"313.5001,-221.6128 310,-211.6128 306.5001,-221.6129 313.5001,-221.6128\"/>\n",
       "</g>\n",
       "<!-- 140181247721424 -->\n",
       "<g id=\"node7\" class=\"node\">\n",
       "<title>140181247721424</title>\n",
       "<polygon fill=\"#add8e6\" stroke=\"#000000\" points=\"246,-345 192,-345 192,-311 246,-311 246,-345\"/>\n",
       "<text text-anchor=\"middle\" x=\"219\" y=\"-331.4\" font-family=\"Times,serif\" font-size=\"12.00\" fill=\"#000000\">fc1.bias</text>\n",
       "<text text-anchor=\"middle\" x=\"219\" y=\"-318.4\" font-family=\"Times,serif\" font-size=\"12.00\" fill=\"#000000\"> (128)</text>\n",
       "</g>\n",
       "<!-- 140181247721424&#45;&gt;140181247718120 -->\n",
       "<g id=\"edge6\" class=\"edge\">\n",
       "<title>140181247721424&#45;&gt;140181247718120</title>\n",
       "<path fill=\"none\" stroke=\"#000000\" d=\"M243.3863,-310.9832C256.6468,-301.73 272.9815,-290.3316 286.1567,-281.1379\"/>\n",
       "<polygon fill=\"#000000\" stroke=\"#000000\" points=\"288.4986,-283.7717 294.6965,-275.1788 284.4928,-278.0311 288.4986,-283.7717\"/>\n",
       "</g>\n",
       "<!-- 140181247720080 -->\n",
       "<g id=\"node8\" class=\"node\">\n",
       "<title>140181247720080</title>\n",
       "<polygon fill=\"#d3d3d3\" stroke=\"#000000\" points=\"356,-338.5 264,-338.5 264,-317.5 356,-317.5 356,-338.5\"/>\n",
       "<text text-anchor=\"middle\" x=\"310\" y=\"-324.9\" font-family=\"Times,serif\" font-size=\"12.00\" fill=\"#000000\">ViewBackward</text>\n",
       "</g>\n",
       "<!-- 140181247720080&#45;&gt;140181247718120 -->\n",
       "<g id=\"edge7\" class=\"edge\">\n",
       "<title>140181247720080&#45;&gt;140181247718120</title>\n",
       "<path fill=\"none\" stroke=\"#000000\" d=\"M310,-317.2281C310,-308.5091 310,-295.9699 310,-285.3068\"/>\n",
       "<polygon fill=\"#000000\" stroke=\"#000000\" points=\"313.5001,-285.1128 310,-275.1128 306.5001,-285.1129 313.5001,-285.1128\"/>\n",
       "</g>\n",
       "<!-- 140183043498224 -->\n",
       "<g id=\"node9\" class=\"node\">\n",
       "<title>140183043498224</title>\n",
       "<polygon fill=\"#d3d3d3\" stroke=\"#000000\" points=\"354.5,-408.5 263.5,-408.5 263.5,-387.5 354.5,-387.5 354.5,-408.5\"/>\n",
       "<text text-anchor=\"middle\" x=\"309\" y=\"-394.9\" font-family=\"Times,serif\" font-size=\"12.00\" fill=\"#000000\">MulBackward0</text>\n",
       "</g>\n",
       "<!-- 140183043498224&#45;&gt;140181247720080 -->\n",
       "<g id=\"edge8\" class=\"edge\">\n",
       "<title>140183043498224&#45;&gt;140181247720080</title>\n",
       "<path fill=\"none\" stroke=\"#000000\" d=\"M309.1519,-387.3685C309.2972,-377.1925 309.5206,-361.5606 309.7016,-348.8912\"/>\n",
       "<polygon fill=\"#000000\" stroke=\"#000000\" points=\"313.2034,-348.7806 309.8467,-338.7315 306.2041,-348.6805 313.2034,-348.7806\"/>\n",
       "</g>\n",
       "<!-- 140183043498728 -->\n",
       "<g id=\"node10\" class=\"node\">\n",
       "<title>140183043498728</title>\n",
       "<polygon fill=\"#d3d3d3\" stroke=\"#000000\" points=\"399.5,-472 218.5,-472 218.5,-451 399.5,-451 399.5,-472\"/>\n",
       "<text text-anchor=\"middle\" x=\"309\" y=\"-458.4\" font-family=\"Times,serif\" font-size=\"12.00\" fill=\"#000000\">MaxPool2DWithIndicesBackward</text>\n",
       "</g>\n",
       "<!-- 140183043498728&#45;&gt;140183043498224 -->\n",
       "<g id=\"edge9\" class=\"edge\">\n",
       "<title>140183043498728&#45;&gt;140183043498224</title>\n",
       "<path fill=\"none\" stroke=\"#000000\" d=\"M309,-450.7281C309,-442.0091 309,-429.4699 309,-418.8068\"/>\n",
       "<polygon fill=\"#000000\" stroke=\"#000000\" points=\"312.5001,-418.6128 309,-408.6128 305.5001,-418.6129 312.5001,-418.6128\"/>\n",
       "</g>\n",
       "<!-- 140183043498672 -->\n",
       "<g id=\"node11\" class=\"node\">\n",
       "<title>140183043498672</title>\n",
       "<polygon fill=\"#d3d3d3\" stroke=\"#000000\" points=\"355,-529 263,-529 263,-508 355,-508 355,-529\"/>\n",
       "<text text-anchor=\"middle\" x=\"309\" y=\"-515.4\" font-family=\"Times,serif\" font-size=\"12.00\" fill=\"#000000\">AddBackward0</text>\n",
       "</g>\n",
       "<!-- 140183043498672&#45;&gt;140183043498728 -->\n",
       "<g id=\"edge10\" class=\"edge\">\n",
       "<title>140183043498672&#45;&gt;140183043498728</title>\n",
       "<path fill=\"none\" stroke=\"#000000\" d=\"M309,-507.7787C309,-500.6134 309,-490.9517 309,-482.3097\"/>\n",
       "<polygon fill=\"#000000\" stroke=\"#000000\" points=\"312.5001,-482.1732 309,-472.1732 305.5001,-482.1732 312.5001,-482.1732\"/>\n",
       "</g>\n",
       "<!-- 140183043499400 -->\n",
       "<g id=\"node12\" class=\"node\">\n",
       "<title>140183043499400</title>\n",
       "<polygon fill=\"#d3d3d3\" stroke=\"#000000\" points=\"453,-586 291,-586 291,-565 453,-565 453,-586\"/>\n",
       "<text text-anchor=\"middle\" x=\"372\" y=\"-572.4\" font-family=\"Times,serif\" font-size=\"12.00\" fill=\"#000000\">MkldnnConvolutionBackward</text>\n",
       "</g>\n",
       "<!-- 140183043499400&#45;&gt;140183043498672 -->\n",
       "<g id=\"edge11\" class=\"edge\">\n",
       "<title>140183043499400&#45;&gt;140183043498672</title>\n",
       "<path fill=\"none\" stroke=\"#000000\" d=\"M360.1502,-564.7787C351.1747,-556.658 338.6552,-545.3309 328.2489,-535.9157\"/>\n",
       "<polygon fill=\"#000000\" stroke=\"#000000\" points=\"330.5603,-533.287 320.7967,-529.1732 325.8639,-538.4777 330.5603,-533.287\"/>\n",
       "</g>\n",
       "<!-- 140183043499232 -->\n",
       "<g id=\"node13\" class=\"node\">\n",
       "<title>140183043499232</title>\n",
       "<polygon fill=\"#d3d3d3\" stroke=\"#000000\" points=\"321,-649.5 159,-649.5 159,-628.5 321,-628.5 321,-649.5\"/>\n",
       "<text text-anchor=\"middle\" x=\"240\" y=\"-635.9\" font-family=\"Times,serif\" font-size=\"12.00\" fill=\"#000000\">MkldnnConvolutionBackward</text>\n",
       "</g>\n",
       "<!-- 140183043499232&#45;&gt;140183043498672 -->\n",
       "<g id=\"edge21\" class=\"edge\">\n",
       "<title>140183043499232&#45;&gt;140183043498672</title>\n",
       "<path fill=\"none\" stroke=\"#000000\" d=\"M245.9489,-628.4427C254.0582,-614.0689 269.0556,-587.5477 282,-565 287.0777,-556.1553 292.7388,-546.391 297.5606,-538.1028\"/>\n",
       "<polygon fill=\"#000000\" stroke=\"#000000\" points=\"300.7405,-539.5973 302.7502,-529.1948 294.6921,-536.0736 300.7405,-539.5973\"/>\n",
       "</g>\n",
       "<!-- 140183043499232&#45;&gt;140183043499400 -->\n",
       "<g id=\"edge12\" class=\"edge\">\n",
       "<title>140183043499232&#45;&gt;140183043499400</title>\n",
       "<path fill=\"none\" stroke=\"#000000\" d=\"M262.0938,-628.3715C283.6048,-618.0234 316.5039,-602.197 340.7038,-590.5554\"/>\n",
       "<polygon fill=\"#000000\" stroke=\"#000000\" points=\"342.3399,-593.6523 349.8341,-586.1631 339.3053,-587.3443 342.3399,-593.6523\"/>\n",
       "</g>\n",
       "<!-- 140183043499008 -->\n",
       "<g id=\"node14\" class=\"node\">\n",
       "<title>140183043499008</title>\n",
       "<polygon fill=\"#d3d3d3\" stroke=\"#000000\" points=\"181,-719.5 87,-719.5 87,-698.5 181,-698.5 181,-719.5\"/>\n",
       "<text text-anchor=\"middle\" x=\"134\" y=\"-705.9\" font-family=\"Times,serif\" font-size=\"12.00\" fill=\"#000000\">ReluBackward0</text>\n",
       "</g>\n",
       "<!-- 140183043499008&#45;&gt;140183043499232 -->\n",
       "<g id=\"edge13\" class=\"edge\">\n",
       "<title>140183043499008&#45;&gt;140183043499232</title>\n",
       "<path fill=\"none\" stroke=\"#000000\" d=\"M150.0991,-698.3685C167.555,-686.841 195.6129,-668.3123 215.7416,-655.0197\"/>\n",
       "<polygon fill=\"#000000\" stroke=\"#000000\" points=\"217.6808,-657.9335 224.0967,-649.5022 213.8233,-652.0922 217.6808,-657.9335\"/>\n",
       "</g>\n",
       "<!-- 140183043499624 -->\n",
       "<g id=\"node15\" class=\"node\">\n",
       "<title>140183043499624</title>\n",
       "<polygon fill=\"#d3d3d3\" stroke=\"#000000\" points=\"215,-783 53,-783 53,-762 215,-762 215,-783\"/>\n",
       "<text text-anchor=\"middle\" x=\"134\" y=\"-769.4\" font-family=\"Times,serif\" font-size=\"12.00\" fill=\"#000000\">MkldnnConvolutionBackward</text>\n",
       "</g>\n",
       "<!-- 140183043499624&#45;&gt;140183043499008 -->\n",
       "<g id=\"edge14\" class=\"edge\">\n",
       "<title>140183043499624&#45;&gt;140183043499008</title>\n",
       "<path fill=\"none\" stroke=\"#000000\" d=\"M134,-761.7281C134,-753.0091 134,-740.4699 134,-729.8068\"/>\n",
       "<polygon fill=\"#000000\" stroke=\"#000000\" points=\"137.5001,-729.6128 134,-719.6128 130.5001,-729.6129 137.5001,-729.6128\"/>\n",
       "</g>\n",
       "<!-- 140183043499736 -->\n",
       "<g id=\"node16\" class=\"node\">\n",
       "<title>140183043499736</title>\n",
       "<polygon fill=\"#add8e6\" stroke=\"#000000\" points=\"128,-853 0,-853 0,-819 128,-819 128,-853\"/>\n",
       "<text text-anchor=\"middle\" x=\"64\" y=\"-839.4\" font-family=\"Times,serif\" font-size=\"12.00\" fill=\"#000000\">conv1.choices.0.weight</text>\n",
       "<text text-anchor=\"middle\" x=\"64\" y=\"-826.4\" font-family=\"Times,serif\" font-size=\"12.00\" fill=\"#000000\"> (32, 3, 3, 3)</text>\n",
       "</g>\n",
       "<!-- 140183043499736&#45;&gt;140183043499624 -->\n",
       "<g id=\"edge15\" class=\"edge\">\n",
       "<title>140183043499736&#45;&gt;140183043499624</title>\n",
       "<path fill=\"none\" stroke=\"#000000\" d=\"M82.7587,-818.9832C92.6009,-810.0549 104.6448,-799.1294 114.5826,-790.1143\"/>\n",
       "<polygon fill=\"#000000\" stroke=\"#000000\" points=\"116.9638,-792.6798 122.0188,-783.3687 112.2606,-787.4952 116.9638,-792.6798\"/>\n",
       "</g>\n",
       "<!-- 140183043500016 -->\n",
       "<g id=\"node17\" class=\"node\">\n",
       "<title>140183043500016</title>\n",
       "<polygon fill=\"#add8e6\" stroke=\"#000000\" points=\"261.5,-853 146.5,-853 146.5,-819 261.5,-819 261.5,-853\"/>\n",
       "<text text-anchor=\"middle\" x=\"204\" y=\"-839.4\" font-family=\"Times,serif\" font-size=\"12.00\" fill=\"#000000\">conv1.choices.0.bias</text>\n",
       "<text text-anchor=\"middle\" x=\"204\" y=\"-826.4\" font-family=\"Times,serif\" font-size=\"12.00\" fill=\"#000000\"> (32)</text>\n",
       "</g>\n",
       "<!-- 140183043500016&#45;&gt;140183043499624 -->\n",
       "<g id=\"edge16\" class=\"edge\">\n",
       "<title>140183043500016&#45;&gt;140183043499624</title>\n",
       "<path fill=\"none\" stroke=\"#000000\" d=\"M185.2413,-818.9832C175.3991,-810.0549 163.3552,-799.1294 153.4174,-790.1143\"/>\n",
       "<polygon fill=\"#000000\" stroke=\"#000000\" points=\"155.7394,-787.4952 145.9812,-783.3687 151.0362,-792.6798 155.7394,-787.4952\"/>\n",
       "</g>\n",
       "<!-- 140183043499064 -->\n",
       "<g id=\"node18\" class=\"node\">\n",
       "<title>140183043499064</title>\n",
       "<polygon fill=\"#add8e6\" stroke=\"#000000\" points=\"280.5,-726 199.5,-726 199.5,-692 280.5,-692 280.5,-726\"/>\n",
       "<text text-anchor=\"middle\" x=\"240\" y=\"-712.4\" font-family=\"Times,serif\" font-size=\"12.00\" fill=\"#000000\">conv2.weight</text>\n",
       "<text text-anchor=\"middle\" x=\"240\" y=\"-699.4\" font-family=\"Times,serif\" font-size=\"12.00\" fill=\"#000000\"> (64, 32, 3, 3)</text>\n",
       "</g>\n",
       "<!-- 140183043499064&#45;&gt;140183043499232 -->\n",
       "<g id=\"edge17\" class=\"edge\">\n",
       "<title>140183043499064&#45;&gt;140183043499232</title>\n",
       "<path fill=\"none\" stroke=\"#000000\" d=\"M240,-691.6966C240,-682.0634 240,-670.003 240,-659.8518\"/>\n",
       "<polygon fill=\"#000000\" stroke=\"#000000\" points=\"243.5001,-659.7912 240,-649.7913 236.5001,-659.7913 243.5001,-659.7912\"/>\n",
       "</g>\n",
       "<!-- 140183043499680 -->\n",
       "<g id=\"node19\" class=\"node\">\n",
       "<title>140183043499680</title>\n",
       "<polygon fill=\"#add8e6\" stroke=\"#000000\" points=\"367,-726 299,-726 299,-692 367,-692 367,-726\"/>\n",
       "<text text-anchor=\"middle\" x=\"333\" y=\"-712.4\" font-family=\"Times,serif\" font-size=\"12.00\" fill=\"#000000\">conv2.bias</text>\n",
       "<text text-anchor=\"middle\" x=\"333\" y=\"-699.4\" font-family=\"Times,serif\" font-size=\"12.00\" fill=\"#000000\"> (64)</text>\n",
       "</g>\n",
       "<!-- 140183043499680&#45;&gt;140183043499232 -->\n",
       "<g id=\"edge18\" class=\"edge\">\n",
       "<title>140183043499680&#45;&gt;140183043499232</title>\n",
       "<path fill=\"none\" stroke=\"#000000\" d=\"M310.0112,-691.6966C295.4899,-680.7666 276.8172,-666.7119 262.4084,-655.8666\"/>\n",
       "<polygon fill=\"#000000\" stroke=\"#000000\" points=\"264.1577,-652.8025 254.0631,-649.5852 259.948,-658.3953 264.1577,-652.8025\"/>\n",
       "</g>\n",
       "<!-- 140183043499456 -->\n",
       "<g id=\"node20\" class=\"node\">\n",
       "<title>140183043499456</title>\n",
       "<polygon fill=\"#add8e6\" stroke=\"#000000\" points=\"420.5,-656 339.5,-656 339.5,-622 420.5,-622 420.5,-656\"/>\n",
       "<text text-anchor=\"middle\" x=\"380\" y=\"-642.4\" font-family=\"Times,serif\" font-size=\"12.00\" fill=\"#000000\">conv3.weight</text>\n",
       "<text text-anchor=\"middle\" x=\"380\" y=\"-629.4\" font-family=\"Times,serif\" font-size=\"12.00\" fill=\"#000000\"> (64, 64, 1, 1)</text>\n",
       "</g>\n",
       "<!-- 140183043499456&#45;&gt;140183043499400 -->\n",
       "<g id=\"edge19\" class=\"edge\">\n",
       "<title>140183043499456&#45;&gt;140183043499400</title>\n",
       "<path fill=\"none\" stroke=\"#000000\" d=\"M377.8561,-621.9832C376.865,-614.1157 375.6784,-604.6973 374.6333,-596.4019\"/>\n",
       "<polygon fill=\"#000000\" stroke=\"#000000\" points=\"378.0919,-595.8527 373.3693,-586.3687 371.1468,-596.7278 378.0919,-595.8527\"/>\n",
       "</g>\n",
       "<!-- 140183043499288 -->\n",
       "<g id=\"node21\" class=\"node\">\n",
       "<title>140183043499288</title>\n",
       "<polygon fill=\"#add8e6\" stroke=\"#000000\" points=\"507,-656 439,-656 439,-622 507,-622 507,-656\"/>\n",
       "<text text-anchor=\"middle\" x=\"473\" y=\"-642.4\" font-family=\"Times,serif\" font-size=\"12.00\" fill=\"#000000\">conv3.bias</text>\n",
       "<text text-anchor=\"middle\" x=\"473\" y=\"-629.4\" font-family=\"Times,serif\" font-size=\"12.00\" fill=\"#000000\"> (64)</text>\n",
       "</g>\n",
       "<!-- 140183043499288&#45;&gt;140183043499400 -->\n",
       "<g id=\"edge20\" class=\"edge\">\n",
       "<title>140183043499288&#45;&gt;140183043499400</title>\n",
       "<path fill=\"none\" stroke=\"#000000\" d=\"M445.9339,-621.9832C430.9331,-612.552 412.3879,-600.8924 397.6238,-591.61\"/>\n",
       "<polygon fill=\"#000000\" stroke=\"#000000\" points=\"399.314,-588.5384 388.9852,-586.1788 395.5881,-594.4645 399.314,-588.5384\"/>\n",
       "</g>\n",
       "<!-- 140181247720248 -->\n",
       "<g id=\"node22\" class=\"node\">\n",
       "<title>140181247720248</title>\n",
       "<polygon fill=\"#d3d3d3\" stroke=\"#000000\" points=\"448.5,-338.5 375.5,-338.5 375.5,-317.5 448.5,-317.5 448.5,-338.5\"/>\n",
       "<text text-anchor=\"middle\" x=\"412\" y=\"-324.9\" font-family=\"Times,serif\" font-size=\"12.00\" fill=\"#000000\">TBackward</text>\n",
       "</g>\n",
       "<!-- 140181247720248&#45;&gt;140181247718120 -->\n",
       "<g id=\"edge22\" class=\"edge\">\n",
       "<title>140181247720248&#45;&gt;140181247718120</title>\n",
       "<path fill=\"none\" stroke=\"#000000\" d=\"M394.6971,-317.2281C378.4805,-307.1325 354.0365,-291.9149 335.5702,-280.4187\"/>\n",
       "<polygon fill=\"#000000\" stroke=\"#000000\" points=\"337.3865,-277.4266 327.0474,-275.1128 333.6869,-283.3692 337.3865,-277.4266\"/>\n",
       "</g>\n",
       "<!-- 140183043498616 -->\n",
       "<g id=\"node23\" class=\"node\">\n",
       "<title>140183043498616</title>\n",
       "<polygon fill=\"#add8e6\" stroke=\"#000000\" points=\"453.5,-415 372.5,-415 372.5,-381 453.5,-381 453.5,-415\"/>\n",
       "<text text-anchor=\"middle\" x=\"413\" y=\"-401.4\" font-family=\"Times,serif\" font-size=\"12.00\" fill=\"#000000\">fc1.weight</text>\n",
       "<text text-anchor=\"middle\" x=\"413\" y=\"-388.4\" font-family=\"Times,serif\" font-size=\"12.00\" fill=\"#000000\"> (128, 12544)</text>\n",
       "</g>\n",
       "<!-- 140183043498616&#45;&gt;140181247720248 -->\n",
       "<g id=\"edge23\" class=\"edge\">\n",
       "<title>140183043498616&#45;&gt;140181247720248</title>\n",
       "<path fill=\"none\" stroke=\"#000000\" d=\"M412.7528,-380.6966C412.6152,-371.0634 412.4429,-359.003 412.2979,-348.8518\"/>\n",
       "<polygon fill=\"#000000\" stroke=\"#000000\" points=\"415.7967,-348.7402 412.1542,-338.7913 408.7975,-348.8403 415.7967,-348.7402\"/>\n",
       "</g>\n",
       "<!-- 140181247721200 -->\n",
       "<g id=\"node24\" class=\"node\">\n",
       "<title>140181247721200</title>\n",
       "<polygon fill=\"#d3d3d3\" stroke=\"#000000\" points=\"446.5,-141.5 373.5,-141.5 373.5,-120.5 446.5,-120.5 446.5,-141.5\"/>\n",
       "<text text-anchor=\"middle\" x=\"410\" y=\"-127.9\" font-family=\"Times,serif\" font-size=\"12.00\" fill=\"#000000\">TBackward</text>\n",
       "</g>\n",
       "<!-- 140181247721200&#45;&gt;140181247720752 -->\n",
       "<g id=\"edge24\" class=\"edge\">\n",
       "<title>140181247721200&#45;&gt;140181247720752</title>\n",
       "<path fill=\"none\" stroke=\"#000000\" d=\"M393.0364,-120.2281C377.2823,-110.2242 353.6081,-95.1911 335.564,-83.7331\"/>\n",
       "<polygon fill=\"#000000\" stroke=\"#000000\" points=\"337.0312,-80.5188 326.7131,-78.1128 333.2787,-86.4281 337.0312,-80.5188\"/>\n",
       "</g>\n",
       "<!-- 140181247721088 -->\n",
       "<g id=\"node25\" class=\"node\">\n",
       "<title>140181247721088</title>\n",
       "<polygon fill=\"#add8e6\" stroke=\"#000000\" points=\"443.5,-218 376.5,-218 376.5,-184 443.5,-184 443.5,-218\"/>\n",
       "<text text-anchor=\"middle\" x=\"410\" y=\"-204.4\" font-family=\"Times,serif\" font-size=\"12.00\" fill=\"#000000\">fc2.weight</text>\n",
       "<text text-anchor=\"middle\" x=\"410\" y=\"-191.4\" font-family=\"Times,serif\" font-size=\"12.00\" fill=\"#000000\"> (10, 128)</text>\n",
       "</g>\n",
       "<!-- 140181247721088&#45;&gt;140181247721200 -->\n",
       "<g id=\"edge25\" class=\"edge\">\n",
       "<title>140181247721088&#45;&gt;140181247721200</title>\n",
       "<path fill=\"none\" stroke=\"#000000\" d=\"M410,-183.6966C410,-174.0634 410,-162.003 410,-151.8518\"/>\n",
       "<polygon fill=\"#000000\" stroke=\"#000000\" points=\"413.5001,-151.7912 410,-141.7913 406.5001,-151.7913 413.5001,-151.7912\"/>\n",
       "</g>\n",
       "</g>\n",
       "</svg>\n"
      ],
      "text/plain": [
       "<graphviz.dot.Digraph at 0x7f7e7d797cf8>"
      ]
     },
     "execution_count": 4,
     "metadata": {},
     "output_type": "execute_result"
    }
   ],
   "source": [
    "x = torch.Tensor(dataset_train.data[0].reshape((1, 3, 32, 32)))\n",
    "y = model(x)\n",
    "dot = make_dot(y, params=dict(list(model.named_parameters()) + [('x', x)]))\n",
    "dot"
   ]
  },
  {
   "cell_type": "markdown",
   "metadata": {},
   "source": [
    "Fontions stored in the `graph.py` module of the project can be used to parse the graph from the pytorch object. There is an example in the following cells."
   ]
  },
  {
   "cell_type": "code",
   "execution_count": 6,
   "metadata": {
    "colab": {
     "base_uri": "https://localhost:8080/",
     "height": 364
    },
    "colab_type": "code",
    "executionInfo": {
     "elapsed": 584,
     "status": "ok",
     "timestamp": 1583449388925,
     "user": {
      "displayName": "Axel Camara",
      "photoUrl": "",
      "userId": "18360483532035067850"
     },
     "user_tz": -60
    },
    "id": "5uiQhJ8T4N19",
    "outputId": "755cce46-2acf-4425-e2c3-7c469895255f"
   },
   "outputs": [
    {
     "data": {
      "text/plain": [
       "[{0: ('conv1.choices', 'Conv2d(3, 32, kernel_size=(2, 2), stride=(1, 1))'),\n",
       "  1: ('conv2', 'Conv2d(32, 64, kernel_size=(3, 3), stride=(1, 1))'),\n",
       "  2: ('conv3', 'Conv2d(64, 64, kernel_size=(1, 1), stride=(1, 1))'),\n",
       "  'skipcon': 'skipcon (conv2->conv3)',\n",
       "  3: ('dropout1', 'Dropout2d(p=0.25, inplace=False)'),\n",
       "  4: ('dropout2', 'Dropout2d(p=0.5, inplace=False)'),\n",
       "  5: ('max_pool',\n",
       "   'MaxPool2d(kernel_size=2, stride=2, padding=0, dilation=1, ceil_mode=False)'),\n",
       "  6: ('fc1', 'Linear(in_features=12544, out_features=128, bias=True)'),\n",
       "  7: ('fc2', 'Linear(in_features=128, out_features=10, bias=True)')},\n",
       " {0: ('conv1.choices', 'Conv2d(3, 32, kernel_size=(3, 3), stride=(1, 1))'),\n",
       "  1: ('conv2', 'Conv2d(32, 64, kernel_size=(3, 3), stride=(1, 1))'),\n",
       "  2: ('conv3', 'Conv2d(64, 64, kernel_size=(1, 1), stride=(1, 1))'),\n",
       "  'skipcon': 'skipcon (conv2->conv3)',\n",
       "  3: ('dropout1', 'Dropout2d(p=0.25, inplace=False)'),\n",
       "  4: ('dropout2', 'Dropout2d(p=0.5, inplace=False)'),\n",
       "  5: ('max_pool',\n",
       "   'MaxPool2d(kernel_size=2, stride=2, padding=0, dilation=1, ceil_mode=False)'),\n",
       "  6: ('fc1', 'Linear(in_features=12544, out_features=128, bias=True)'),\n",
       "  7: ('fc2', 'Linear(in_features=128, out_features=10, bias=True)')}]"
      ]
     },
     "execution_count": 6,
     "metadata": {},
     "output_type": "execute_result"
    }
   ],
   "source": [
    "modules = list(model.named_modules())[1:]\n",
    "search_space = graph.parse_modules(modules)\n",
    "graphs = graph.get_search_space(deepcopy(search_space))\n",
    "graphs"
   ]
  },
  {
   "cell_type": "code",
   "execution_count": 7,
   "metadata": {
    "colab": {
     "base_uri": "https://localhost:8080/",
     "height": 208
    },
    "colab_type": "code",
    "executionInfo": {
     "elapsed": 577,
     "status": "ok",
     "timestamp": 1583449394533,
     "user": {
      "displayName": "Axel Camara",
      "photoUrl": "",
      "userId": "18360483532035067850"
     },
     "user_tz": -60
    },
    "id": "UnKFktavMSsP",
    "outputId": "9f2e1998-f297-4fd9-d5d5-36eaff790d7c"
   },
   "outputs": [
    {
     "data": {
      "text/plain": [
       "{0: [('conv1.choices', 'Conv2d(3, 32, kernel_size=(3, 3), stride=(1, 1))'),\n",
       "  ('conv1.choices', 'Conv2d(3, 32, kernel_size=(2, 2), stride=(1, 1))')],\n",
       " 1: ('conv2', 'Conv2d(32, 64, kernel_size=(3, 3), stride=(1, 1))'),\n",
       " 2: ('conv3', 'Conv2d(64, 64, kernel_size=(1, 1), stride=(1, 1))'),\n",
       " 'skipcon': 'skipcon (conv2->conv3)',\n",
       " 3: ('dropout1', 'Dropout2d(p=0.25, inplace=False)'),\n",
       " 4: ('dropout2', 'Dropout2d(p=0.5, inplace=False)'),\n",
       " 5: ('max_pool',\n",
       "  'MaxPool2d(kernel_size=2, stride=2, padding=0, dilation=1, ceil_mode=False)'),\n",
       " 6: ('fc1', 'Linear(in_features=12544, out_features=128, bias=True)'),\n",
       " 7: ('fc2', 'Linear(in_features=128, out_features=10, bias=True)')}"
      ]
     },
     "execution_count": 7,
     "metadata": {},
     "output_type": "execute_result"
    }
   ],
   "source": [
    "search_space"
   ]
  },
  {
   "cell_type": "code",
   "execution_count": 14,
   "metadata": {
    "colab": {},
    "colab_type": "code",
    "id": "iUu6XBMfTmvp"
   },
   "outputs": [],
   "source": [
    "nodes, edges, adjacency = graph.get_graph_attribut(graphs[0])"
   ]
  },
  {
   "cell_type": "code",
   "execution_count": 15,
   "metadata": {
    "colab": {
     "base_uri": "https://localhost:8080/",
     "height": 35
    },
    "colab_type": "code",
    "executionInfo": {
     "elapsed": 390,
     "status": "ok",
     "timestamp": 1583450942544,
     "user": {
      "displayName": "Axel Camara",
      "photoUrl": "",
      "userId": "18360483532035067850"
     },
     "user_tz": -60
    },
    "id": "GKKrMS5K7IbV",
    "outputId": "2405c004-315b-4286-be9d-d1684750fbeb"
   },
   "outputs": [
    {
     "data": {
      "text/plain": [
       "[(0, 1), (1, 2), (2, 3), (3, 4), (4, 5), (5, 6), (6, 7), (1, 3)]"
      ]
     },
     "execution_count": 15,
     "metadata": {},
     "output_type": "execute_result"
    }
   ],
   "source": [
    "edges"
   ]
  },
  {
   "cell_type": "code",
   "execution_count": 16,
   "metadata": {
    "colab": {
     "base_uri": "https://localhost:8080/",
     "height": 173
    },
    "colab_type": "code",
    "executionInfo": {
     "elapsed": 524,
     "status": "ok",
     "timestamp": 1583450944987,
     "user": {
      "displayName": "Axel Camara",
      "photoUrl": "",
      "userId": "18360483532035067850"
     },
     "user_tz": -60
    },
    "id": "HuAWHcbmi6vP",
    "outputId": "785c1343-1623-4688-b843-34af2e4380d6"
   },
   "outputs": [
    {
     "data": {
      "text/plain": [
       "[(0, 'Conv2d(3, 32, kernel_size=(2, 2), stride=(1, 1))'),\n",
       " (1, 'Conv2d(32, 64, kernel_size=(3, 3), stride=(1, 1))'),\n",
       " (2, 'Conv2d(64, 64, kernel_size=(1, 1), stride=(1, 1))'),\n",
       " (3, 'Dropout2d(p=0.25, inplace=False)'),\n",
       " (4, 'Dropout2d(p=0.5, inplace=False)'),\n",
       " (5,\n",
       "  'MaxPool2d(kernel_size=2, stride=2, padding=0, dilation=1, ceil_mode=False)'),\n",
       " (6, 'Linear(in_features=12544, out_features=128, bias=True)'),\n",
       " (7, 'Linear(in_features=128, out_features=10, bias=True)')]"
      ]
     },
     "execution_count": 16,
     "metadata": {},
     "output_type": "execute_result"
    }
   ],
   "source": [
    "nodes"
   ]
  },
  {
   "cell_type": "code",
   "execution_count": 17,
   "metadata": {
    "colab": {
     "base_uri": "https://localhost:8080/",
     "height": 156
    },
    "colab_type": "code",
    "executionInfo": {
     "elapsed": 616,
     "status": "ok",
     "timestamp": 1583450947008,
     "user": {
      "displayName": "Axel Camara",
      "photoUrl": "",
      "userId": "18360483532035067850"
     },
     "user_tz": -60
    },
    "id": "de6XgEYjuu77",
    "outputId": "796b82c2-2c2a-4043-ef24-6e5114b8527b"
   },
   "outputs": [
    {
     "data": {
      "text/plain": [
       "array([[0., 1., 0., 0., 0., 0., 0., 0.],\n",
       "       [0., 0., 1., 1., 0., 0., 0., 0.],\n",
       "       [0., 0., 0., 1., 0., 0., 0., 0.],\n",
       "       [0., 0., 0., 0., 1., 0., 0., 0.],\n",
       "       [0., 0., 0., 0., 0., 1., 0., 0.],\n",
       "       [0., 0., 0., 0., 0., 0., 1., 0.],\n",
       "       [0., 0., 0., 0., 0., 0., 0., 1.],\n",
       "       [0., 0., 0., 0., 0., 0., 0., 0.]])"
      ]
     },
     "execution_count": 17,
     "metadata": {},
     "output_type": "execute_result"
    }
   ],
   "source": [
    "adjacency"
   ]
  }
 ],
 "metadata": {
  "accelerator": "GPU",
  "colab": {
   "authorship_tag": "ABX9TyMekPH/vNJW1JlfMK+qprMe",
   "name": "test_nni.ipynb",
   "provenance": []
  },
  "kernelspec": {
   "display_name": "Python 3",
   "language": "python",
   "name": "python3"
  },
  "language_info": {
   "codemirror_mode": {
    "name": "ipython",
    "version": 3
   },
   "file_extension": ".py",
   "mimetype": "text/x-python",
   "name": "python",
   "nbconvert_exporter": "python",
   "pygments_lexer": "ipython3",
   "version": "3.6.10"
  },
  "widgets": {
   "application/vnd.jupyter.widget-state+json": {
    "26c538088f8b44ebb69ddee25dc7842a": {
     "model_module": "@jupyter-widgets/base",
     "model_name": "LayoutModel",
     "state": {
      "_model_module": "@jupyter-widgets/base",
      "_model_module_version": "1.2.0",
      "_model_name": "LayoutModel",
      "_view_count": null,
      "_view_module": "@jupyter-widgets/base",
      "_view_module_version": "1.2.0",
      "_view_name": "LayoutView",
      "align_content": null,
      "align_items": null,
      "align_self": null,
      "border": null,
      "bottom": null,
      "display": null,
      "flex": null,
      "flex_flow": null,
      "grid_area": null,
      "grid_auto_columns": null,
      "grid_auto_flow": null,
      "grid_auto_rows": null,
      "grid_column": null,
      "grid_gap": null,
      "grid_row": null,
      "grid_template_areas": null,
      "grid_template_columns": null,
      "grid_template_rows": null,
      "height": null,
      "justify_content": null,
      "justify_items": null,
      "left": null,
      "margin": null,
      "max_height": null,
      "max_width": null,
      "min_height": null,
      "min_width": null,
      "object_fit": null,
      "object_position": null,
      "order": null,
      "overflow": null,
      "overflow_x": null,
      "overflow_y": null,
      "padding": null,
      "right": null,
      "top": null,
      "visibility": null,
      "width": null
     }
    },
    "3bb483571e9447a7a8d800dcc9c1a3b7": {
     "model_module": "@jupyter-widgets/controls",
     "model_name": "DescriptionStyleModel",
     "state": {
      "_model_module": "@jupyter-widgets/controls",
      "_model_module_version": "1.5.0",
      "_model_name": "DescriptionStyleModel",
      "_view_count": null,
      "_view_module": "@jupyter-widgets/base",
      "_view_module_version": "1.2.0",
      "_view_name": "StyleView",
      "description_width": ""
     }
    },
    "5d6293f1bda041a18cfb8f3557cba6e8": {
     "model_module": "@jupyter-widgets/base",
     "model_name": "LayoutModel",
     "state": {
      "_model_module": "@jupyter-widgets/base",
      "_model_module_version": "1.2.0",
      "_model_name": "LayoutModel",
      "_view_count": null,
      "_view_module": "@jupyter-widgets/base",
      "_view_module_version": "1.2.0",
      "_view_name": "LayoutView",
      "align_content": null,
      "align_items": null,
      "align_self": null,
      "border": null,
      "bottom": null,
      "display": null,
      "flex": null,
      "flex_flow": null,
      "grid_area": null,
      "grid_auto_columns": null,
      "grid_auto_flow": null,
      "grid_auto_rows": null,
      "grid_column": null,
      "grid_gap": null,
      "grid_row": null,
      "grid_template_areas": null,
      "grid_template_columns": null,
      "grid_template_rows": null,
      "height": null,
      "justify_content": null,
      "justify_items": null,
      "left": null,
      "margin": null,
      "max_height": null,
      "max_width": null,
      "min_height": null,
      "min_width": null,
      "object_fit": null,
      "object_position": null,
      "order": null,
      "overflow": null,
      "overflow_x": null,
      "overflow_y": null,
      "padding": null,
      "right": null,
      "top": null,
      "visibility": null,
      "width": null
     }
    },
    "64b0a84c5e304a0fbc8d702a2a76080f": {
     "model_module": "@jupyter-widgets/controls",
     "model_name": "ProgressStyleModel",
     "state": {
      "_model_module": "@jupyter-widgets/controls",
      "_model_module_version": "1.5.0",
      "_model_name": "ProgressStyleModel",
      "_view_count": null,
      "_view_module": "@jupyter-widgets/base",
      "_view_module_version": "1.2.0",
      "_view_name": "StyleView",
      "bar_color": null,
      "description_width": ""
     }
    },
    "ac5588d52ff944cca5be3f4aebc0129d": {
     "model_module": "@jupyter-widgets/base",
     "model_name": "LayoutModel",
     "state": {
      "_model_module": "@jupyter-widgets/base",
      "_model_module_version": "1.2.0",
      "_model_name": "LayoutModel",
      "_view_count": null,
      "_view_module": "@jupyter-widgets/base",
      "_view_module_version": "1.2.0",
      "_view_name": "LayoutView",
      "align_content": null,
      "align_items": null,
      "align_self": null,
      "border": null,
      "bottom": null,
      "display": null,
      "flex": null,
      "flex_flow": null,
      "grid_area": null,
      "grid_auto_columns": null,
      "grid_auto_flow": null,
      "grid_auto_rows": null,
      "grid_column": null,
      "grid_gap": null,
      "grid_row": null,
      "grid_template_areas": null,
      "grid_template_columns": null,
      "grid_template_rows": null,
      "height": null,
      "justify_content": null,
      "justify_items": null,
      "left": null,
      "margin": null,
      "max_height": null,
      "max_width": null,
      "min_height": null,
      "min_width": null,
      "object_fit": null,
      "object_position": null,
      "order": null,
      "overflow": null,
      "overflow_x": null,
      "overflow_y": null,
      "padding": null,
      "right": null,
      "top": null,
      "visibility": null,
      "width": null
     }
    },
    "b8419cde07a44d058d5522283f3b76f1": {
     "model_module": "@jupyter-widgets/controls",
     "model_name": "HBoxModel",
     "state": {
      "_dom_classes": [],
      "_model_module": "@jupyter-widgets/controls",
      "_model_module_version": "1.5.0",
      "_model_name": "HBoxModel",
      "_view_count": null,
      "_view_module": "@jupyter-widgets/controls",
      "_view_module_version": "1.5.0",
      "_view_name": "HBoxView",
      "box_style": "",
      "children": [
       "IPY_MODEL_e2e59a38051e483bbbb1d13b72fa563c",
       "IPY_MODEL_d35a80e88fab44068f7270aa63196bcf"
      ],
      "layout": "IPY_MODEL_ac5588d52ff944cca5be3f4aebc0129d"
     }
    },
    "d35a80e88fab44068f7270aa63196bcf": {
     "model_module": "@jupyter-widgets/controls",
     "model_name": "HTMLModel",
     "state": {
      "_dom_classes": [],
      "_model_module": "@jupyter-widgets/controls",
      "_model_module_version": "1.5.0",
      "_model_name": "HTMLModel",
      "_view_count": null,
      "_view_module": "@jupyter-widgets/controls",
      "_view_module_version": "1.5.0",
      "_view_name": "HTMLView",
      "description": "",
      "description_tooltip": null,
      "layout": "IPY_MODEL_5d6293f1bda041a18cfb8f3557cba6e8",
      "placeholder": "​",
      "style": "IPY_MODEL_3bb483571e9447a7a8d800dcc9c1a3b7",
      "value": "170500096it [00:04, 42227376.46it/s]"
     }
    },
    "e2e59a38051e483bbbb1d13b72fa563c": {
     "model_module": "@jupyter-widgets/controls",
     "model_name": "IntProgressModel",
     "state": {
      "_dom_classes": [],
      "_model_module": "@jupyter-widgets/controls",
      "_model_module_version": "1.5.0",
      "_model_name": "IntProgressModel",
      "_view_count": null,
      "_view_module": "@jupyter-widgets/controls",
      "_view_module_version": "1.5.0",
      "_view_name": "ProgressView",
      "bar_style": "success",
      "description": "",
      "description_tooltip": null,
      "layout": "IPY_MODEL_26c538088f8b44ebb69ddee25dc7842a",
      "max": 1,
      "min": 0,
      "orientation": "horizontal",
      "style": "IPY_MODEL_64b0a84c5e304a0fbc8d702a2a76080f",
      "value": 1
     }
    }
   }
  }
 },
 "nbformat": 4,
 "nbformat_minor": 4
}
