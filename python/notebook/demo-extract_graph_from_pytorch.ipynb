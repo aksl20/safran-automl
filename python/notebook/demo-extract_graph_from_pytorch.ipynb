{
 "cells": [
  {
   "cell_type": "code",
   "execution_count": 12,
   "metadata": {},
   "outputs": [
    {
     "output_type": "stream",
     "name": "stdout",
     "text": "The autoreload extension is already loaded. To reload it, use:\n  %reload_ext autoreload\n"
    }
   ],
   "source": [
    "%load_ext autoreload\n",
    "%autoreload 2\n",
    "import torch\n",
    "from torch import nn, optim\n",
    "from torch.autograd import Variable\n",
    "from torch.nn import functional as F\n",
    "from nni.nas.pytorch import mutables\n",
    "from torchvision.datasets import CIFAR10\n",
    "from torchvision import transforms\n",
    "import numpy as np\n",
    "from copy import deepcopy\n",
    "from torchviz import make_dot\n",
    "from collections import OrderedDict\n",
    "from pathlib import Path\n",
    "from nni.nas.pytorch import enas\n",
    "import sys\n",
    "import re\n",
    "import scipy.sparse as sp\n",
    "\n",
    "project_path = Path.cwd().parent.parent\n",
    "data_path = project_path / 'data'\n",
    "src_path = project_path / 'python' / 'src'\n",
    "sys.path.append(str(src_path))\n",
    "\n",
    "from graph_generator import GraphGenerator\n",
    "import utils as g\n",
    "\n",
    "# remove scientific notation\n",
    "np.set_printoptions(suppress=True)"
   ]
  },
  {
   "cell_type": "markdown",
   "metadata": {},
   "source": [
    "The nni package from microsoft allow us to define the search space of our NAS algorithm (see this [link](https://github.com/microsoft/nni/blob/master/docs/en_US/NAS/NasGuide.md) for more details on the API of nni)."
   ]
  },
  {
   "cell_type": "code",
   "execution_count": null,
   "metadata": {},
   "outputs": [],
   "source": [
    "def reward_accuracy(output, target, topk=(1,)):\n",
    "    batch_size = target.size(0)\n",
    "    _, predicted = torch.max(output.data, 1)\n",
    "    return (predicted == target).sum().item() / batch_size\n",
    "\n",
    "class Net(nn.Module):\n",
    "    def __init__(self):\n",
    "        super(Net, self).__init__()\n",
    "        # Output size must match, need to play with kernel_size and striding\n",
    "        self.conv1 = mutables.LayerChoice([\n",
    "            nn.Conv2d(in_channels=3, out_channels=32, \n",
    "                      kernel_size=3, stride=3),\n",
    "            nn.Conv2d(in_channels=3, out_channels=32, \n",
    "                      kernel_size=5, stride=3),\n",
    "        ])\n",
    "        self.relu1 = nn.ReLU()\n",
    "        self.batchnorm1 = nn.BatchNorm2d(32)\n",
    "        \n",
    "        self.conv2 = nn.Conv2d(in_channels=32, out_channels=64, \n",
    "                      kernel_size=5, stride=1)\n",
    "        self.relu2 = nn.ReLU()\n",
    "        self.batchnorm2 = nn.BatchNorm2d(64)\n",
    "        \n",
    "        # declaring that there is exactly one candidate to choose from\n",
    "        # search strategy will choose one or None\n",
    "        self.skipcon1 = mutables.InputChoice(n_candidates=1, key='relu2->relu3')\n",
    "        \n",
    "        self.conv3 = nn.Conv2d(in_channels=64, out_channels=64, \n",
    "                      kernel_size=1, stride=1)\n",
    "        self.relu3 = nn.ReLU()\n",
    "        self.batchnorm3 = nn.BatchNorm2d(64)\n",
    "        \n",
    "        self.maxpool3x3 = nn.MaxPool2d(kernel_size=3)\n",
    "        self.output = nn.Linear(in_features=256, out_features=10)\n",
    "            \n",
    "\n",
    "    def forward(self, x):\n",
    "        x = self.relu1(self.batchnorm1(self.conv1(x)))\n",
    "        x = self.relu2(self.batchnorm2(self.conv2(x)))\n",
    "        \n",
    "        # Open skipconnection\n",
    "        x1 = self.skipcon1([x])\n",
    "        \n",
    "        x = self.relu3(self.batchnorm3(self.conv3(x)))\n",
    "        \n",
    "        # A possible connection from conv2 is added to the output of conv3\n",
    "        if x1 is not None:\n",
    "            x += x1\n",
    "        \n",
    "        x = self.maxpool3x3(x)\n",
    "        x = torch.flatten(x, 1)\n",
    "        x = self.output(x)\n",
    "        output = F.log_softmax(x, dim=1)\n",
    "        return output"
   ]
  },
  {
   "cell_type": "markdown",
   "metadata": {},
   "source": [
    "Then, we do a single forward pass to generate the computationel graph for the network."
   ]
  },
  {
   "cell_type": "code",
   "execution_count": null,
   "metadata": {
    "colab": {
     "base_uri": "https://localhost:8080/",
     "height": 881,
     "referenced_widgets": [
      "b8419cde07a44d058d5522283f3b76f1",
      "ac5588d52ff944cca5be3f4aebc0129d",
      "e2e59a38051e483bbbb1d13b72fa563c",
      "d35a80e88fab44068f7270aa63196bcf",
      "64b0a84c5e304a0fbc8d702a2a76080f",
      "26c538088f8b44ebb69ddee25dc7842a",
      "3bb483571e9447a7a8d800dcc9c1a3b7",
      "5d6293f1bda041a18cfb8f3557cba6e8"
     ]
    },
    "colab_type": "code",
    "executionInfo": {
     "elapsed": 23847,
     "status": "error",
     "timestamp": 1583442768041,
     "user": {
      "displayName": "Axel Camara",
      "photoUrl": "",
      "userId": "18360483532035067850"
     },
     "user_tz": -60
    },
    "id": "BXVBbQ5Dgvkf",
    "outputId": "13f07216-9968-4d8a-d7cf-edcae1f10bee"
   },
   "outputs": [],
   "source": [
    "use_cuda = False\n",
    "\n",
    "batch_size = 128\n",
    "seed = 42\n",
    "torch.manual_seed(seed)\n",
    "device = torch.device(\"cuda\" if use_cuda else \"cpu\")\n",
    "kwargs = {'num_workers': 1, 'pin_memory': True} if use_cuda else {}\n",
    "\n",
    "model = Net()\n",
    "mean, std = 0.1307, 0.3081\n",
    "\n",
    "dataset_train = CIFAR10(root=str(data_path), train=True, download=True, transform=transforms.Compose([\n",
    "                                 transforms.ToTensor(),\n",
    "                                 transforms.Normalize((mean,), (std,))                   \n",
    "                             ]))\n",
    "dataset_valid = CIFAR10(root=str(data_path), train=False, download=True, transform=transforms.Compose([\n",
    "                                 transforms.ToTensor(),\n",
    "                                 transforms.Normalize((mean,), (std,))\n",
    "                             ]))\n",
    "criterion = nn.CrossEntropyLoss()\n",
    "optimizer = torch.optim.SGD(model.parameters(), 0.05, momentum=0.9, weight_decay=1.0E-4)\n",
    "\n",
    "# use NAS here\n",
    "def top1_accuracy(output, target):\n",
    "    # this is the function that computes the reward, as required by ENAS algorithm\n",
    "    batch_size = target.size(0)\n",
    "    _, predicted = torch.max(output.data, 1)\n",
    "    return (predicted == target).sum().item() / batch_size\n",
    "\n",
    "def metrics_fn(output, target):\n",
    "    # metrics function receives output and target and computes a dict of metrics\n",
    "    return {\"acc1\": reward_accuracy(output, target)}\n",
    "\n",
    "trainer = enas.EnasTrainer(model,\n",
    "                           loss=criterion,\n",
    "                           metrics=metrics_fn,\n",
    "                           reward_function=top1_accuracy,\n",
    "                           optimizer=optimizer,\n",
    "                           batch_size=batch_size,\n",
    "                           num_epochs=1,  # 10 epochs\n",
    "                           dataset_train=dataset_train,\n",
    "                           dataset_valid=dataset_valid,\n",
    "                           log_frequency=10)  # print log every 10 steps\n",
    "trainer.train()  # training\n",
    "trainer.export(file=\"./final_architecture.json\")  # export the final architecture to file"
   ]
  },
  {
   "cell_type": "code",
   "execution_count": 5,
   "metadata": {
    "colab": {
     "base_uri": "https://localhost:8080/",
     "height": 1000
    },
    "colab_type": "code",
    "executionInfo": {
     "elapsed": 776,
     "status": "ok",
     "timestamp": 1583442780946,
     "user": {
      "displayName": "Axel Camara",
      "photoUrl": "",
      "userId": "18360483532035067850"
     },
     "user_tz": -60
    },
    "id": "ZlMMFc0QV8se",
    "outputId": "62c0d587-578f-4c81-9f4f-a07c8918f12b"
   },
   "outputs": [
    {
     "output_type": "execute_result",
     "data": {
      "text/plain": "<graphviz.dot.Digraph at 0x7f8ed5283ba8>",
      "image/svg+xml": "<?xml version=\"1.0\" encoding=\"UTF-8\" standalone=\"no\"?>\n<!DOCTYPE svg PUBLIC \"-//W3C//DTD SVG 1.1//EN\"\n \"http://www.w3.org/Graphics/SVG/1.1/DTD/svg11.dtd\">\n<!-- Generated by graphviz version 2.40.1 (20161225.0304)\n -->\n<!-- Title: %3 Pages: 1 -->\n<svg width=\"864pt\" height=\"795pt\"\n viewBox=\"0.00 0.00 864.00 794.85\" xmlns=\"http://www.w3.org/2000/svg\" xmlns:xlink=\"http://www.w3.org/1999/xlink\">\n<g id=\"graph0\" class=\"graph\" transform=\"scale(.8538 .8538) rotate(0) translate(4 927)\">\n<title>%3</title>\n<polygon fill=\"#ffffff\" stroke=\"transparent\" points=\"-4,4 -4,-927 1008,-927 1008,4 -4,4\"/>\n<!-- 140249189674008 -->\n<g id=\"node1\" class=\"node\">\n<title>140249189674008</title>\n<polygon fill=\"#caff70\" stroke=\"#000000\" points=\"687,-21 562,-21 562,0 687,0 687,-21\"/>\n<text text-anchor=\"middle\" x=\"624.5\" y=\"-7.4\" font-family=\"Times,serif\" font-size=\"12.00\" fill=\"#000000\">LogSoftmaxBackward</text>\n</g>\n<!-- 140249189673896 -->\n<g id=\"node2\" class=\"node\">\n<title>140249189673896</title>\n<polygon fill=\"#d3d3d3\" stroke=\"#000000\" points=\"676.5,-78 572.5,-78 572.5,-57 676.5,-57 676.5,-78\"/>\n<text text-anchor=\"middle\" x=\"624.5\" y=\"-64.4\" font-family=\"Times,serif\" font-size=\"12.00\" fill=\"#000000\">AddmmBackward</text>\n</g>\n<!-- 140249189673896&#45;&gt;140249189674008 -->\n<g id=\"edge1\" class=\"edge\">\n<title>140249189673896&#45;&gt;140249189674008</title>\n<path fill=\"none\" stroke=\"#000000\" d=\"M624.5,-56.7787C624.5,-49.6134 624.5,-39.9517 624.5,-31.3097\"/>\n<polygon fill=\"#000000\" stroke=\"#000000\" points=\"628.0001,-31.1732 624.5,-21.1732 621.0001,-31.1732 628.0001,-31.1732\"/>\n</g>\n<!-- 140249189674400 -->\n<g id=\"node3\" class=\"node\">\n<title>140249189674400</title>\n<polygon fill=\"#add8e6\" stroke=\"#000000\" points=\"560.5,-148 492.5,-148 492.5,-114 560.5,-114 560.5,-148\"/>\n<text text-anchor=\"middle\" x=\"526.5\" y=\"-134.4\" font-family=\"Times,serif\" font-size=\"12.00\" fill=\"#000000\">output.bias</text>\n<text text-anchor=\"middle\" x=\"526.5\" y=\"-121.4\" font-family=\"Times,serif\" font-size=\"12.00\" fill=\"#000000\"> (10)</text>\n</g>\n<!-- 140249189674400&#45;&gt;140249189673896 -->\n<g id=\"edge2\" class=\"edge\">\n<title>140249189674400&#45;&gt;140249189673896</title>\n<path fill=\"none\" stroke=\"#000000\" d=\"M552.7622,-113.9832C567.18,-104.641 584.9726,-93.1122 599.2309,-83.8734\"/>\n<polygon fill=\"#000000\" stroke=\"#000000\" points=\"601.5303,-86.554 608.0193,-78.1788 597.7238,-80.6794 601.5303,-86.554\"/>\n</g>\n<!-- 140249189674568 -->\n<g id=\"node4\" class=\"node\">\n<title>140249189674568</title>\n<polygon fill=\"#d3d3d3\" stroke=\"#000000\" points=\"670.5,-141.5 578.5,-141.5 578.5,-120.5 670.5,-120.5 670.5,-141.5\"/>\n<text text-anchor=\"middle\" x=\"624.5\" y=\"-127.9\" font-family=\"Times,serif\" font-size=\"12.00\" fill=\"#000000\">ViewBackward</text>\n</g>\n<!-- 140249189674568&#45;&gt;140249189673896 -->\n<g id=\"edge3\" class=\"edge\">\n<title>140249189674568&#45;&gt;140249189673896</title>\n<path fill=\"none\" stroke=\"#000000\" d=\"M624.5,-120.2281C624.5,-111.5091 624.5,-98.9699 624.5,-88.3068\"/>\n<polygon fill=\"#000000\" stroke=\"#000000\" points=\"628.0001,-88.1128 624.5,-78.1128 621.0001,-88.1129 628.0001,-88.1128\"/>\n</g>\n<!-- 140249189674848 -->\n<g id=\"node5\" class=\"node\">\n<title>140249189674848</title>\n<polygon fill=\"#d3d3d3\" stroke=\"#000000\" points=\"702,-211.5 521,-211.5 521,-190.5 702,-190.5 702,-211.5\"/>\n<text text-anchor=\"middle\" x=\"611.5\" y=\"-197.9\" font-family=\"Times,serif\" font-size=\"12.00\" fill=\"#000000\">MaxPool2DWithIndicesBackward</text>\n</g>\n<!-- 140249189674848&#45;&gt;140249189674568 -->\n<g id=\"edge4\" class=\"edge\">\n<title>140249189674848&#45;&gt;140249189674568</title>\n<path fill=\"none\" stroke=\"#000000\" d=\"M613.4744,-190.3685C615.3642,-180.1925 618.2673,-164.5606 620.6202,-151.8912\"/>\n<polygon fill=\"#000000\" stroke=\"#000000\" points=\"624.1222,-152.2025 622.507,-141.7315 617.2398,-150.9243 624.1222,-152.2025\"/>\n</g>\n<!-- 140249189674792 -->\n<g id=\"node6\" class=\"node\">\n<title>140249189674792</title>\n<polygon fill=\"#d3d3d3\" stroke=\"#000000\" points=\"657.5,-275 565.5,-275 565.5,-254 657.5,-254 657.5,-275\"/>\n<text text-anchor=\"middle\" x=\"611.5\" y=\"-261.4\" font-family=\"Times,serif\" font-size=\"12.00\" fill=\"#000000\">AddBackward0</text>\n</g>\n<!-- 140249189674792&#45;&gt;140249189674848 -->\n<g id=\"edge5\" class=\"edge\">\n<title>140249189674792&#45;&gt;140249189674848</title>\n<path fill=\"none\" stroke=\"#000000\" d=\"M611.5,-253.7281C611.5,-245.0091 611.5,-232.4699 611.5,-221.8068\"/>\n<polygon fill=\"#000000\" stroke=\"#000000\" points=\"615.0001,-221.6128 611.5,-211.6128 608.0001,-221.6129 615.0001,-221.6128\"/>\n</g>\n<!-- 140249189674680 -->\n<g id=\"node7\" class=\"node\">\n<title>140249189674680</title>\n<polygon fill=\"#d3d3d3\" stroke=\"#000000\" points=\"713.5,-332 619.5,-332 619.5,-311 713.5,-311 713.5,-332\"/>\n<text text-anchor=\"middle\" x=\"666.5\" y=\"-318.4\" font-family=\"Times,serif\" font-size=\"12.00\" fill=\"#000000\">ReluBackward0</text>\n</g>\n<!-- 140249189674680&#45;&gt;140249189674792 -->\n<g id=\"edge6\" class=\"edge\">\n<title>140249189674680&#45;&gt;140249189674792</title>\n<path fill=\"none\" stroke=\"#000000\" d=\"M656.1549,-310.7787C648.4728,-302.8173 637.8169,-291.7739 628.8411,-282.4717\"/>\n<polygon fill=\"#000000\" stroke=\"#000000\" points=\"631.2611,-279.9391 621.7987,-275.1732 626.2237,-284.7997 631.2611,-279.9391\"/>\n</g>\n<!-- 140249189673504 -->\n<g id=\"node8\" class=\"node\">\n<title>140249189673504</title>\n<polygon fill=\"#d3d3d3\" stroke=\"#000000\" points=\"835.5,-389 683.5,-389 683.5,-368 835.5,-368 835.5,-389\"/>\n<text text-anchor=\"middle\" x=\"759.5\" y=\"-375.4\" font-family=\"Times,serif\" font-size=\"12.00\" fill=\"#000000\">NativeBatchNormBackward</text>\n</g>\n<!-- 140249189673504&#45;&gt;140249189674680 -->\n<g id=\"edge7\" class=\"edge\">\n<title>140249189673504&#45;&gt;140249189674680</title>\n<path fill=\"none\" stroke=\"#000000\" d=\"M742.0074,-367.7787C728.1083,-359.26 708.4523,-347.2127 692.6794,-337.5454\"/>\n<polygon fill=\"#000000\" stroke=\"#000000\" points=\"694.2692,-334.4147 683.9142,-332.1732 690.6112,-340.383 694.2692,-334.4147\"/>\n</g>\n<!-- 140249189674288 -->\n<g id=\"node9\" class=\"node\">\n<title>140249189674288</title>\n<polygon fill=\"#d3d3d3\" stroke=\"#000000\" points=\"764.5,-452.5 602.5,-452.5 602.5,-431.5 764.5,-431.5 764.5,-452.5\"/>\n<text text-anchor=\"middle\" x=\"683.5\" y=\"-438.9\" font-family=\"Times,serif\" font-size=\"12.00\" fill=\"#000000\">MkldnnConvolutionBackward</text>\n</g>\n<!-- 140249189674288&#45;&gt;140249189673504 -->\n<g id=\"edge8\" class=\"edge\">\n<title>140249189674288&#45;&gt;140249189673504</title>\n<path fill=\"none\" stroke=\"#000000\" d=\"M696.3924,-431.2281C708.0359,-421.4996 725.372,-407.0148 738.9295,-395.6872\"/>\n<polygon fill=\"#000000\" stroke=\"#000000\" points=\"741.3682,-398.2105 746.798,-389.1128 736.88,-392.8387 741.3682,-398.2105\"/>\n</g>\n<!-- 140249189673616 -->\n<g id=\"node10\" class=\"node\">\n<title>140249189673616</title>\n<polygon fill=\"#d3d3d3\" stroke=\"#000000\" points=\"622.5,-522.5 528.5,-522.5 528.5,-501.5 622.5,-501.5 622.5,-522.5\"/>\n<text text-anchor=\"middle\" x=\"575.5\" y=\"-508.9\" font-family=\"Times,serif\" font-size=\"12.00\" fill=\"#000000\">ReluBackward0</text>\n</g>\n<!-- 140249189673616&#45;&gt;140249189674792 -->\n<g id=\"edge28\" class=\"edge\">\n<title>140249189673616&#45;&gt;140249189674792</title>\n<path fill=\"none\" stroke=\"#000000\" d=\"M577.0469,-501.3652C582.5396,-463.6025 601.1678,-335.5341 608.4997,-285.1268\"/>\n<polygon fill=\"#000000\" stroke=\"#000000\" points=\"611.983,-285.4948 609.9589,-275.0951 605.0559,-284.4872 611.983,-285.4948\"/>\n</g>\n<!-- 140249189673616&#45;&gt;140249189674288 -->\n<g id=\"edge9\" class=\"edge\">\n<title>140249189673616&#45;&gt;140249189674288</title>\n<path fill=\"none\" stroke=\"#000000\" d=\"M591.9029,-501.3685C609.6881,-489.841 638.2754,-471.3123 658.7839,-458.0197\"/>\n<polygon fill=\"#000000\" stroke=\"#000000\" points=\"660.8087,-460.8782 667.2966,-452.5022 657.0014,-455.0041 660.8087,-460.8782\"/>\n</g>\n<!-- 140249186832456 -->\n<g id=\"node11\" class=\"node\">\n<title>140249186832456</title>\n<polygon fill=\"#d3d3d3\" stroke=\"#000000\" points=\"651.5,-586 499.5,-586 499.5,-565 651.5,-565 651.5,-586\"/>\n<text text-anchor=\"middle\" x=\"575.5\" y=\"-572.4\" font-family=\"Times,serif\" font-size=\"12.00\" fill=\"#000000\">NativeBatchNormBackward</text>\n</g>\n<!-- 140249186832456&#45;&gt;140249189673616 -->\n<g id=\"edge10\" class=\"edge\">\n<title>140249186832456&#45;&gt;140249189673616</title>\n<path fill=\"none\" stroke=\"#000000\" d=\"M575.5,-564.7281C575.5,-556.0091 575.5,-543.4699 575.5,-532.8068\"/>\n<polygon fill=\"#000000\" stroke=\"#000000\" points=\"579.0001,-532.6128 575.5,-522.6128 572.0001,-532.6129 579.0001,-532.6128\"/>\n</g>\n<!-- 140249186833016 -->\n<g id=\"node12\" class=\"node\">\n<title>140249186833016</title>\n<polygon fill=\"#d3d3d3\" stroke=\"#000000\" points=\"503.5,-649.5 341.5,-649.5 341.5,-628.5 503.5,-628.5 503.5,-649.5\"/>\n<text text-anchor=\"middle\" x=\"422.5\" y=\"-635.9\" font-family=\"Times,serif\" font-size=\"12.00\" fill=\"#000000\">MkldnnConvolutionBackward</text>\n</g>\n<!-- 140249186833016&#45;&gt;140249186832456 -->\n<g id=\"edge11\" class=\"edge\">\n<title>140249186833016&#45;&gt;140249186832456</title>\n<path fill=\"none\" stroke=\"#000000\" d=\"M448.1088,-628.3715C473.449,-617.8545 512.4237,-601.6787 540.5906,-589.9886\"/>\n<polygon fill=\"#000000\" stroke=\"#000000\" points=\"542.1683,-593.1233 550.0627,-586.0573 539.4849,-586.658 542.1683,-593.1233\"/>\n</g>\n<!-- 140249186833240 -->\n<g id=\"node13\" class=\"node\">\n<title>140249186833240</title>\n<polygon fill=\"#d3d3d3\" stroke=\"#000000\" points=\"363.5,-719.5 269.5,-719.5 269.5,-698.5 363.5,-698.5 363.5,-719.5\"/>\n<text text-anchor=\"middle\" x=\"316.5\" y=\"-705.9\" font-family=\"Times,serif\" font-size=\"12.00\" fill=\"#000000\">ReluBackward0</text>\n</g>\n<!-- 140249186833240&#45;&gt;140249186833016 -->\n<g id=\"edge12\" class=\"edge\">\n<title>140249186833240&#45;&gt;140249186833016</title>\n<path fill=\"none\" stroke=\"#000000\" d=\"M332.5991,-698.3685C350.055,-686.841 378.1129,-668.3123 398.2416,-655.0197\"/>\n<polygon fill=\"#000000\" stroke=\"#000000\" points=\"400.1808,-657.9335 406.5967,-649.5022 396.3233,-652.0922 400.1808,-657.9335\"/>\n</g>\n<!-- 140249186833464 -->\n<g id=\"node14\" class=\"node\">\n<title>140249186833464</title>\n<polygon fill=\"#d3d3d3\" stroke=\"#000000\" points=\"392.5,-783 240.5,-783 240.5,-762 392.5,-762 392.5,-783\"/>\n<text text-anchor=\"middle\" x=\"316.5\" y=\"-769.4\" font-family=\"Times,serif\" font-size=\"12.00\" fill=\"#000000\">NativeBatchNormBackward</text>\n</g>\n<!-- 140249186833464&#45;&gt;140249186833240 -->\n<g id=\"edge13\" class=\"edge\">\n<title>140249186833464&#45;&gt;140249186833240</title>\n<path fill=\"none\" stroke=\"#000000\" d=\"M316.5,-761.7281C316.5,-753.0091 316.5,-740.4699 316.5,-729.8068\"/>\n<polygon fill=\"#000000\" stroke=\"#000000\" points=\"320.0001,-729.6128 316.5,-719.6128 313.0001,-729.6129 320.0001,-729.6128\"/>\n</g>\n<!-- 140249186833520 -->\n<g id=\"node15\" class=\"node\">\n<title>140249186833520</title>\n<polygon fill=\"#d3d3d3\" stroke=\"#000000\" points=\"244.5,-846.5 82.5,-846.5 82.5,-825.5 244.5,-825.5 244.5,-846.5\"/>\n<text text-anchor=\"middle\" x=\"163.5\" y=\"-832.9\" font-family=\"Times,serif\" font-size=\"12.00\" fill=\"#000000\">MkldnnConvolutionBackward</text>\n</g>\n<!-- 140249186833520&#45;&gt;140249186833464 -->\n<g id=\"edge14\" class=\"edge\">\n<title>140249186833520&#45;&gt;140249186833464</title>\n<path fill=\"none\" stroke=\"#000000\" d=\"M189.1088,-825.3715C214.449,-814.8545 253.4237,-798.6787 281.5906,-786.9886\"/>\n<polygon fill=\"#000000\" stroke=\"#000000\" points=\"283.1683,-790.1233 291.0627,-783.0573 280.4849,-783.658 283.1683,-790.1233\"/>\n</g>\n<!-- 140249186833912 -->\n<g id=\"node16\" class=\"node\">\n<title>140249186833912</title>\n<polygon fill=\"#add8e6\" stroke=\"#000000\" points=\"81,-923 0,-923 0,-889 81,-889 81,-923\"/>\n<text text-anchor=\"middle\" x=\"40.5\" y=\"-909.4\" font-family=\"Times,serif\" font-size=\"12.00\" fill=\"#000000\">input</text>\n<text text-anchor=\"middle\" x=\"40.5\" y=\"-896.4\" font-family=\"Times,serif\" font-size=\"12.00\" fill=\"#000000\"> (1, 3, 32, 32)</text>\n</g>\n<!-- 140249186833912&#45;&gt;140249186833520 -->\n<g id=\"edge15\" class=\"edge\">\n<title>140249186833912&#45;&gt;140249186833520</title>\n<path fill=\"none\" stroke=\"#000000\" d=\"M70.5892,-888.8761C90.5142,-877.5366 116.4521,-862.7752 135.857,-851.7318\"/>\n<polygon fill=\"#000000\" stroke=\"#000000\" points=\"137.8433,-854.6285 144.8033,-846.6404 134.381,-848.5447 137.8433,-854.6285\"/>\n</g>\n<!-- 140249186834472 -->\n<g id=\"node17\" class=\"node\">\n<title>140249186834472</title>\n<polygon fill=\"#add8e6\" stroke=\"#000000\" points=\"227.5,-923 99.5,-923 99.5,-889 227.5,-889 227.5,-923\"/>\n<text text-anchor=\"middle\" x=\"163.5\" y=\"-909.4\" font-family=\"Times,serif\" font-size=\"12.00\" fill=\"#000000\">conv1.choices.0.weight</text>\n<text text-anchor=\"middle\" x=\"163.5\" y=\"-896.4\" font-family=\"Times,serif\" font-size=\"12.00\" fill=\"#000000\"> (32, 3, 3, 3)</text>\n</g>\n<!-- 140249186834472&#45;&gt;140249186833520 -->\n<g id=\"edge16\" class=\"edge\">\n<title>140249186834472&#45;&gt;140249186833520</title>\n<path fill=\"none\" stroke=\"#000000\" d=\"M163.5,-888.6966C163.5,-879.0634 163.5,-867.003 163.5,-856.8518\"/>\n<polygon fill=\"#000000\" stroke=\"#000000\" points=\"167.0001,-856.7912 163.5,-846.7913 160.0001,-856.7913 167.0001,-856.7912\"/>\n</g>\n<!-- 140249186833744 -->\n<g id=\"node18\" class=\"node\">\n<title>140249186833744</title>\n<polygon fill=\"#add8e6\" stroke=\"#000000\" points=\"361,-923 246,-923 246,-889 361,-889 361,-923\"/>\n<text text-anchor=\"middle\" x=\"303.5\" y=\"-909.4\" font-family=\"Times,serif\" font-size=\"12.00\" fill=\"#000000\">conv1.choices.0.bias</text>\n<text text-anchor=\"middle\" x=\"303.5\" y=\"-896.4\" font-family=\"Times,serif\" font-size=\"12.00\" fill=\"#000000\"> (32)</text>\n</g>\n<!-- 140249186833744&#45;&gt;140249186833520 -->\n<g id=\"edge17\" class=\"edge\">\n<title>140249186833744&#45;&gt;140249186833520</title>\n<path fill=\"none\" stroke=\"#000000\" d=\"M269.2521,-888.8761C246.1609,-877.3305 215.9746,-862.2373 193.7663,-851.1331\"/>\n<polygon fill=\"#000000\" stroke=\"#000000\" points=\"195.2904,-847.9821 184.7808,-846.6404 192.1598,-854.2431 195.2904,-847.9821\"/>\n</g>\n<!-- 140249186833352 -->\n<g id=\"node19\" class=\"node\">\n<title>140249186833352</title>\n<polygon fill=\"#add8e6\" stroke=\"#000000\" points=\"370.5,-853 262.5,-853 262.5,-819 370.5,-819 370.5,-853\"/>\n<text text-anchor=\"middle\" x=\"316.5\" y=\"-839.4\" font-family=\"Times,serif\" font-size=\"12.00\" fill=\"#000000\">batchnorm1.weight</text>\n<text text-anchor=\"middle\" x=\"316.5\" y=\"-826.4\" font-family=\"Times,serif\" font-size=\"12.00\" fill=\"#000000\"> (32)</text>\n</g>\n<!-- 140249186833352&#45;&gt;140249186833464 -->\n<g id=\"edge18\" class=\"edge\">\n<title>140249186833352&#45;&gt;140249186833464</title>\n<path fill=\"none\" stroke=\"#000000\" d=\"M316.5,-818.9832C316.5,-811.1157 316.5,-801.6973 316.5,-793.4019\"/>\n<polygon fill=\"#000000\" stroke=\"#000000\" points=\"320.0001,-793.3686 316.5,-783.3687 313.0001,-793.3687 320.0001,-793.3686\"/>\n</g>\n<!-- 140249186834248 -->\n<g id=\"node20\" class=\"node\">\n<title>140249186834248</title>\n<polygon fill=\"#add8e6\" stroke=\"#000000\" points=\"484,-853 389,-853 389,-819 484,-819 484,-853\"/>\n<text text-anchor=\"middle\" x=\"436.5\" y=\"-839.4\" font-family=\"Times,serif\" font-size=\"12.00\" fill=\"#000000\">batchnorm1.bias</text>\n<text text-anchor=\"middle\" x=\"436.5\" y=\"-826.4\" font-family=\"Times,serif\" font-size=\"12.00\" fill=\"#000000\"> (32)</text>\n</g>\n<!-- 140249186834248&#45;&gt;140249186833464 -->\n<g id=\"edge19\" class=\"edge\">\n<title>140249186834248&#45;&gt;140249186833464</title>\n<path fill=\"none\" stroke=\"#000000\" d=\"M404.3422,-818.9832C386.1833,-809.3741 363.6526,-797.4516 345.9561,-788.0872\"/>\n<polygon fill=\"#000000\" stroke=\"#000000\" points=\"347.1563,-784.7625 336.6804,-783.1788 343.8822,-790.9496 347.1563,-784.7625\"/>\n</g>\n<!-- 140249186833128 -->\n<g id=\"node21\" class=\"node\">\n<title>140249186833128</title>\n<polygon fill=\"#add8e6\" stroke=\"#000000\" points=\"463,-726 382,-726 382,-692 463,-692 463,-726\"/>\n<text text-anchor=\"middle\" x=\"422.5\" y=\"-712.4\" font-family=\"Times,serif\" font-size=\"12.00\" fill=\"#000000\">conv2.weight</text>\n<text text-anchor=\"middle\" x=\"422.5\" y=\"-699.4\" font-family=\"Times,serif\" font-size=\"12.00\" fill=\"#000000\"> (64, 32, 5, 5)</text>\n</g>\n<!-- 140249186833128&#45;&gt;140249186833016 -->\n<g id=\"edge20\" class=\"edge\">\n<title>140249186833128&#45;&gt;140249186833016</title>\n<path fill=\"none\" stroke=\"#000000\" d=\"M422.5,-691.6966C422.5,-682.0634 422.5,-670.003 422.5,-659.8518\"/>\n<polygon fill=\"#000000\" stroke=\"#000000\" points=\"426.0001,-659.7912 422.5,-649.7913 419.0001,-659.7913 426.0001,-659.7912\"/>\n</g>\n<!-- 140249186833576 -->\n<g id=\"node22\" class=\"node\">\n<title>140249186833576</title>\n<polygon fill=\"#add8e6\" stroke=\"#000000\" points=\"549.5,-726 481.5,-726 481.5,-692 549.5,-692 549.5,-726\"/>\n<text text-anchor=\"middle\" x=\"515.5\" y=\"-712.4\" font-family=\"Times,serif\" font-size=\"12.00\" fill=\"#000000\">conv2.bias</text>\n<text text-anchor=\"middle\" x=\"515.5\" y=\"-699.4\" font-family=\"Times,serif\" font-size=\"12.00\" fill=\"#000000\"> (64)</text>\n</g>\n<!-- 140249186833576&#45;&gt;140249186833016 -->\n<g id=\"edge21\" class=\"edge\">\n<title>140249186833576&#45;&gt;140249186833016</title>\n<path fill=\"none\" stroke=\"#000000\" d=\"M492.5112,-691.6966C477.9899,-680.7666 459.3172,-666.7119 444.9084,-655.8666\"/>\n<polygon fill=\"#000000\" stroke=\"#000000\" points=\"446.6577,-652.8025 436.5631,-649.5852 442.448,-658.3953 446.6577,-652.8025\"/>\n</g>\n<!-- 140249186833296 -->\n<g id=\"node23\" class=\"node\">\n<title>140249186833296</title>\n<polygon fill=\"#add8e6\" stroke=\"#000000\" points=\"629.5,-656 521.5,-656 521.5,-622 629.5,-622 629.5,-656\"/>\n<text text-anchor=\"middle\" x=\"575.5\" y=\"-642.4\" font-family=\"Times,serif\" font-size=\"12.00\" fill=\"#000000\">batchnorm2.weight</text>\n<text text-anchor=\"middle\" x=\"575.5\" y=\"-629.4\" font-family=\"Times,serif\" font-size=\"12.00\" fill=\"#000000\"> (64)</text>\n</g>\n<!-- 140249186833296&#45;&gt;140249186832456 -->\n<g id=\"edge22\" class=\"edge\">\n<title>140249186833296&#45;&gt;140249186832456</title>\n<path fill=\"none\" stroke=\"#000000\" d=\"M575.5,-621.9832C575.5,-614.1157 575.5,-604.6973 575.5,-596.4019\"/>\n<polygon fill=\"#000000\" stroke=\"#000000\" points=\"579.0001,-596.3686 575.5,-586.3687 572.0001,-596.3687 579.0001,-596.3686\"/>\n</g>\n<!-- 140249186833072 -->\n<g id=\"node24\" class=\"node\">\n<title>140249186833072</title>\n<polygon fill=\"#add8e6\" stroke=\"#000000\" points=\"743,-656 648,-656 648,-622 743,-622 743,-656\"/>\n<text text-anchor=\"middle\" x=\"695.5\" y=\"-642.4\" font-family=\"Times,serif\" font-size=\"12.00\" fill=\"#000000\">batchnorm2.bias</text>\n<text text-anchor=\"middle\" x=\"695.5\" y=\"-629.4\" font-family=\"Times,serif\" font-size=\"12.00\" fill=\"#000000\"> (64)</text>\n</g>\n<!-- 140249186833072&#45;&gt;140249186832456 -->\n<g id=\"edge23\" class=\"edge\">\n<title>140249186833072&#45;&gt;140249186832456</title>\n<path fill=\"none\" stroke=\"#000000\" d=\"M663.3422,-621.9832C645.1833,-612.3741 622.6526,-600.4516 604.9561,-591.0872\"/>\n<polygon fill=\"#000000\" stroke=\"#000000\" points=\"606.1563,-587.7625 595.6804,-586.1788 602.8822,-593.9496 606.1563,-587.7625\"/>\n</g>\n<!-- 140249186832624 -->\n<g id=\"node25\" class=\"node\">\n<title>140249186832624</title>\n<polygon fill=\"#add8e6\" stroke=\"#000000\" points=\"723,-529 642,-529 642,-495 723,-495 723,-529\"/>\n<text text-anchor=\"middle\" x=\"682.5\" y=\"-515.4\" font-family=\"Times,serif\" font-size=\"12.00\" fill=\"#000000\">conv3.weight</text>\n<text text-anchor=\"middle\" x=\"682.5\" y=\"-502.4\" font-family=\"Times,serif\" font-size=\"12.00\" fill=\"#000000\"> (64, 64, 1, 1)</text>\n</g>\n<!-- 140249186832624&#45;&gt;140249189674288 -->\n<g id=\"edge24\" class=\"edge\">\n<title>140249186832624&#45;&gt;140249189674288</title>\n<path fill=\"none\" stroke=\"#000000\" d=\"M682.7472,-494.6966C682.8848,-485.0634 683.0571,-473.003 683.2021,-462.8518\"/>\n<polygon fill=\"#000000\" stroke=\"#000000\" points=\"686.7025,-462.8403 683.3458,-452.7913 679.7033,-462.7402 686.7025,-462.8403\"/>\n</g>\n<!-- 140249186832736 -->\n<g id=\"node26\" class=\"node\">\n<title>140249186832736</title>\n<polygon fill=\"#add8e6\" stroke=\"#000000\" points=\"809.5,-529 741.5,-529 741.5,-495 809.5,-495 809.5,-529\"/>\n<text text-anchor=\"middle\" x=\"775.5\" y=\"-515.4\" font-family=\"Times,serif\" font-size=\"12.00\" fill=\"#000000\">conv3.bias</text>\n<text text-anchor=\"middle\" x=\"775.5\" y=\"-502.4\" font-family=\"Times,serif\" font-size=\"12.00\" fill=\"#000000\"> (64)</text>\n</g>\n<!-- 140249186832736&#45;&gt;140249189674288 -->\n<g id=\"edge25\" class=\"edge\">\n<title>140249186832736&#45;&gt;140249189674288</title>\n<path fill=\"none\" stroke=\"#000000\" d=\"M752.7584,-494.6966C738.3932,-483.7666 719.9213,-469.7119 705.6675,-458.8666\"/>\n<polygon fill=\"#000000\" stroke=\"#000000\" points=\"707.4896,-455.855 697.4119,-452.5852 703.2509,-461.4258 707.4896,-455.855\"/>\n</g>\n<!-- 140249189674736 -->\n<g id=\"node27\" class=\"node\">\n<title>140249189674736</title>\n<polygon fill=\"#add8e6\" stroke=\"#000000\" points=\"890.5,-459 782.5,-459 782.5,-425 890.5,-425 890.5,-459\"/>\n<text text-anchor=\"middle\" x=\"836.5\" y=\"-445.4\" font-family=\"Times,serif\" font-size=\"12.00\" fill=\"#000000\">batchnorm3.weight</text>\n<text text-anchor=\"middle\" x=\"836.5\" y=\"-432.4\" font-family=\"Times,serif\" font-size=\"12.00\" fill=\"#000000\"> (64)</text>\n</g>\n<!-- 140249189674736&#45;&gt;140249189673504 -->\n<g id=\"edge26\" class=\"edge\">\n<title>140249189674736&#45;&gt;140249189673504</title>\n<path fill=\"none\" stroke=\"#000000\" d=\"M815.8654,-424.9832C804.9318,-415.9665 791.5281,-404.9128 780.5351,-395.8471\"/>\n<polygon fill=\"#000000\" stroke=\"#000000\" points=\"782.6211,-393.0308 772.6793,-389.3687 778.1675,-398.4313 782.6211,-393.0308\"/>\n</g>\n<!-- 140249186833184 -->\n<g id=\"node28\" class=\"node\">\n<title>140249186833184</title>\n<polygon fill=\"#add8e6\" stroke=\"#000000\" points=\"1004,-459 909,-459 909,-425 1004,-425 1004,-459\"/>\n<text text-anchor=\"middle\" x=\"956.5\" y=\"-445.4\" font-family=\"Times,serif\" font-size=\"12.00\" fill=\"#000000\">batchnorm3.bias</text>\n<text text-anchor=\"middle\" x=\"956.5\" y=\"-432.4\" font-family=\"Times,serif\" font-size=\"12.00\" fill=\"#000000\"> (64)</text>\n</g>\n<!-- 140249186833184&#45;&gt;140249189673504 -->\n<g id=\"edge27\" class=\"edge\">\n<title>140249186833184&#45;&gt;140249189673504</title>\n<path fill=\"none\" stroke=\"#000000\" d=\"M908.8118,-426.6284C876.2394,-416.1292 833.4586,-402.3395 802.0424,-392.2129\"/>\n<polygon fill=\"#000000\" stroke=\"#000000\" points=\"802.8606,-388.7993 792.269,-389.0626 800.713,-395.4618 802.8606,-388.7993\"/>\n</g>\n<!-- 140249189674960 -->\n<g id=\"node29\" class=\"node\">\n<title>140249189674960</title>\n<polygon fill=\"#d3d3d3\" stroke=\"#000000\" points=\"786,-141.5 713,-141.5 713,-120.5 786,-120.5 786,-141.5\"/>\n<text text-anchor=\"middle\" x=\"749.5\" y=\"-127.9\" font-family=\"Times,serif\" font-size=\"12.00\" fill=\"#000000\">TBackward</text>\n</g>\n<!-- 140249189674960&#45;&gt;140249189673896 -->\n<g id=\"edge29\" class=\"edge\">\n<title>140249189674960&#45;&gt;140249189673896</title>\n<path fill=\"none\" stroke=\"#000000\" d=\"M728.5778,-120.3715C708.2977,-110.0692 677.3286,-94.3369 654.4412,-82.7101\"/>\n<polygon fill=\"#000000\" stroke=\"#000000\" points=\"655.9912,-79.5719 645.4904,-78.1631 652.8208,-85.8128 655.9912,-79.5719\"/>\n</g>\n<!-- 140249189674232 -->\n<g id=\"node30\" class=\"node\">\n<title>140249189674232</title>\n<polygon fill=\"#add8e6\" stroke=\"#000000\" points=\"802.5,-218 720.5,-218 720.5,-184 802.5,-184 802.5,-218\"/>\n<text text-anchor=\"middle\" x=\"761.5\" y=\"-204.4\" font-family=\"Times,serif\" font-size=\"12.00\" fill=\"#000000\">output.weight</text>\n<text text-anchor=\"middle\" x=\"761.5\" y=\"-191.4\" font-family=\"Times,serif\" font-size=\"12.00\" fill=\"#000000\"> (10, 256)</text>\n</g>\n<!-- 140249189674232&#45;&gt;140249189674960 -->\n<g id=\"edge30\" class=\"edge\">\n<title>140249189674232&#45;&gt;140249189674960</title>\n<path fill=\"none\" stroke=\"#000000\" d=\"M758.5337,-183.6966C756.8823,-174.0634 754.8148,-162.003 753.0746,-151.8518\"/>\n<polygon fill=\"#000000\" stroke=\"#000000\" points=\"756.4893,-151.0561 751.3499,-141.7913 749.59,-152.2389 756.4893,-151.0561\"/>\n</g>\n</g>\n</svg>\n"
     },
     "metadata": {},
     "execution_count": 5
    }
   ],
   "source": [
    "x = torch.Tensor(dataset_train.data[0].reshape((1, 3, 32, 32))).requires_grad_(True)\n",
    "y = model(x)\n",
    "y.requires_grad_(True)\n",
    "dot = make_dot(y, params=dict([('output', y)] + list(model.named_parameters()) + [('input', x)]))\n",
    "dot"
   ]
  },
  {
   "cell_type": "markdown",
   "metadata": {},
   "source": [
    "### Graph representation"
   ]
  },
  {
   "cell_type": "markdown",
   "metadata": {},
   "source": [
    "__Goal__: In this section, we want to parse a graph generated by pytorch. Pytorch provided a graph as a list of module but in order to manipulate this graph that represent a network architecture, we need to have acces to its basical attributes such as :\n",
    "- the adjacency matrix\n",
    "- the list of nodes\n",
    "- A matrix that encode paramaters of each graph's nodes.\n",
    "\n",
    "__Experimentation__: Code functions that enable user to parse a list of pytorch modules in order to get basical graph's attributs."
   ]
  },
  {
   "cell_type": "code",
   "execution_count": 6,
   "metadata": {},
   "outputs": [
    {
     "output_type": "execute_result",
     "data": {
      "text/plain": "[('input', torch.Size([1, 3, 32, 32])),\n ('conv1', conv1 (LayerChoice1)),\n ('conv1.choices',\n  ModuleList(\n    (0): Conv2d(3, 32, kernel_size=(3, 3), stride=(3, 3))\n    (1): Conv2d(3, 32, kernel_size=(5, 5), stride=(3, 3))\n  )),\n ('conv1.choices.0', Conv2d(3, 32, kernel_size=(3, 3), stride=(3, 3))),\n ('conv1.choices.1', Conv2d(3, 32, kernel_size=(5, 5), stride=(3, 3))),\n ('relu1', ReLU()),\n ('batchnorm1',\n  BatchNorm2d(32, eps=1e-05, momentum=0.1, affine=True, track_running_stats=True)),\n ('conv2', Conv2d(32, 64, kernel_size=(5, 5), stride=(1, 1))),\n ('relu2', ReLU()),\n ('batchnorm2',\n  BatchNorm2d(64, eps=1e-05, momentum=0.1, affine=True, track_running_stats=True)),\n ('skipcon1', skipcon1 (relu2->relu3)),\n ('conv3', Conv2d(64, 64, kernel_size=(1, 1), stride=(1, 1))),\n ('relu3', ReLU()),\n ('batchnorm3',\n  BatchNorm2d(64, eps=1e-05, momentum=0.1, affine=True, track_running_stats=True)),\n ('maxpool3x3',\n  MaxPool2d(kernel_size=3, stride=3, padding=0, dilation=1, ceil_mode=False)),\n ('output', Linear(in_features=256, out_features=10, bias=True)),\n ('output', torch.Size([1, 10]))]"
     },
     "metadata": {},
     "execution_count": 6
    }
   ],
   "source": [
    "# Example of a list of modules\n",
    "modules = [('input', x.shape)] + list(model.named_modules())[1:] + [('output', y.shape)]\n",
    "modules"
   ]
  },
  {
   "cell_type": "code",
   "execution_count": 17,
   "metadata": {},
   "outputs": [],
   "source": [
    "graph_generator = GraphGenerator()\n",
    "graph_generator.parse_modules(modules[:10])\n",
    "graph = graph_generator.generate()"
   ]
  },
  {
   "cell_type": "code",
   "execution_count": 18,
   "metadata": {},
   "outputs": [
    {
     "output_type": "execute_result",
     "data": {
      "text/plain": "{0: ('input', 'torch.Size([1, 3, 32, 32])'),\n 1: array(['conv1.choices',\n        'Conv2d(3, 32, kernel_size=(5, 5), stride=(3, 3))'], dtype='<U48'),\n 2: ('relu1', 'ReLU()'),\n 3: ('batchnorm1',\n  'BatchNorm2d(32, eps=1e-05, momentum=0.1, affine=True, track_running_stats=True)'),\n 4: ('conv2', 'Conv2d(32, 64, kernel_size=(5, 5), stride=(1, 1))'),\n 5: ('relu2', 'ReLU()'),\n 6: ('batchnorm2',\n  'BatchNorm2d(64, eps=1e-05, momentum=0.1, affine=True, track_running_stats=True)')}"
     },
     "metadata": {},
     "execution_count": 18
    }
   ],
   "source": [
    "graph"
   ]
  },
  {
   "cell_type": "code",
   "execution_count": 19,
   "metadata": {
    "colab": {},
    "colab_type": "code",
    "id": "iUu6XBMfTmvp"
   },
   "outputs": [
    {
     "output_type": "execute_result",
     "data": {
      "text/plain": "{'adjacency': <7x7 sparse matrix of type '<class 'numpy.float32'>'\n \twith 6 stored elements in COOrdinate format>,\n 'edges': array([[0, 1],\n        [1, 2],\n        [2, 3],\n        [3, 4],\n        [4, 5],\n        [5, 6]]),\n 'features': array([[0.     , 5.     , 0.     , 0.     , 5.     , 0.     , 0.     ],\n        [0.     , 3.     , 0.     , 0.     , 1.     , 0.     , 0.     ],\n        [0.     , 0.     , 0.     , 0.1    , 0.     , 0.     , 0.1    ],\n        [0.     , 0.     , 0.     , 0.00001, 0.     , 0.     , 0.00001],\n        [0.     , 0.     , 0.     , 1.     , 0.     , 0.     , 1.     ],\n        [0.     , 0.     , 0.     , 1.     , 0.     , 0.     , 1.     ],\n        [0.     , 0.     , 0.     , 0.     , 0.     , 0.     , 0.     ],\n        [0.     , 0.     , 0.     , 0.     , 0.     , 0.     , 0.     ],\n        [0.     , 0.     , 0.     , 0.     , 0.     , 0.     , 0.     ],\n        [0.     , 0.     , 0.     , 0.     , 0.     , 0.     , 0.     ]]),\n 'nodes': {0: ['torch.size'],\n  1: ['conv2d', 'kernel_size=5', 'stride=3'],\n  2: ['relu'],\n  3: ['batchnorm2d',\n   'eps=1e-05',\n   'momentum=0.1',\n   'affine=true',\n   'track_running_stats=true'],\n  4: ['conv2d', 'kernel_size=5', 'stride=1'],\n  5: ['relu'],\n  6: ['batchnorm2d',\n   'eps=1e-05',\n   'momentum=0.1',\n   'affine=true',\n   'track_running_stats=true']}}"
     },
     "metadata": {},
     "execution_count": 19
    }
   ],
   "source": [
    "parameters = ['kernel_size', 'stride', 'momentum', 'eps',\n",
    "              'track_running_stats', 'affine', 'ceil_mode', 'padding', 'bias', 'dilatation']\n",
    "parameters_to_id = {parameter: i for i,parameter in enumerate(parameters)}\n",
    "\n",
    "graph = g.get_graph_attribut(graph, symetric=False, dict_params=parameters_to_id)\n",
    "graph"
   ]
  },
  {
   "cell_type": "code",
   "execution_count": 10,
   "metadata": {},
   "outputs": [],
   "source": []
  },
  {
   "cell_type": "markdown",
   "metadata": {},
   "source": [
    "__Results__: By using the same API that `scikit-network`, we store our graph's attribut in an instance of `Bunch` class."
   ]
  },
  {
   "cell_type": "markdown",
   "metadata": {},
   "source": [
    "### Graph embedding"
   ]
  },
  {
   "cell_type": "markdown",
   "metadata": {},
   "source": [
    "__Goal__: Obtain a low dimensional space representing the graphs. This space need to be continuous to enable the use of gradient based optimisation techniques. \n",
    "\n",
    "__Experimentation__: Experiment several graph embedding techniques such as :\n",
    "- matrix factorization (SVD)\n",
    "- GAE"
   ]
  },
  {
   "cell_type": "code",
   "execution_count": null,
   "metadata": {},
   "outputs": [],
   "source": [
    "from sknetwork.data import karate_club, painters, movie_actor\n",
    "from sknetwork.embedding import SVD, cosine_modularity\n",
    "from sknetwork.visualization import svg_graph, svg_digraph, svg_bigraph\n",
    "import matplotlib.pyplot as plt"
   ]
  },
  {
   "cell_type": "code",
   "execution_count": null,
   "metadata": {},
   "outputs": [],
   "source": [
    "graph = karate_club(metadata=True)"
   ]
  },
  {
   "cell_type": "code",
   "execution_count": null,
   "metadata": {},
   "outputs": [],
   "source": [
    "from sknetwork.embedding import SVD, cosine_modularity\n",
    "svd = SVD(3)\n",
    "embedding = svd.fit_transform(np.array(adj.todense()))\n",
    "embedding.shape"
   ]
  },
  {
   "cell_type": "code",
   "execution_count": null,
   "metadata": {},
   "outputs": [],
   "source": [
    "plt.scatter(embedding[:, 1], embedding[:, 2])"
   ]
  },
  {
   "cell_type": "code",
   "execution_count": null,
   "metadata": {},
   "outputs": [],
   "source": [
    "graph"
   ]
  },
  {
   "cell_type": "code",
   "execution_count": null,
   "metadata": {},
   "outputs": [],
   "source": [
    "svd = SVD(3)\n",
    "embedding = svd.fit_transform(adj)\n",
    "embedding.shape"
   ]
  },
  {
   "cell_type": "code",
   "execution_count": null,
   "metadata": {},
   "outputs": [],
   "source": [
    "from sknetwork.visualization import svg_graph, svg_digraph, svg_bigraph\n",
    "from IPython.display import SVG\n",
    "from sknetwork.data import parse_tsv"
   ]
  },
  {
   "cell_type": "code",
   "execution_count": null,
   "metadata": {},
   "outputs": [],
   "source": [
    "image = svg_graph(adj)\n",
    "SVG(image)"
   ]
  },
  {
   "cell_type": "code",
   "execution_count": null,
   "metadata": {},
   "outputs": [],
   "source": [
    "graph = parse_tsv(str(data_path / 'test_graph.csv'), delimiter=',', weighted=False, directed=True)"
   ]
  },
  {
   "cell_type": "code",
   "execution_count": null,
   "metadata": {},
   "outputs": [],
   "source": [
    "adj = np.array(graph.adjacency.todense())\n",
    "adj"
   ]
  },
  {
   "cell_type": "code",
   "execution_count": null,
   "metadata": {},
   "outputs": [],
   "source": [
    "image = svg_graph(adj)\n",
    "SVG(image)"
   ]
  },
  {
   "cell_type": "code",
   "execution_count": null,
   "metadata": {},
   "outputs": [],
   "source": [
    "graph.names"
   ]
  },
  {
   "cell_type": "code",
   "execution_count": null,
   "metadata": {},
   "outputs": [],
   "source": [
    "graph"
   ]
  },
  {
   "cell_type": "code",
   "execution_count": null,
   "metadata": {},
   "outputs": [],
   "source": [
    "from sknetwork.data import erdos_renyie, block_model, linear_graph, cyclic_graph, linear_digraph, cyclic_digraph"
   ]
  },
  {
   "cell_type": "code",
   "execution_count": null,
   "metadata": {},
   "outputs": [],
   "source": [
    "graph = linear_digraph(8, metadata=True)\n",
    "adjacency = graph.adjacency\n",
    "position = graph.position"
   ]
  },
  {
   "cell_type": "code",
   "execution_count": null,
   "metadata": {},
   "outputs": [],
   "source": [
    "graph"
   ]
  },
  {
   "cell_type": "code",
   "execution_count": null,
   "metadata": {},
   "outputs": [],
   "source": [
    "from scipy import sparse\n",
    "\n",
    "row = np.array(\n",
    "        [0, 0, 1, 1, 2, 3, 3, 3, 3, 3, 4, 4, 4, 5, 5, 5, 5,\n",
    "         6, 6, 7, 7, 7, 7, 7, 7, 8, 8, 8, 8, 8, 8, 8, 9, 9,\n",
    "         10, 10, 10, 10, 10, 11, 11, 11, 11, 11, 12, 12, 12, 12, 13, 13])\n",
    "col = np.array(\n",
    "        [3, 10, 3, 12, 9, 0, 1, 7, 11, 12, 2, 5, 9, 2, 4, 8, 9,\n",
    "         0, 13, 1, 2, 3, 8, 11, 12, 0, 1, 4, 5, 7, 10, 11, 2, 4,\n",
    "         0, 3, 8, 11, 12, 0, 1, 3, 10, 12, 1, 3, 4, 7, 6, 8])\n",
    "adjacency = sparse.csr_matrix((np.ones(len(row), dtype=int), (row, col)), shape=(14, 14))"
   ]
  },
  {
   "cell_type": "code",
   "execution_count": null,
   "metadata": {},
   "outputs": [],
   "source": [
    "adjacency.todense()"
   ]
  },
  {
   "cell_type": "code",
   "execution_count": null,
   "metadata": {},
   "outputs": [],
   "source": [
    "col.shape"
   ]
  },
  {
   "cell_type": "code",
   "execution_count": null,
   "metadata": {},
   "outputs": [],
   "source": [
    "np.ones(len(row), dtype=int)"
   ]
  },
  {
   "cell_type": "code",
   "execution_count": null,
   "metadata": {},
   "outputs": [],
   "source": []
  }
 ],
 "metadata": {
  "accelerator": "GPU",
  "colab": {
   "authorship_tag": "ABX9TyMekPH/vNJW1JlfMK+qprMe",
   "name": "test_nni.ipynb",
   "provenance": []
  },
  "kernelspec": {
   "display_name": "Python 3",
   "language": "python",
   "name": "python3"
  },
  "language_info": {
   "codemirror_mode": {
    "name": "ipython",
    "version": 3
   },
   "file_extension": ".py",
   "mimetype": "text/x-python",
   "name": "python",
   "nbconvert_exporter": "python",
   "pygments_lexer": "ipython3",
   "version": "3.6.10-final"
  },
  "widgets": {
   "application/vnd.jupyter.widget-state+json": {
    "26c538088f8b44ebb69ddee25dc7842a": {
     "model_module": "@jupyter-widgets/base",
     "model_name": "LayoutModel",
     "state": {
      "_model_module": "@jupyter-widgets/base",
      "_model_module_version": "1.2.0",
      "_model_name": "LayoutModel",
      "_view_count": null,
      "_view_module": "@jupyter-widgets/base",
      "_view_module_version": "1.2.0",
      "_view_name": "LayoutView",
      "align_content": null,
      "align_items": null,
      "align_self": null,
      "border": null,
      "bottom": null,
      "display": null,
      "flex": null,
      "flex_flow": null,
      "grid_area": null,
      "grid_auto_columns": null,
      "grid_auto_flow": null,
      "grid_auto_rows": null,
      "grid_column": null,
      "grid_gap": null,
      "grid_row": null,
      "grid_template_areas": null,
      "grid_template_columns": null,
      "grid_template_rows": null,
      "height": null,
      "justify_content": null,
      "justify_items": null,
      "left": null,
      "margin": null,
      "max_height": null,
      "max_width": null,
      "min_height": null,
      "min_width": null,
      "object_fit": null,
      "object_position": null,
      "order": null,
      "overflow": null,
      "overflow_x": null,
      "overflow_y": null,
      "padding": null,
      "right": null,
      "top": null,
      "visibility": null,
      "width": null
     }
    },
    "3bb483571e9447a7a8d800dcc9c1a3b7": {
     "model_module": "@jupyter-widgets/controls",
     "model_name": "DescriptionStyleModel",
     "state": {
      "_model_module": "@jupyter-widgets/controls",
      "_model_module_version": "1.5.0",
      "_model_name": "DescriptionStyleModel",
      "_view_count": null,
      "_view_module": "@jupyter-widgets/base",
      "_view_module_version": "1.2.0",
      "_view_name": "StyleView",
      "description_width": ""
     }
    },
    "5d6293f1bda041a18cfb8f3557cba6e8": {
     "model_module": "@jupyter-widgets/base",
     "model_name": "LayoutModel",
     "state": {
      "_model_module": "@jupyter-widgets/base",
      "_model_module_version": "1.2.0",
      "_model_name": "LayoutModel",
      "_view_count": null,
      "_view_module": "@jupyter-widgets/base",
      "_view_module_version": "1.2.0",
      "_view_name": "LayoutView",
      "align_content": null,
      "align_items": null,
      "align_self": null,
      "border": null,
      "bottom": null,
      "display": null,
      "flex": null,
      "flex_flow": null,
      "grid_area": null,
      "grid_auto_columns": null,
      "grid_auto_flow": null,
      "grid_auto_rows": null,
      "grid_column": null,
      "grid_gap": null,
      "grid_row": null,
      "grid_template_areas": null,
      "grid_template_columns": null,
      "grid_template_rows": null,
      "height": null,
      "justify_content": null,
      "justify_items": null,
      "left": null,
      "margin": null,
      "max_height": null,
      "max_width": null,
      "min_height": null,
      "min_width": null,
      "object_fit": null,
      "object_position": null,
      "order": null,
      "overflow": null,
      "overflow_x": null,
      "overflow_y": null,
      "padding": null,
      "right": null,
      "top": null,
      "visibility": null,
      "width": null
     }
    },
    "64b0a84c5e304a0fbc8d702a2a76080f": {
     "model_module": "@jupyter-widgets/controls",
     "model_name": "ProgressStyleModel",
     "state": {
      "_model_module": "@jupyter-widgets/controls",
      "_model_module_version": "1.5.0",
      "_model_name": "ProgressStyleModel",
      "_view_count": null,
      "_view_module": "@jupyter-widgets/base",
      "_view_module_version": "1.2.0",
      "_view_name": "StyleView",
      "bar_color": null,
      "description_width": ""
     }
    },
    "ac5588d52ff944cca5be3f4aebc0129d": {
     "model_module": "@jupyter-widgets/base",
     "model_name": "LayoutModel",
     "state": {
      "_model_module": "@jupyter-widgets/base",
      "_model_module_version": "1.2.0",
      "_model_name": "LayoutModel",
      "_view_count": null,
      "_view_module": "@jupyter-widgets/base",
      "_view_module_version": "1.2.0",
      "_view_name": "LayoutView",
      "align_content": null,
      "align_items": null,
      "align_self": null,
      "border": null,
      "bottom": null,
      "display": null,
      "flex": null,
      "flex_flow": null,
      "grid_area": null,
      "grid_auto_columns": null,
      "grid_auto_flow": null,
      "grid_auto_rows": null,
      "grid_column": null,
      "grid_gap": null,
      "grid_row": null,
      "grid_template_areas": null,
      "grid_template_columns": null,
      "grid_template_rows": null,
      "height": null,
      "justify_content": null,
      "justify_items": null,
      "left": null,
      "margin": null,
      "max_height": null,
      "max_width": null,
      "min_height": null,
      "min_width": null,
      "object_fit": null,
      "object_position": null,
      "order": null,
      "overflow": null,
      "overflow_x": null,
      "overflow_y": null,
      "padding": null,
      "right": null,
      "top": null,
      "visibility": null,
      "width": null
     }
    },
    "b8419cde07a44d058d5522283f3b76f1": {
     "model_module": "@jupyter-widgets/controls",
     "model_name": "HBoxModel",
     "state": {
      "_dom_classes": [],
      "_model_module": "@jupyter-widgets/controls",
      "_model_module_version": "1.5.0",
      "_model_name": "HBoxModel",
      "_view_count": null,
      "_view_module": "@jupyter-widgets/controls",
      "_view_module_version": "1.5.0",
      "_view_name": "HBoxView",
      "box_style": "",
      "children": [
       "IPY_MODEL_e2e59a38051e483bbbb1d13b72fa563c",
       "IPY_MODEL_d35a80e88fab44068f7270aa63196bcf"
      ],
      "layout": "IPY_MODEL_ac5588d52ff944cca5be3f4aebc0129d"
     }
    },
    "d35a80e88fab44068f7270aa63196bcf": {
     "model_module": "@jupyter-widgets/controls",
     "model_name": "HTMLModel",
     "state": {
      "_dom_classes": [],
      "_model_module": "@jupyter-widgets/controls",
      "_model_module_version": "1.5.0",
      "_model_name": "HTMLModel",
      "_view_count": null,
      "_view_module": "@jupyter-widgets/controls",
      "_view_module_version": "1.5.0",
      "_view_name": "HTMLView",
      "description": "",
      "description_tooltip": null,
      "layout": "IPY_MODEL_5d6293f1bda041a18cfb8f3557cba6e8",
      "placeholder": "​",
      "style": "IPY_MODEL_3bb483571e9447a7a8d800dcc9c1a3b7",
      "value": "170500096it [00:04, 42227376.46it/s]"
     }
    },
    "e2e59a38051e483bbbb1d13b72fa563c": {
     "model_module": "@jupyter-widgets/controls",
     "model_name": "IntProgressModel",
     "state": {
      "_dom_classes": [],
      "_model_module": "@jupyter-widgets/controls",
      "_model_module_version": "1.5.0",
      "_model_name": "IntProgressModel",
      "_view_count": null,
      "_view_module": "@jupyter-widgets/controls",
      "_view_module_version": "1.5.0",
      "_view_name": "ProgressView",
      "bar_style": "success",
      "description": "",
      "description_tooltip": null,
      "layout": "IPY_MODEL_26c538088f8b44ebb69ddee25dc7842a",
      "max": 1,
      "min": 0,
      "orientation": "horizontal",
      "style": "IPY_MODEL_64b0a84c5e304a0fbc8d702a2a76080f",
      "value": 1
     }
    }
   }
  }
 },
 "nbformat": 4,
 "nbformat_minor": 4
}